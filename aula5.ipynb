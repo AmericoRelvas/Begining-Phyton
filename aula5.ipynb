{
  "nbformat": 4,
  "nbformat_minor": 0,
  "metadata": {
    "colab": {
      "provenance": []
    },
    "kernelspec": {
      "name": "python3",
      "display_name": "Python 3"
    },
    "language_info": {
      "name": "python"
    }
  },
  "cells": [
    {
      "cell_type": "code",
      "execution_count": 1,
      "metadata": {
        "colab": {
          "base_uri": "https://localhost:8080/"
        },
        "id": "aAq4YstWFkWh",
        "outputId": "cb2efacd-f119-4800-c690-4dfd8ddf3a10"
      },
      "outputs": [
        {
          "output_type": "stream",
          "name": "stdout",
          "text": [
            "True\n",
            "False\n"
          ]
        }
      ],
      "source": [
        "nomes = 'João Marcela Sonia Daryl Vernon Eder Mechelle Edan Igor Ethan Reed Travis Hoyt'.split()\n",
        "print('Marcela' in nomes)\n",
        "print('Roberto' in nomes)"
      ]
    },
    {
      "cell_type": "code",
      "source": [
        "def executar_busca_linear(lista, valor):\n",
        "    for elemento in lista:\n",
        "        if valor == elemento:\n",
        "            return True\n",
        "    return False\n",
        "\n",
        "import random\n",
        "lista = random.sample(range(1000), 50)\n",
        "print(sorted(lista))\n",
        "executar_busca_linear(lista, 10)\n",
        "\n"
      ],
      "metadata": {
        "colab": {
          "base_uri": "https://localhost:8080/"
        },
        "id": "GcFMgqwKGcDc",
        "outputId": "589809e3-307a-431c-9d68-b1969e64f2dd"
      },
      "execution_count": 6,
      "outputs": [
        {
          "output_type": "stream",
          "name": "stdout",
          "text": [
            "[27, 33, 48, 114, 139, 150, 158, 167, 174, 194, 206, 243, 259, 278, 291, 345, 348, 359, 439, 444, 455, 465, 480, 486, 492, 526, 542, 584, 652, 709, 724, 763, 771, 785, 790, 799, 820, 823, 836, 852, 859, 863, 887, 901, 915, 916, 953, 976, 992, 997]\n"
          ]
        },
        {
          "output_type": "execute_result",
          "data": {
            "text/plain": [
              "False"
            ]
          },
          "metadata": {},
          "execution_count": 6
        }
      ]
    },
    {
      "cell_type": "code",
      "source": [
        "vogais = 'aeiou'\n",
        "resultado = vogais.index('e')\n",
        "print(resultado)"
      ],
      "metadata": {
        "colab": {
          "base_uri": "https://localhost:8080/"
        },
        "id": "TGmxndKWHeSe",
        "outputId": "36c2604a-0ebb-4645-ade4-1355de9a863c"
      },
      "execution_count": 7,
      "outputs": [
        {
          "output_type": "stream",
          "name": "stdout",
          "text": [
            "1\n"
          ]
        }
      ]
    },
    {
      "cell_type": "code",
      "source": [
        "def procurar_valor(lista, valor):\n",
        "    tamanho_lista = len(lista)\n",
        "    for i in range(tamanho_lista):\n",
        "        if valor == lista[i]:\n",
        "            return i\n",
        "    return None\n",
        "\n",
        "vogais = 'aeiou'\n",
        "resultado = procurar_valor(lista=vogais, valor='a')\n",
        "if resultado != None:\n",
        "    print(f\"Valor encontrado na posição {resultado}\")\n",
        "else:\n",
        "    print(\"Valor não encontrado\")"
      ],
      "metadata": {
        "colab": {
          "base_uri": "https://localhost:8080/"
        },
        "id": "8myKHHwCIC1m",
        "outputId": "ebce8128-8197-4c87-a6fb-50605fd6a4e7"
      },
      "execution_count": 9,
      "outputs": [
        {
          "output_type": "stream",
          "name": "stdout",
          "text": [
            "Valor encontrado na posição 0\n"
          ]
        }
      ]
    },
    {
      "cell_type": "code",
      "source": [
        "def procurar_valor(lista, valor):\n",
        "    tamanho_lista = len(lista)\n",
        "    for i in range(tamanho_lista):\n",
        "        if valor == lista[i]:\n",
        "            return i\n",
        "    return None   \n",
        "def testar_resultado(resultado):\n",
        "  if resultado:\n",
        "      print(f\"Valor encontrado an posição {resultado}\")\n",
        "  else:\n",
        "      print(\"Valor não encontrado\")  \n",
        "vogais = ['a', 'e', 'i', 'o', 'u']\n",
        "# Usando nossa função\n",
        "resultado = procurar_valor(lista=vogais, valor='o')\n",
        "testar_resultado(resultado)\n",
        "# Usando a função index - descomente as linhas a seguir para testar\n",
        "#resultado = vogais.index('z')\n",
        "#testar_resultado(resultado)"
      ],
      "metadata": {
        "colab": {
          "base_uri": "https://localhost:8080/"
        },
        "id": "_ExWVAWdItWY",
        "outputId": "d63a88d2-8f2d-464a-e0c6-603ad1e1eddd"
      },
      "execution_count": 31,
      "outputs": [
        {
          "output_type": "stream",
          "name": "stdout",
          "text": [
            "Valor encontrado an posição 3\n"
          ]
        }
      ]
    },
    {
      "cell_type": "code",
      "source": [
        "def executar_busca_binaria(lista, valor):\n",
        "    minimo = 0\n",
        "    maximo = len(lista) - 1\n",
        "    while minimo <= maximo:\n",
        "        # Encontra o elemento que divide a lista ao meio\n",
        "        meio = (minimo + maximo) // 2\n",
        "        # Verifica se o valor procurado está a esquerda ou direita do valor central\n",
        "        if valor < lista[meio]:\n",
        "            maximo = meio - 1\n",
        "        elif valor > lista[meio]:\n",
        "            minimo = meio + 1\n",
        "        else:\n",
        "            return True # Se o valor for encontrado para aqui\n",
        "    return False # Se chegar até aqui, significa que o valor não foi encontrado\n",
        "\n",
        "lista = list(range(1, 50))\n",
        "\n",
        "print(lista)\n",
        "\n",
        "print('\\n',executar_busca_binaria(lista=lista, valor=10))\n",
        "print('\\n', executar_busca_binaria(lista=lista, valor=200))"
      ],
      "metadata": {
        "colab": {
          "base_uri": "https://localhost:8080/"
        },
        "id": "C2F5QZLNQHkv",
        "outputId": "2734d87e-acf4-42ac-b9e3-d4bbca1a5ebe"
      },
      "execution_count": 33,
      "outputs": [
        {
          "output_type": "stream",
          "name": "stdout",
          "text": [
            "[1, 2, 3, 4, 5, 6, 7, 8, 9, 10, 11, 12, 13, 14, 15, 16, 17, 18, 19, 20, 21, 22, 23, 24, 25, 26, 27, 28, 29, 30, 31, 32, 33, 34, 35, 36, 37, 38, 39, 40, 41, 42, 43, 44, 45, 46, 47, 48, 49]\n",
            "\n",
            " True\n",
            "\n",
            " False\n"
          ]
        }
      ]
    },
    {
      "cell_type": "code",
      "source": [
        "def procurar_valor(lista, valor):\n",
        "    minimo = 0\n",
        "    maximo = len(lista) - 1\n",
        "    while minimo <= maximo:\n",
        "        meio = (minimo + maximo) // 2\n",
        "        if valor < lista[meio]:\n",
        "            maximo = meio - 1\n",
        "        elif valor > lista[meio]:\n",
        "            minimo = meio + 1\n",
        "        else:\n",
        "            return meio \n",
        "    return None\n",
        "\n",
        "vogais = ['a', 'e', 'i', 'o', 'u']\n",
        "resultado = procurar_valor(lista=vogais, valor='o')\n",
        "if resultado:\n",
        "    print(f\"Valor encontrado na posição {resultado}\")\n",
        "else:\n",
        "    print(\"Valor não encontrado\")\n"
      ],
      "metadata": {
        "colab": {
          "base_uri": "https://localhost:8080/"
        },
        "id": "-zBc28b-R1_G",
        "outputId": "44e368fb-edb3-49e6-eb1f-729b64a8b55f"
      },
      "execution_count": 35,
      "outputs": [
        {
          "output_type": "stream",
          "name": "stdout",
          "text": [
            "Valor encontrado na posição 3\n"
          ]
        }
      ]
    },
    {
      "cell_type": "code",
      "source": [
        "# Parte 1 - Implementar o algoritmo de busca linear\n",
        "def executar_busca_linear(lista, valor):\n",
        "    tamanho_lista = len(lista)\n",
        "    for i in range(tamanho_lista):\n",
        "        if valor == lista[i]:\n",
        "            return True\n",
        "    return False\n",
        "\n",
        "# Parte 2 - Criar a função que faz o dedup e os tratamentos no cpf\n",
        "def criar_lista_dedup(lista):\n",
        "    lista_dedup = []\n",
        "    for cpf in lista:\n",
        "        cpf = str(cpf)\n",
        "        cpf = cpf.replace(\"-\", \"\").replace(\".\", \"\")\n",
        "        if len(cpf) == 11:\n",
        "            if not executar_busca_linear(lista_dedup, cpf):\n",
        "                lista_dedup.append(cpf)\n",
        "\n",
        "    return lista_dedup\n",
        "\n",
        "# Parte 3 - Criar uma função de teste\n",
        "def testar_funcao(lista_cpfs):\n",
        "    lista_dedup = criar_lista_dedup(lista_cpfs)\n",
        "    print(lista_dedup)\n",
        "\n",
        "    \n",
        "lista_cpfs = ['111.111.111-11', '11111111111', '222.222.222-22', '333.333.333-33', '22222222222', '444.44444']\n",
        "testar_funcao(lista_cpfs)\n"
      ],
      "metadata": {
        "colab": {
          "base_uri": "https://localhost:8080/"
        },
        "id": "Hc2ix0NQTzpz",
        "outputId": "158aee01-72dc-4bb2-af6e-abe5d7b9e4ce"
      },
      "execution_count": 36,
      "outputs": [
        {
          "output_type": "stream",
          "name": "stdout",
          "text": [
            "['11111111111', '22222222222', '33333333333']\n"
          ]
        }
      ]
    }
  ]
}