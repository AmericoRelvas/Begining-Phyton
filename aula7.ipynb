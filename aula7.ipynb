{
  "nbformat": 4,
  "nbformat_minor": 0,
  "metadata": {
    "colab": {
      "provenance": []
    },
    "kernelspec": {
      "name": "python3",
      "display_name": "Python 3"
    },
    "language_info": {
      "name": "python"
    }
  },
  "cells": [
    {
      "cell_type": "code",
      "execution_count": 4,
      "metadata": {
        "id": "SApTML-OLlxn"
      },
      "outputs": [],
      "source": [
        "class PrimeiraClasse:\n",
        "    \n",
        "    def imprimir_mensagem(self, nome): # Criando um método\n",
        "        print(f\"Olá {nome}, seja bem vindo!\")"
      ]
    },
    {
      "cell_type": "code",
      "source": [
        "objeto1 = PrimeiraClasse() # Instanciando um objeto do tipo PrimeiraClasse\n",
        "objeto1.imprimir_mensagem('João') # Invocando o método\n"
      ],
      "metadata": {
        "colab": {
          "base_uri": "https://localhost:8080/"
        },
        "id": "l7jCvR0ZLwXj",
        "outputId": "1b216e71-9d92-4199-e76c-ca12cb296e40"
      },
      "execution_count": 3,
      "outputs": [
        {
          "output_type": "stream",
          "name": "stdout",
          "text": [
            "Olá João, seja bem vindo!\n"
          ]
        }
      ]
    },
    {
      "cell_type": "code",
      "source": [
        "class Calculadora:\n",
        "\n",
        "    def somar(self, n1, n2):\n",
        "        return n1 + n2\n",
        "\n",
        "    def subtrair(self, n1, n2):\n",
        "        return n1 - n2\n",
        "\n",
        "    def multiplicar(self, n1, n2):\n",
        "        return n1 * n2\n",
        "\n",
        "    def dividir(self, n1, n2):\n",
        "        return n1 / n2\n",
        "    \n",
        "    def dividir_resto(self, n1, n2):\n",
        "        return n1 % n2"
      ],
      "metadata": {
        "id": "3QOk69FuNaqP"
      },
      "execution_count": 6,
      "outputs": []
    },
    {
      "cell_type": "code",
      "source": [
        "calc = Calculadora()\n",
        "\n",
        "print('Soma:', calc.somar(4, 3))\n",
        "print('Subtração:', calc.subtrair(13, 7))\n",
        "print('Multiplicação:', calc.multiplicar(2, 4))\n",
        "print('Divisão:', calc.dividir(16, 5))\n",
        "print('Resto da divisão:', calc.dividir_resto(7, 3))"
      ],
      "metadata": {
        "colab": {
          "base_uri": "https://localhost:8080/"
        },
        "id": "prG692exNb-u",
        "outputId": "dcf6e5a5-64d2-496b-dc0b-04499aca64b9"
      },
      "execution_count": 7,
      "outputs": [
        {
          "output_type": "stream",
          "name": "stdout",
          "text": [
            "Soma: 7\n",
            "Subtração: 6\n",
            "Multiplicação: 8\n",
            "Divisão: 3.2\n",
            "Resto da divisão: 1\n"
          ]
        }
      ]
    },
    {
      "cell_type": "code",
      "source": [
        "class Televisao:\n",
        "    def __init__(self):\n",
        "        self.volume = 10\n",
        "    \n",
        "    def aumentar_volume(self):\n",
        "        self.volume += 1\n",
        "    \n",
        "    def diminuir_volume(self):\n",
        "        self.volume -= 1"
      ],
      "metadata": {
        "id": "OPmDLukqOYlu"
      },
      "execution_count": 8,
      "outputs": []
    },
    {
      "cell_type": "code",
      "source": [
        "tv = Televisao()\n",
        "print(\"Volume ao ligar a tv = \", tv.volume)\n",
        "tv.aumentar_volume()\n",
        "print(\"Volume atual = \", tv.volume)"
      ],
      "metadata": {
        "colab": {
          "base_uri": "https://localhost:8080/"
        },
        "id": "NaNHl5lUOdKw",
        "outputId": "56ad5c49-37e9-49d6-9461-9e62d43f2afd"
      },
      "execution_count": 9,
      "outputs": [
        {
          "output_type": "stream",
          "name": "stdout",
          "text": [
            "Volume ao ligar a tv =  10\n",
            "Volume atual =  11\n"
          ]
        }
      ]
    },
    {
      "cell_type": "code",
      "source": [
        "class ContaCorrente:\n",
        "    def __init__(self):\n",
        "        self._saldo = None\n",
        "  \n",
        "    def depositar(self, valor):\n",
        "        self._saldo += valor\n",
        "        \n",
        "    def consultar_saldo(self):\n",
        "        return self._sald\n"
      ],
      "metadata": {
        "id": "SWZ_8_U-P_d_"
      },
      "execution_count": 10,
      "outputs": []
    },
    {
      "cell_type": "code",
      "source": [
        "conta = ContaCorrente()\n",
        "print(\"Saldo disponóvel: \", conta._saldo)"
      ],
      "metadata": {
        "colab": {
          "base_uri": "https://localhost:8080/"
        },
        "id": "KHluc1CGQGDm",
        "outputId": "f636f341-1893-4a30-b382-43bcb5f6f11c"
      },
      "execution_count": 15,
      "outputs": [
        {
          "output_type": "stream",
          "name": "stdout",
          "text": [
            "Saldo disponóvel:  None\n"
          ]
        }
      ]
    },
    {
      "cell_type": "code",
      "source": [
        "class Pessoa:\n",
        "    \n",
        "    def __init__(self):\n",
        "        self.cpf = None\n",
        "        self.nome = None\n",
        "        self.endereco = None"
      ],
      "metadata": {
        "id": "-t05w9weRalI"
      },
      "execution_count": 16,
      "outputs": []
    },
    {
      "cell_type": "code",
      "source": [
        "class Funcionario(Pessoa):\n",
        "    \n",
        "    def __init__(self):\n",
        "        self.matricula = None\n",
        "        self.salacio = None\n",
        "    \n",
        "    def bater_ponto(self):\n",
        "        # código aqui\n",
        "        pass\n",
        "    \n",
        "    def fazer_login(self):\n",
        "        # código aqui\n",
        "        pass"
      ],
      "metadata": {
        "id": "XQm8O3zRRb6G"
      },
      "execution_count": 17,
      "outputs": []
    },
    {
      "cell_type": "code",
      "source": [
        "class Cliente(Pessoa):\n",
        "    \n",
        "    def __init__(self):\n",
        "        self.codigo = None\n",
        "        self.dataCadastro = None\n",
        "    \n",
        "    def fazer_compra(self):\n",
        "        # código aqui\n",
        "        pass\n",
        "    \n",
        "    def pagar_conta(self):\n",
        "        # código aqui\n",
        "        pass"
      ],
      "metadata": {
        "id": "1HxXVsTuRhsn"
      },
      "execution_count": 18,
      "outputs": []
    },
    {
      "cell_type": "code",
      "source": [
        "f1 = Funcionario()\n",
        "f1.nome = \"Funcionário A\"\n",
        "print(f1.nome)\n",
        "\n",
        "c1 = Cliente()\n",
        "c1.cpf = \"111.111.111-11\"\n",
        "print(c1.cpf)"
      ],
      "metadata": {
        "colab": {
          "base_uri": "https://localhost:8080/"
        },
        "id": "26a2jA8ARnlM",
        "outputId": "af3199c9-3f1f-4aad-d991-8478c550061e"
      },
      "execution_count": 20,
      "outputs": [
        {
          "output_type": "stream",
          "name": "stdout",
          "text": [
            "Funcionário A\n",
            "111.111.111-11\n"
          ]
        }
      ]
    },
    {
      "cell_type": "code",
      "source": [
        "dir(Pessoa())"
      ],
      "metadata": {
        "colab": {
          "base_uri": "https://localhost:8080/"
        },
        "id": "mePqulg-SRd3",
        "outputId": "4e73d41d-a1c9-4427-f338-f4114a6ce7db"
      },
      "execution_count": 21,
      "outputs": [
        {
          "output_type": "execute_result",
          "data": {
            "text/plain": [
              "['__class__',\n",
              " '__delattr__',\n",
              " '__dict__',\n",
              " '__dir__',\n",
              " '__doc__',\n",
              " '__eq__',\n",
              " '__format__',\n",
              " '__ge__',\n",
              " '__getattribute__',\n",
              " '__gt__',\n",
              " '__hash__',\n",
              " '__init__',\n",
              " '__init_subclass__',\n",
              " '__le__',\n",
              " '__lt__',\n",
              " '__module__',\n",
              " '__ne__',\n",
              " '__new__',\n",
              " '__reduce__',\n",
              " '__reduce_ex__',\n",
              " '__repr__',\n",
              " '__setattr__',\n",
              " '__sizeof__',\n",
              " '__str__',\n",
              " '__subclasshook__',\n",
              " '__weakref__',\n",
              " 'cpf',\n",
              " 'endereco',\n",
              " 'nome']"
            ]
          },
          "metadata": {},
          "execution_count": 21
        }
      ]
    },
    {
      "cell_type": "code",
      "source": [
        "class int42(int):\n",
        "    \n",
        "    def __init__(self, n):\n",
        "        int.__init__(n)\n",
        "    \n",
        "    def __add__(a, b):\n",
        "        return 42\n",
        "    \n",
        "    def __str__(n):\n",
        "        return '42'"
      ],
      "metadata": {
        "id": "qmowDRsSSvGM"
      },
      "execution_count": 22,
      "outputs": []
    },
    {
      "cell_type": "code",
      "source": [
        "a = int42(7)\n",
        "b = int42(13)\n",
        "print(a + b)\n",
        "print(a)\n",
        "print(b)"
      ],
      "metadata": {
        "colab": {
          "base_uri": "https://localhost:8080/"
        },
        "id": "gSPkY7GmS2lW",
        "outputId": "29ae2593-23ef-404f-efa8-9b6ed15a6584"
      },
      "execution_count": 23,
      "outputs": [
        {
          "output_type": "stream",
          "name": "stdout",
          "text": [
            "42\n",
            "42\n",
            "42\n"
          ]
        }
      ]
    },
    {
      "cell_type": "code",
      "source": [
        "c = int(7)\n",
        "d = int(13)\n",
        "print(c + d)\n",
        "print(c)\n",
        "print(d)"
      ],
      "metadata": {
        "colab": {
          "base_uri": "https://localhost:8080/"
        },
        "id": "N2vr_hhOS-FV",
        "outputId": "e1d45ff7-158b-40a6-b880-82b15945d9ce"
      },
      "execution_count": 24,
      "outputs": [
        {
          "output_type": "stream",
          "name": "stdout",
          "text": [
            "20\n",
            "7\n",
            "13\n"
          ]
        }
      ]
    },
    {
      "cell_type": "code",
      "source": [
        "class Ethernet():\n",
        "    def __init__(self, name, mac_address):\n",
        "        self.name = name\n",
        "        self.mac_address = mac_address\n",
        "\n",
        "        \n",
        "class PCI():\n",
        "    def __init__(self, bus, vendor):\n",
        "        self.bus = bus\n",
        "        self.vendor = vendor\n",
        "\n",
        "        \n",
        "class USB():\n",
        "    def __init__(self, device):\n",
        "        self.device = device\n",
        "\n",
        "\n",
        "class Wireless(Ethernet):\n",
        "    def __init__(self, name, mac_address):\n",
        "        Ethernet.__init__(self, name, mac_address)\n",
        "        \n",
        "        \n",
        "class PCIEthernet(PCI, Ethernet):\n",
        "    def __init__(self, bus, vendor, name, mac_address):\n",
        "        PCI.__init__(self, bus, vendor)\n",
        "        Ethernet.__init__(self, name, mac_address)\n",
        "\n",
        "        \n",
        "class USBWireless(USB, Wireless):\n",
        "    def __init__(self, device, name, mac_address):\n",
        "        USB.__init__(self, device)\n",
        "        Wireless.__init__(self, name, mac_address)\n",
        "\n",
        "        \n",
        "eth0 = PCIEthernet('pci :0:0:1', 'realtek', 'eth0', '00:11:22:33:44')\n",
        "wlan0 = USBWireless('usb0', 'wlan0', '00:33:44:55:66')\n",
        "\n",
        "\n",
        "print('PCIEthernet é uma PCI?', isinstance(eth0, PCI))\n",
        "print('PCIEthernet é uma Ethernet?', isinstance(eth0, Ethernet))\n",
        "print('PCIEthernet é uma USB?', isinstance(eth0, USB))\n",
        "\n",
        "print('\\nUSBWireless é uma USB?', isinstance(wlan0, USB))\n",
        "print('USBWireless é uma Wireless?', isinstance(wlan0, Wireless))\n",
        "print('USBWireless é uma Ethernet?', isinstance(wlan0, Ethernet))\n",
        "print('USBWireless é uma PCI?', isinstance(wlan0, PCI))"
      ],
      "metadata": {
        "colab": {
          "base_uri": "https://localhost:8080/"
        },
        "id": "AXs9JkbqU9Cm",
        "outputId": "6f333dff-4e6e-4e19-a730-0e49eef6bcb7"
      },
      "execution_count": 25,
      "outputs": [
        {
          "output_type": "stream",
          "name": "stdout",
          "text": [
            "PCIEthernet é uma PCI? True\n",
            "PCIEthernet é uma Ethernet? True\n",
            "PCIEthernet é uma USB? False\n",
            "\n",
            "USBWireless é uma USB? True\n",
            "USBWireless é uma Wireless? True\n",
            "USBWireless é uma Ethernet? True\n",
            "USBWireless é uma PCI? False\n"
          ]
        }
      ]
    },
    {
      "cell_type": "code",
      "source": [
        "class ContaCorrente:\n",
        "    def __init__(self, nome):\n",
        "        self.nome = nome\n",
        "        self.email = None\n",
        "        self.telefone = None\n",
        "        self._saldo = 0\n",
        "    \n",
        "    def _checar_saldo(self, valor):\n",
        "        return self._saldo >= valor\n",
        "        \n",
        "    def depositar(self, valor):\n",
        "        self._saldo += valor\n",
        "    \n",
        "    def sacar(self, valor):\n",
        "        if self._checar_saldo(valor):\n",
        "            self._saldo -= valor\n",
        "            return True\n",
        "        else:\n",
        "            return False\n",
        "\n",
        "    def obter_saldo(self):\n",
        "        return self._saldo"
      ],
      "metadata": {
        "id": "v-Ls-CS3WCEo"
      },
      "execution_count": 28,
      "outputs": []
    },
    {
      "cell_type": "code",
      "source": [
        "class ContaPF(ContaCorrente):\n",
        "    def __init__(self, nome, cpf):\n",
        "        super().__init__(nome)\n",
        "        self.cpf = cpf\n",
        "    \n",
        "    def solicitar_emprestimo(self, valor):\n",
        "        return self.obter_saldo() >= 500"
      ],
      "metadata": {
        "id": "Ku1WxsyXWhPG"
      },
      "execution_count": 27,
      "outputs": []
    },
    {
      "cell_type": "code",
      "source": [
        "class ContaPJ(ContaCorrente):\n",
        "    def __init__(self, nome, cnpj):\n",
        "        super().__init__(nome)\n",
        "        self.cnpj = cnpj\n",
        "\n",
        "    def sacar_emprestimo(self, valor):\n",
        "        return valor <= 5000"
      ],
      "metadata": {
        "id": "15nGWZT_WsXe"
      },
      "execution_count": 29,
      "outputs": []
    },
    {
      "cell_type": "code",
      "source": [
        "conta_pf1 = ContaPF(\"João\", '111.111.111-11')\n",
        "conta_pf1.depositar(1000)\n",
        "print('Saldo atual é', conta_pf1.obter_saldo())\n",
        "print('Receberá empréstimo = ', conta_pf1.solicitar_emprestimo(2000))\n",
        "\n",
        "conta_pf1.sacar(800)\n",
        "print('Saldo atual é', conta_pf1.obter_saldo())\n",
        "print('Receberá empréstimo = ', conta_pf1.solicitar_emprestimo(2000))"
      ],
      "metadata": {
        "colab": {
          "base_uri": "https://localhost:8080/"
        },
        "id": "7KwnozpNXOoV",
        "outputId": "3955d24b-e78f-4a7b-e644-d2ba68bf631b"
      },
      "execution_count": 30,
      "outputs": [
        {
          "output_type": "stream",
          "name": "stdout",
          "text": [
            "Saldo atual é 1000\n",
            "Receberá empréstimo =  True\n",
            "Saldo atual é 200\n",
            "Receberá empréstimo =  False\n"
          ]
        }
      ]
    },
    {
      "cell_type": "code",
      "source": [
        "conta_pj1 = ContaPJ(\"Empresa A\", \"11.111.111/1111-11\")\n",
        "print('Saldo atual é', conta_pj1.obter_saldo())\n",
        "print('Receberá empréstimo = ', conta_pj1.sacar_emprestimo(3000))"
      ],
      "metadata": {
        "colab": {
          "base_uri": "https://localhost:8080/"
        },
        "id": "xFP-fzeEXaIE",
        "outputId": "ceceeb27-f98e-4c19-f54a-70d76056e488"
      },
      "execution_count": 31,
      "outputs": [
        {
          "output_type": "stream",
          "name": "stdout",
          "text": [
            "Saldo atual é 0\n",
            "Receberá empréstimo =  True\n"
          ]
        }
      ]
    },
    {
      "cell_type": "code",
      "source": [
        "class Cliente:\n",
        "    def __init__(self):\n",
        "        self.nome = None\n",
        "        self.emil = None\n",
        "        self.telefone = None\n",
        "        self._cupom_desconto = 0\n",
        "\n",
        "    def get_cupom_desconto(self):\n",
        "        return self._cupom_desconto\n",
        "\n",
        "    def realizar_compras(self, lista_itens):\n",
        "        pass"
      ],
      "metadata": {
        "id": "kN0U8P7yYQSH"
      },
      "execution_count": 32,
      "outputs": []
    },
    {
      "cell_type": "code",
      "source": [
        "class ClienteVipPF(Cliente):\n",
        "    def __init__(self):\n",
        "        super().__init__()\n",
        "        self._cupom_desconto = 0.2\n",
        "\n",
        "    def realizar_compras(self, lista_itens):\n",
        "        return f\"Quantidade total de itens comprados = {len(lista_itens)}\""
      ],
      "metadata": {
        "id": "r_Z-2YApYSUY"
      },
      "execution_count": 33,
      "outputs": []
    },
    {
      "cell_type": "code",
      "source": [
        "class ClientePF(Cliente):\n",
        "    def __init__(self):\n",
        "        super().__init__()\n",
        "        self._cupom_desconto = 0.05\n",
        "\n",
        "    def realizar_compras(self, lista_itens):\n",
        "        if len(lista_itens) <= 20:\n",
        "            return f\"Quantidade total de itens comprados = {len(lista_itens)}\"\n",
        "        else:\n",
        "            return \"Quantidade de itens superior ao limite permitido.\""
      ],
      "metadata": {
        "id": "k8Uji5HVYXQW"
      },
      "execution_count": 34,
      "outputs": []
    },
    {
      "cell_type": "code",
      "source": [
        "class ClientePJ(Cliente):\n",
        "    def __init__(self):\n",
        "        super().__init__()\n",
        "        self._cupom_desconto = 0.1\n",
        "\n",
        "    def realizar_compras(self, lista_itens):\n",
        "        if len(lista_itens) <= 50:\n",
        "            return f\"Quantidade total de itens comprados = {len(lista_itens)}\"\n",
        "        else:\n",
        "            return \"Quantidade de itens superior ao limite permitido.\""
      ],
      "metadata": {
        "id": "kSVPbLcnYcHv"
      },
      "execution_count": 35,
      "outputs": []
    },
    {
      "cell_type": "code",
      "source": [
        "cli1 = ClienteVipPF()\n",
        "cli1.nome = \"Maria\"\n",
        "print(cli1.get_cupom_desconto())\n",
        "cli1.realizar_compras(['item1', 'item2', 'item3'])\n",
        "0.2"
      ],
      "metadata": {
        "colab": {
          "base_uri": "https://localhost:8080/"
        },
        "id": "dQqp-rxwYf13",
        "outputId": "00eddbdd-0164-4ca1-cd8b-493885653119"
      },
      "execution_count": 36,
      "outputs": [
        {
          "output_type": "stream",
          "name": "stdout",
          "text": [
            "0.2\n"
          ]
        },
        {
          "output_type": "execute_result",
          "data": {
            "text/plain": [
              "0.2"
            ]
          },
          "metadata": {},
          "execution_count": 36
        }
      ]
    }
  ]
}