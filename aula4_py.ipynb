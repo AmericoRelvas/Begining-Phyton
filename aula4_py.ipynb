{
  "nbformat": 4,
  "nbformat_minor": 0,
  "metadata": {
    "colab": {
      "provenance": []
    },
    "kernelspec": {
      "name": "python3",
      "display_name": "Python 3"
    },
    "language_info": {
      "name": "python"
    }
  },
  "cells": [
    {
      "cell_type": "code",
      "execution_count": 1,
      "metadata": {
        "colab": {
          "base_uri": "https://localhost:8080/"
        },
        "id": "IFDEOBl--TTC",
        "outputId": "4722e60b-bd80-4f14-b9c4-6853c478a7cb"
      },
      "outputs": [
        {
          "output_type": "stream",
          "name": "stdout",
          "text": [
            "Tamanho do texto = 60\n",
            "Python in texto = True\n",
            "Quantidade de y no texto = 1\n",
            "As 5 primeiras letras são: Aprend\n"
          ]
        }
      ],
      "source": [
        "texto = \"Aprendendo Python na disciplina de linguagem de programação.\"\n",
        "print(f\"Tamanho do texto = {len(texto)}\")\n",
        "print(f\"Python in texto = {'Python' in texto}\")\n",
        "print(f\"Quantidade de y no texto = {texto.count('y')}\")\n",
        "print(f\"As 5 primeiras letras são: {texto[0:6]}\")\n"
      ]
    },
    {
      "cell_type": "code",
      "source": [
        "texto = \"Aprendendo Python na disciplina de linguagem de programação.\"\n",
        "\n",
        "print(texto.upper())\n",
        "print(texto.replace(\"i\", 'XX'))"
      ],
      "metadata": {
        "colab": {
          "base_uri": "https://localhost:8080/"
        },
        "id": "bmNCUBLt--av",
        "outputId": "4986240b-28d5-4865-8d45-f57f4eaf9035"
      },
      "execution_count": 2,
      "outputs": [
        {
          "output_type": "stream",
          "name": "stdout",
          "text": [
            "APRENDENDO PYTHON NA DISCIPLINA DE LINGUAGEM DE PROGRAMAÇÃO.\n",
            "Aprendendo Python na dXXscXXplXXna de lXXnguagem de programação.\n"
          ]
        }
      ]
    },
    {
      "cell_type": "code",
      "source": [
        "texto = \"Aprendendo Python na disciplina de linguagem de programação.\"\n",
        "print(f\"texto = {texto}\")\n",
        "print(f\"Tamanho do texto = {len(texto)}\\n\")\n",
        "palavras = texto.split()\n",
        "print(f\"palavras = {palavras}\")\n",
        "print(f\"Tamanho de palavras = {len(palavras)}\")"
      ],
      "metadata": {
        "colab": {
          "base_uri": "https://localhost:8080/"
        },
        "id": "s7Iz9Zvx_h8f",
        "outputId": "ff8fb088-9175-4a18-d663-e9c193fe91d0"
      },
      "execution_count": 3,
      "outputs": [
        {
          "output_type": "stream",
          "name": "stdout",
          "text": [
            "texto = Aprendendo Python na disciplina de linguagem de programação.\n",
            "Tamanho do texto = 60\n",
            "\n",
            "palavras = ['Aprendendo', 'Python', 'na', 'disciplina', 'de', 'linguagem', 'de', 'programação.']\n",
            "Tamanho de palavras = 8\n"
          ]
        }
      ]
    },
    {
      "cell_type": "code",
      "source": [
        "texto = \"\"\"Operadores de String\n",
        "Python oferece operadores para processar texto (ou seja, valores de string).\n",
        "Assim como os números, as strings podem ser comparadas usando operadores de comparação:\n",
        "==, !=, <, > e assim por diante.\n",
        "O operador ==, por exemplo, retorna True se as strings nos dois lados do operador tiverem o mesmo valor (Perkovic, p. 23, 2016).\n",
        "\"\"\"\n",
        "print(f\"Tamanho do texto = {len(texto)}\")\n",
        "texto = texto.lower()\n",
        "texto = texto.replace(\",\", \"\").replace(\".\", \"\").replace(\"(\", \"\").replace(\")\", \"\").replace(\"\\n\", \" \")\n",
        "lista_palavras = texto.split()\n",
        "print(f\"Tamanho da lista de palavras = {len(lista_palavras)}\")\n",
        "total = lista_palavras.count(\"string\") + lista_palavras.count(\"strings\")\n",
        "print(f\"Quantidade de vezes que string ou strings aparecem = {total}\")"
      ],
      "metadata": {
        "colab": {
          "base_uri": "https://localhost:8080/"
        },
        "id": "ubs1JTazAy-5",
        "outputId": "490d03ab-3be1-4b9e-d4b5-a0c048242de9"
      },
      "execution_count": 4,
      "outputs": [
        {
          "output_type": "stream",
          "name": "stdout",
          "text": [
            "Tamanho do texto = 348\n",
            "Tamanho da lista de palavras = 58\n",
            "Quantidade de vezes que string ou strings aparecem = 4\n"
          ]
        }
      ]
    },
    {
      "cell_type": "code",
      "source": [
        "vogais = ['a', 'e', 'i', 'o', 'u'] # também poderia ter sido criada usando aspas duplas\n",
        "for vogal in vogais:\n",
        "    print (f'Posição = {vogais.index(vogal)}, valor = {vogal}')"
      ],
      "metadata": {
        "colab": {
          "base_uri": "https://localhost:8080/"
        },
        "id": "eKAAGtLyCqhX",
        "outputId": "32546b2a-c640-4d30-b34b-d7f68eb8694e"
      },
      "execution_count": 5,
      "outputs": [
        {
          "output_type": "stream",
          "name": "stdout",
          "text": [
            "Posição = 0, valor = a\n",
            "Posição = 1, valor = e\n",
            "Posição = 2, valor = i\n",
            "Posição = 3, valor = o\n",
            "Posição = 4, valor = u\n"
          ]
        }
      ]
    },
    {
      "cell_type": "code",
      "source": [
        "# Mesmo resultado.\n",
        "vogais = []\n",
        "print(f\"Tipo do objeto vogais = {type(vogais)}\")\n",
        "vogais.append('a')\n",
        "vogais.append('e')\n",
        "vogais.append('i')\n",
        "vogais.append('o')\n",
        "vogais.append('u')\n",
        "for p, x in enumerate(vogais):\n",
        "    print(f\"Posição = {p}, valor = {x}\")"
      ],
      "metadata": {
        "colab": {
          "base_uri": "https://localhost:8080/"
        },
        "id": "cWh99ONoDOUS",
        "outputId": "e42f25f7-5513-430a-b6b0-25341ccfeb92"
      },
      "execution_count": 6,
      "outputs": [
        {
          "output_type": "stream",
          "name": "stdout",
          "text": [
            "Tipo do objeto vogais = <class 'list'>\n",
            "Posição = 0, valor = a\n",
            "Posição = 1, valor = e\n",
            "Posição = 2, valor = i\n",
            "Posição = 3, valor = o\n",
            "Posição = 4, valor = u\n"
          ]
        }
      ]
    },
    {
      "cell_type": "code",
      "source": [
        "frutas = [\"maça\", \"banana\", \"uva\", \"mamão\", \"maça\"]\n",
        "notas = [8.7, 5.2, 10, 3.5]\n",
        "\n",
        "print(\"maça\" in frutas) # True\n",
        "print(\"abacate\" in frutas) # False\n",
        "print(\"abacate\" not in frutas) # True\n",
        "print(min(frutas)) # banana\n",
        "print(max(notas)) # 10\n",
        "print(frutas.count(\"maça\")) # 2\n",
        "print(frutas + notas)\n",
        "print(2 * frutas)"
      ],
      "metadata": {
        "colab": {
          "base_uri": "https://localhost:8080/"
        },
        "id": "e2S6S1OXEJ8_",
        "outputId": "e8fdc9a0-b31b-45e2-a104-ff3d674bc150"
      },
      "execution_count": 7,
      "outputs": [
        {
          "output_type": "stream",
          "name": "stdout",
          "text": [
            "True\n",
            "False\n",
            "True\n",
            "banana\n",
            "10\n",
            "2\n",
            "['maça', 'banana', 'uva', 'mamão', 'maça', 8.7, 5.2, 10, 3.5]\n",
            "['maça', 'banana', 'uva', 'mamão', 'maça', 'maça', 'banana', 'uva', 'mamão', 'maça']\n"
          ]
        }
      ]
    },
    {
      "cell_type": "code",
      "source": [
        "lista = ['Python', 30.61, \"Java\", 51 , ['a', 'b', 20], \"maça\"]\n",
        "print(f\"Tamanho da lista = {len(lista)}\")\n",
        "for i, item in enumerate(lista):\n",
        "    print(f\"Posição = {i},\\t valor = {item} -----------------> tipo individual = {type(item)}\")\n",
        "print(\"\\nExemplos de slices:\\n\")\n",
        "print(\"lista[1] = \", lista[1])\n",
        "print(\"lista[0:2] = \", lista[0:2])\n",
        "print(\"lista[:2] = \", lista[:2])\n",
        "print(\"lista[3:5] = \", lista[3:5])\n",
        "print(\"lista[3:6] = \", lista[3:6])\n",
        "print(\"lista[3:] = \", lista[3:])\n",
        "print(\"lista[-2] = \", lista[-2])\n",
        "print(\"lista[-1] = \", lista[-1])\n",
        "print(\"lista[4][1] = \", lista[4][1])"
      ],
      "metadata": {
        "colab": {
          "base_uri": "https://localhost:8080/"
        },
        "id": "EqP0HRoeF9oY",
        "outputId": "c679d06c-44c1-47ae-b825-094d88ce22e0"
      },
      "execution_count": 10,
      "outputs": [
        {
          "output_type": "stream",
          "name": "stdout",
          "text": [
            "Tamanho da lista = 6\n",
            "Posição = 0,\t valor = Python -----------------> tipo individual = <class 'str'>\n",
            "Posição = 1,\t valor = 30.61 -----------------> tipo individual = <class 'float'>\n",
            "Posição = 2,\t valor = Java -----------------> tipo individual = <class 'str'>\n",
            "Posição = 3,\t valor = 51 -----------------> tipo individual = <class 'int'>\n",
            "Posição = 4,\t valor = ['a', 'b', 20] -----------------> tipo individual = <class 'list'>\n",
            "Posição = 5,\t valor = maça -----------------> tipo individual = <class 'str'>\n",
            "\n",
            "Exemplos de slices:\n",
            "\n",
            "lista[1] =  30.61\n",
            "lista[0:2] =  ['Python', 30.61]\n",
            "lista[:2] =  ['Python', 30.61]\n",
            "lista[3:5] =  [51, ['a', 'b', 20]]\n",
            "lista[3:6] =  [51, ['a', 'b', 20], 'maça']\n",
            "lista[3:] =  [51, ['a', 'b', 20], 'maça']\n",
            "lista[-2] =  ['a', 'b', 20]\n",
            "lista[-1] =  maça\n",
            "lista[4][1] =  b\n"
          ]
        }
      ]
    },
    {
      "cell_type": "code",
      "source": [
        "linguagens = [\"Python\", \"Java\", \"JavaScript\", \"C\", \"C#\", \"C++\", \"Swift\", \"Go\", \"Kotlin\"]\n",
        "#linguagens = '''Python Java JavaScript C C# C++ Swift Go Kotlin'''.split() # Essa sintaxe produz o mesmo resultado que a linha 1\n",
        "print(\"Antes da listcomp = \", linguagens)\n",
        "linguagens = [item.lower() for item in linguagens]\n",
        "print(\"\\nDepois da listcomp = \", linguagens)"
      ],
      "metadata": {
        "colab": {
          "base_uri": "https://localhost:8080/"
        },
        "id": "rbBIF8WRIHUQ",
        "outputId": "9560bb03-6d2a-471c-f0c2-ccb242730c42"
      },
      "execution_count": 11,
      "outputs": [
        {
          "output_type": "stream",
          "name": "stdout",
          "text": [
            "Antes da listcomp =  ['Python', 'Java', 'JavaScript', 'C', 'C#', 'C++', 'Swift', 'Go', 'Kotlin']\n",
            "\n",
            "Depois da listcomp =  ['python', 'java', 'javascript', 'c', 'c#', 'c++', 'swift', 'go', 'kotlin']\n"
          ]
        }
      ]
    },
    {
      "cell_type": "code",
      "source": [
        "linguagens = '''Python Java JavaScript C C# C++ Swift Go Kotlin'''.split()\n",
        "print(\"Antes da listcomp = \", linguagens)\n",
        "for i, item in enumerate(linguagens):\n",
        "    linguagens[i] = item.lower()\n",
        "print(\"\\nDepois da listcomp = \", linguagens)"
      ],
      "metadata": {
        "colab": {
          "base_uri": "https://localhost:8080/"
        },
        "id": "krVy8w2WI4FR",
        "outputId": "82f5783e-6fb0-425f-f134-5e5cca8dfe67"
      },
      "execution_count": 12,
      "outputs": [
        {
          "output_type": "stream",
          "name": "stdout",
          "text": [
            "Antes da listcomp =  ['Python', 'Java', 'JavaScript', 'C', 'C#', 'C++', 'Swift', 'Go', 'Kotlin']\n",
            "\n",
            "Depois da listcomp =  ['python', 'java', 'javascript', 'c', 'c#', 'c++', 'swift', 'go', 'kotlin']\n"
          ]
        }
      ]
    },
    {
      "cell_type": "code",
      "source": [
        "linguagens = '''Python Java JavaScript C C# C++ Swift Go Kotlin'''.split()\n",
        "linguagens_java = [item for item in linguagens if \"Java\" in item]\n",
        "print(linguagens_java)"
      ],
      "metadata": {
        "colab": {
          "base_uri": "https://localhost:8080/"
        },
        "id": "yrgsF3HaJiVY",
        "outputId": "5f043782-54b0-4634-feb5-823d2dc13b3b"
      },
      "execution_count": 13,
      "outputs": [
        {
          "output_type": "stream",
          "name": "stdout",
          "text": [
            "['Java', 'JavaScript']\n"
          ]
        }
      ]
    },
    {
      "cell_type": "code",
      "source": [
        "linguagens = '''Python Java JavaScript C C# C++ Swift Go Kotlin'''.split()\n",
        "linguagens_java = []\n",
        "\n",
        "for item in linguagens:\n",
        "    if \"Java\" in item:\n",
        "        linguagens_java.append(item)\n",
        "\n",
        "print(linguagens_java)"
      ],
      "metadata": {
        "colab": {
          "base_uri": "https://localhost:8080/"
        },
        "id": "SRtPmi1JJzzI",
        "outputId": "03df189f-5bad-4749-9e94-6cd5abc167e2"
      },
      "execution_count": 15,
      "outputs": [
        {
          "output_type": "stream",
          "name": "stdout",
          "text": [
            "['Java', 'JavaScript']\n"
          ]
        }
      ]
    },
    {
      "cell_type": "code",
      "source": [
        "# Exemplo 1\n",
        "print(\"Exemplo 1\")\n",
        "linguagens = '''Python Java JavaScript C C# C++ Swift Go Kotlin'''.split()\n",
        "nova_lista = map(lambda x: x.lower(), linguagens)\n",
        "print(f\"A nova lista é = {nova_lista}\\n\")\n",
        "nova_lista = list(nova_lista)\n",
        "print(f\"Agora sim, a nova lista é = {nova_lista}\")\n",
        "\n",
        "# Exemplo 2\n",
        "print(\"\\n\\nExemplo 2\")\n",
        "numeros = [0, 1, 2, 3, 4, 5]\n",
        "quadrados = list(map(lambda x: x*x, numeros))\n",
        "print(f\"Lista com o número elevado a ele mesmo = {quadrados}\\n\")"
      ],
      "metadata": {
        "colab": {
          "base_uri": "https://localhost:8080/"
        },
        "id": "dscZjewkLKTA",
        "outputId": "f782beb1-8038-44e1-bbda-c9e1d366244e"
      },
      "execution_count": 16,
      "outputs": [
        {
          "output_type": "stream",
          "name": "stdout",
          "text": [
            "Exemplo 1\n",
            "A nova lista é = <map object at 0x7f0f26bb9d00>\n",
            "\n",
            "Agora sim, a nova lista é = ['python', 'java', 'javascript', 'c', 'c#', 'c++', 'swift', 'go', 'kotlin']\n",
            "\n",
            "\n",
            "Exemplo 2\n",
            "Lista com o número elevado a ele mesmo = [0, 1, 4, 9, 16, 25]\n",
            "\n"
          ]
        }
      ]
    },
    {
      "cell_type": "code",
      "source": [
        "numeros  = list(range(0, 21))\n",
        "numeros_pares = list(filter(lambda x: x % 2 == 0, numeros))\n",
        "print(numeros_pares)"
      ],
      "metadata": {
        "colab": {
          "base_uri": "https://localhost:8080/"
        },
        "id": "6lfbLZvXL9CB",
        "outputId": "33f26d0e-e9be-46f4-92d6-6391010f1bce"
      },
      "execution_count": 19,
      "outputs": [
        {
          "output_type": "stream",
          "name": "stdout",
          "text": [
            "[0, 2, 4, 6, 8, 10, 12, 14, 16, 18, 20]\n"
          ]
        }
      ]
    },
    {
      "cell_type": "code",
      "source": [
        "vogais = ('a', 'e', 'i', 'o', 'u')\n",
        "print(f\"Tipo do objeto vogais = {type(vogais)}\")\n",
        "for p, x in enumerate(vogais):\n",
        "    print(f\"Posição = {p}, valor = {x}\")"
      ],
      "metadata": {
        "colab": {
          "base_uri": "https://localhost:8080/"
        },
        "id": "VEaiAv7ZM7dd",
        "outputId": "c276db70-e31b-4bac-ae7f-66642784f45b"
      },
      "execution_count": 20,
      "outputs": [
        {
          "output_type": "stream",
          "name": "stdout",
          "text": [
            "Tipo do objeto vogais = <class 'tuple'>\n",
            "Posição = 0, valor = a\n",
            "Posição = 1, valor = e\n",
            "Posição = 2, valor = i\n",
            "Posição = 3, valor = o\n",
            "Posição = 4, valor = u\n"
          ]
        }
      ]
    },
    {
      "cell_type": "code",
      "source": [
        "vogais = ('a', 'e', 'i', 'o', 'u')\n",
        "for item in enumerate(vogais):\n",
        "    print(item)\n",
        "print(tuple(enumerate(vogais)))\n",
        "print(list(enumerate(vogais)))"
      ],
      "metadata": {
        "colab": {
          "base_uri": "https://localhost:8080/"
        },
        "id": "Xx6baIVyMCvQ",
        "outputId": "a54ba039-9e6c-41ee-9a9d-f8168b98675a"
      },
      "execution_count": 23,
      "outputs": [
        {
          "output_type": "stream",
          "name": "stdout",
          "text": [
            "(0, 'a')\n",
            "(1, 'e')\n",
            "(2, 'i')\n",
            "(3, 'o')\n",
            "(4, 'u')\n",
            "((0, 'a'), (1, 'e'), (2, 'i'), (3, 'o'), (4, 'u'))\n",
            "[(0, 'a'), (1, 'e'), (2, 'i'), (3, 'o'), (4, 'u')]\n"
          ]
        }
      ]
    },
    {
      "cell_type": "code",
      "source": [
        "vogais_1 = {'aeiou'} # sem uso do construtor\n",
        "print(type(vogais_1), vogais_1)\n",
        "vogais_2 = set('aeiouaaaaaa') # construtor com string\n",
        "print(type(vogais_2), vogais_2)\n",
        "vogais_3 = set(['a', 'e', 'i', 'o', 'u']) # construtor com lista\n",
        "print(type(vogais_3), vogais_3)\n",
        "vogais_4 = set(('a', 'e', 'i', 'o', 'u')) # construtor com tupla\n",
        "print(type(vogais_4), vogais_4)\n",
        "print(set('banana'))"
      ],
      "metadata": {
        "colab": {
          "base_uri": "https://localhost:8080/"
        },
        "id": "BC27zt_0Pbaq",
        "outputId": "78522f73-8dd3-4f50-e85f-c34d06a0e5f3"
      },
      "execution_count": 24,
      "outputs": [
        {
          "output_type": "stream",
          "name": "stdout",
          "text": [
            "<class 'set'> {'aeiou'}\n",
            "<class 'set'> {'e', 'a', 'o', 'i', 'u'}\n",
            "<class 'set'> {'e', 'a', 'o', 'i', 'u'}\n",
            "<class 'set'> {'e', 'a', 'o', 'i', 'u'}\n",
            "{'n', 'a', 'b'}\n"
          ]
        }
      ]
    },
    {
      "cell_type": "code",
      "source": [
        "def create_report():\n",
        "    componentes_verificados = set(['caixas de som', 'cooler', 'dissipador de calor', 'cpu', 'hd', 'estabilizador', 'gabinete', 'hub', 'impressora', 'joystick', 'memória ram', 'microfone', 'modem', 'monitor', 'mouse', 'no-break', 'placa de captura', 'placa de som', 'placa de vídeo', 'placa mãe', 'scanner', 'teclado', 'webcam'])\n",
        "    componentes_com_defeito = set(['hd', 'monitor', 'placa de som', 'scanner'])\n",
        "    \n",
        "    qtde_componentes_verificados = len(componentes_verificados)\n",
        "    qtde_componentes_com_defeito = len(componentes_com_defeito)\n",
        "    \n",
        "    componentes_ok = componentes_verificados.difference(componentes_com_defeito)\n",
        "    \n",
        "    print(f\"Foram verificados {qtde_componentes_verificados} componentes.\\n\")\n",
        "    print(f\"{qtde_componentes_com_defeito} componentes apresentaram defeito.\\n\")\n",
        "    \n",
        "    print(\"Os componentes que podem ser vendidos são:\")\n",
        "    for item in componentes_ok:\n",
        "        print(item)\n",
        "\n",
        "\n",
        "create_report()"
      ],
      "metadata": {
        "colab": {
          "base_uri": "https://localhost:8080/"
        },
        "id": "Nht14jlnQXXB",
        "outputId": "1337daa9-4ce0-4c4c-cdee-2bb2268cd5d4"
      },
      "execution_count": 25,
      "outputs": [
        {
          "output_type": "stream",
          "name": "stdout",
          "text": [
            "Foram verificados 23 componentes.\n",
            "\n",
            "4 componentes apresentaram defeito.\n",
            "\n",
            "Os componentes que podem ser vendidos são:\n",
            "modem\n",
            "placa de captura\n",
            "cooler\n",
            "webcam\n",
            "mouse\n",
            "impressora\n",
            "cpu\n",
            "no-break\n",
            "memória ram\n",
            "teclado\n",
            "joystick\n",
            "caixas de som\n",
            "gabinete\n",
            "dissipador de calor\n",
            "microfone\n",
            "estabilizador\n",
            "placa mãe\n",
            "hub\n",
            "placa de vídeo\n"
          ]
        }
      ]
    },
    {
      "cell_type": "code",
      "source": [
        "# Exemplo 1 - Criação de dicionário vazio, com atribuição posterior de chave e valor \n",
        "dici_1 = {}\n",
        "dici_1['nome'] = \"João\"\n",
        "dici_1['idade'] = 30\n",
        "# Exemplo 2 - Criação de dicionário usando um par elementos na forma, chave : valor\n",
        "dici_2 = {'nome': 'João', 'idade': 30}\n",
        "# Exemplo 3 - Criação de dicionário com uma lista de tuplas. Cada tupla representa um par chave : valor\n",
        "dici_3 = dict([('nome', \"João\"), ('idade', 30)])\n",
        "# Exemplo 4 - Criação de dicionário com a função built-in zip() e duas listas, uma com as chaves, outra com os valores.\n",
        "dici_4 = dict(zip(['nome', 'idade'], [\"João\", 30]))\n",
        "print(dici_1 == dici_2 == dici_3 == dici_4) # Testando se as diferentes construções resultamo em objetos iguais."
      ],
      "metadata": {
        "colab": {
          "base_uri": "https://localhost:8080/"
        },
        "id": "8LAWSv4gRqLy",
        "outputId": "d55f4890-f807-419a-9762-0e19e54d4910"
      },
      "execution_count": 26,
      "outputs": [
        {
          "output_type": "stream",
          "name": "stdout",
          "text": [
            "True\n"
          ]
        }
      ]
    },
    {
      "cell_type": "code",
      "source": [
        "cadastro = {\n",
        "            'nome' : ['João', 'Ana', 'Pedro', 'Marcela'],\n",
        "            'cidade' : ['São Paulo', 'São Paulo', 'Rio de Janeiro', 'Curitiba'],\n",
        "            'idade' : [25, 33, 37, 18]\n",
        "            }\n",
        "\n",
        "print(\"len(cadastro) = \", len(cadastro))\n",
        "\n",
        "print(\"\\n cadastro.keys() = \\n\", cadastro.keys())\n",
        "print(\"\\n cadastro.values() = \\n\", cadastro.values())\n",
        "print(\"\\n cadastro.items() = \\n\", cadastro.items())\n",
        "\n",
        "print(\"\\n cadastro['nome'] = \", cadastro['nome'])\n",
        "print(\"\\n cadastro['nome'][2] = \", cadastro['nome'][2])\n",
        "print(\"\\n cadastro['idade'][2:] = \", cadastro['idade'][2:])\n"
      ],
      "metadata": {
        "colab": {
          "base_uri": "https://localhost:8080/"
        },
        "id": "RcK0zYW7TQGk",
        "outputId": "85f4cc73-ba46-4881-b085-df8bfa9be32f"
      },
      "execution_count": 27,
      "outputs": [
        {
          "output_type": "stream",
          "name": "stdout",
          "text": [
            "len(cadastro) =  3\n",
            "\n",
            " cadastro.keys() = \n",
            " dict_keys(['nome', 'cidade', 'idade'])\n",
            "\n",
            " cadastro.values() = \n",
            " dict_values([['João', 'Ana', 'Pedro', 'Marcela'], ['São Paulo', 'São Paulo', 'Rio de Janeiro', 'Curitiba'], [25, 33, 37, 18]])\n",
            "\n",
            " cadastro.items() = \n",
            " dict_items([('nome', ['João', 'Ana', 'Pedro', 'Marcela']), ('cidade', ['São Paulo', 'São Paulo', 'Rio de Janeiro', 'Curitiba']), ('idade', [25, 33, 37, 18])])\n",
            "\n",
            " cadastro['nome'] =  ['João', 'Ana', 'Pedro', 'Marcela']\n",
            "\n",
            " cadastro['nome'][2] =  Pedro\n",
            "\n",
            " cadastro['idade'][2:] =  [37, 18]\n"
          ]
        }
      ]
    },
    {
      "cell_type": "code",
      "source": [
        "print(len(cadastro['nome']))\n",
        "print(len(cadastro['cidade']))\n",
        "print(len(cadastro['idade']))\n",
        "\n",
        "qtde_itens = sum([len(cadastro[chave]) for chave in cadastro])\n",
        "\n",
        "print(f\"\\n\\nQuantidade de elementos no dicionário = {qtde_itens}\")"
      ],
      "metadata": {
        "colab": {
          "base_uri": "https://localhost:8080/"
        },
        "id": "ra-aRlE7Tx2i",
        "outputId": "58da0ac5-1353-428a-c9fe-8aa5fe844699"
      },
      "execution_count": 28,
      "outputs": [
        {
          "output_type": "stream",
          "name": "stdout",
          "text": [
            "4\n",
            "4\n",
            "4\n",
            "\n",
            "\n",
            "Quantidade de elementos no dicionário = 12\n"
          ]
        }
      ]
    },
    {
      "cell_type": "code",
      "source": [
        "import numpy\n",
        "\n",
        "matriz_1_1 = numpy.array([1, 2, 3]) # Cria matriz 1 linha e 1 coluna\n",
        "matriz_2_2 = numpy.array([[1, 2], [3, 4]]) # Cria matriz 2 linhas e 2 colunas\n",
        "matriz_3_2 = numpy.array([[1, 2], [3, 4], [5, 6]]) # Cria matriz 3 linhas e 2 colunas\n",
        "matriz_2_3 = numpy.array([[1, 2, 3], [4, 5, 6]]) # Cria matriz 2 linhas e 3 colunas\n",
        "\n",
        "print(type(matriz_1_1))\n",
        "\n",
        "print('\\n matriz_1_1 = ', matriz_1_1)\n",
        "print('\\n matriz_2_2 = \\n', matriz_2_2)\n",
        "print('\\n matriz_3_2 = \\n', matriz_3_2)\n",
        "print('\\n matriz_2_3 = \\n', matriz_2_3)\n"
      ],
      "metadata": {
        "colab": {
          "base_uri": "https://localhost:8080/"
        },
        "id": "ByO-2NuZVE-k",
        "outputId": "61bdae8b-3ae9-4655-99d5-5af2386cf3db"
      },
      "execution_count": 29,
      "outputs": [
        {
          "output_type": "stream",
          "name": "stdout",
          "text": [
            "<class 'numpy.ndarray'>\n",
            "\n",
            " matriz_1_1 =  [1 2 3]\n",
            "\n",
            " matriz_2_2 = \n",
            " [[1 2]\n",
            " [3 4]]\n",
            "\n",
            " matriz_3_2 = \n",
            " [[1 2]\n",
            " [3 4]\n",
            " [5 6]]\n",
            "\n",
            " matriz_2_3 = \n",
            " [[1 2 3]\n",
            " [4 5 6]]\n"
          ]
        }
      ]
    },
    {
      "cell_type": "code",
      "source": [
        "m1 = numpy.zeros((3, 3)) # Cria matriz 3 x 3 somente com zero\n",
        "m2 = numpy.ones((2,2)) # Cria matriz 2 x 2 somente com um\n",
        "m3 = numpy.eye(4) # Cria matriz 4 x 4 identidade\n",
        "m4 = numpy.random.randint(low=0, high=100, size=10).reshape(2, 5) # Cria matriz 2 X 5 com números inteiros\n",
        "\n",
        "print('\\n numpy.zeros((3, 3)) = \\n', numpy.zeros((3, 3)))\n",
        "print('\\n numpy.ones((2,2)) = \\n', numpy.ones((2,2)))\n",
        "print('\\n numpy.eye(4) = \\n', numpy.eye(4))\n",
        "print('\\n m4 = \\n', m4)\n",
        "\n",
        "print(f\"Soma dos valores em m4 = {m4.sum()}\")\n",
        "print(f\"Valor mínimo em m4 = {m4.min()}\")\n",
        "print(f\"Valor máximo em m4 = {m4.max()}\")\n",
        "print(f\"Média dos valores em m4 = {m4.mean()}\")"
      ],
      "metadata": {
        "colab": {
          "base_uri": "https://localhost:8080/"
        },
        "id": "vzW80UxcVvJa",
        "outputId": "185debc4-915b-4e27-dc57-4fd1c560a8bf"
      },
      "execution_count": 30,
      "outputs": [
        {
          "output_type": "stream",
          "name": "stdout",
          "text": [
            "\n",
            " numpy.zeros((3, 3)) = \n",
            " [[0. 0. 0.]\n",
            " [0. 0. 0.]\n",
            " [0. 0. 0.]]\n",
            "\n",
            " numpy.ones((2,2)) = \n",
            " [[1. 1.]\n",
            " [1. 1.]]\n",
            "\n",
            " numpy.eye(4) = \n",
            " [[1. 0. 0. 0.]\n",
            " [0. 1. 0. 0.]\n",
            " [0. 0. 1. 0.]\n",
            " [0. 0. 0. 1.]]\n",
            "\n",
            " m4 = \n",
            " [[89 26 79 98 51]\n",
            " [42 77 36 10 94]]\n",
            "Soma dos valores em m4 = 602\n",
            "Valor mínimo em m4 = 10\n",
            "Valor máximo em m4 = 98\n",
            "Média dos valores em m4 = 60.2\n"
          ]
        }
      ]
    },
    {
      "cell_type": "code",
      "source": [
        "def extrair_lista_email(dict_1, dict_2):\n",
        "    lista_1 = list(zip(dict_1['nome'], dict_1['email'], dict_1['enviado']))\n",
        "    print(f\"Amostra da lista 1 = {lista_1[0]}\")\n",
        "\n",
        "    lista_2 = list(zip(dict_2['nome'], dict_2['email'], dict_2['enviado']))\n",
        "\n",
        "    dados = lista_1 + lista_2\n",
        "\n",
        "    print(f\"\\nAmostra dos dados = \\n{dados[:2]}\\n\\n\")\n",
        "    \n",
        "    # Queremos uma lista com o email de quem ainda não recebeu o aviso\n",
        "    emails = [item[1] for item in dados if not item[2]]\n",
        "    \n",
        "    return emails\n",
        "\n",
        "\n",
        "dados_1 = {\n",
        "    'nome': ['Sonia Weber', 'Daryl Lowe', 'Vernon Carroll', 'Basil Gilliam', 'Mechelle Cobb', 'Edan Booker', 'Igor Wyatt', 'Ethan Franklin', 'Reed Williamson', 'Price Singleton'],\n",
        "    'email': ['Lorem.ipsum@cursusvestibulumMauris.com', 'auctor@magnis.org', 'at@magnaUttincidunt.org', 'mauris.sagittis@sem.com', 'nec.euismod.in@mattis.co.uk', 'egestas@massaMaurisvestibulum.edu', 'semper.auctor.Mauris@Crasdolordolor.edu', 'risus.Quisque@condimentum.com', 'Donec@nislMaecenasmalesuada.net', 'Aenean.gravida@atrisus.edu'],\n",
        "    'enviado': [False, False, False, False, False, False, False, True, False, False]\n",
        "}\n",
        "\n",
        "dados_2 = {\n",
        "    'nome': ['Travis Shepherd', 'Hoyt Glass', 'Jennifer Aguirre', 'Cassady Ayers', 'Colin Myers', 'Herrod Curtis', 'Cecilia Park', 'Hop Byrd', 'Beatrice Silva', 'Alden Morales'],\n",
        "    'email': ['at@sed.org', 'ac.arcu.Nunc@auctor.edu', 'nunc.Quisque.ornare@nibhAliquam.co.uk', 'non.arcu@mauriseu.com', 'fringilla.cursus.purus@erategetipsum.ca', 'Fusce.fermentum@tellus.co.uk', 'dolor.tempus.non@ipsum.net', 'blandit.congue.In@libero.com', 'nec.tempus.mauris@Suspendisse.com', 'felis@urnaconvalliserat.org'],\n",
        "    'enviado': [False, False, False, True, True, True, False, True, True, False]\n",
        "}\n",
        "\n",
        "\n",
        "emails = extrair_lista_email(dict_1=dados_1, dict_2=dados_2)\n",
        "print(f\"E-mails a serem enviados = \\n {emails}\")\n",
        "Amostra da lista 1 = ('Sonia Weber', 'Lorem.ipsum@cursusvestibulumMauris.com', False)\n",
        "\n",
        "Amostra dos dados = \n",
        "[('Sonia Weber', 'Lorem.ipsum@cursusvestibulumMauris.com', False), ('Daryl Lowe', 'auctor@magnis.org', False)]\n",
        "\n",
        "E-mails a serem enviados = \n",
        " ['Lorem.ipsum@cursusvestibulumMauris.com', 'auctor@magnis.org', 'at@magnaUttincidunt.org', 'mauris.sagittis@sem.com', 'nec.euismod.in@mattis.co.uk', 'egestas@massaMaurisvestibulum.edu', 'semper.auctor.Mauris@Crasdolordolor.edu', 'Donec@nislMaecenasmalesuada.net', 'Aenean.gravida@atrisus.edu', 'at@sed.org', 'ac.arcu.Nunc@auctor.edu', 'nunc.Quisque.ornare@nibhAliquam.co.uk', 'dolor.tempus.non@ipsum.net', 'felis@urnaconvalliserat.org']\n"
      ],
      "metadata": {
        "colab": {
          "base_uri": "https://localhost:8080/",
          "height": 130
        },
        "id": "xTcS3JqlXQ3i",
        "outputId": "7e3a8722-5991-40e9-86b8-1dc618675aa4"
      },
      "execution_count": 31,
      "outputs": [
        {
          "output_type": "error",
          "ename": "SyntaxError",
          "evalue": "ignored",
          "traceback": [
            "\u001b[0;36m  File \u001b[0;32m\"<ipython-input-31-3b5d8ac1dc80>\"\u001b[0;36m, line \u001b[0;32m32\u001b[0m\n\u001b[0;31m    Amostra da lista 1 = ('Sonia Weber', 'Lorem.ipsum@cursusvestibulumMauris.com', False)\u001b[0m\n\u001b[0m            ^\u001b[0m\n\u001b[0;31mSyntaxError\u001b[0m\u001b[0;31m:\u001b[0m invalid syntax\n"
          ]
        }
      ]
    }
  ]
}