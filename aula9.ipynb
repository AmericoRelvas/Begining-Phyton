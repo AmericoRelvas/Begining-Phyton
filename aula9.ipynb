{
  "nbformat": 4,
  "nbformat_minor": 0,
  "metadata": {
    "colab": {
      "provenance": []
    },
    "kernelspec": {
      "name": "python3",
      "display_name": "Python 3"
    },
    "language_info": {
      "name": "python"
    }
  },
  "cells": [
    {
      "cell_type": "code",
      "execution_count": 2,
      "metadata": {
        "colab": {
          "base_uri": "https://localhost:8080/"
        },
        "id": "n0w-40v0vN9z",
        "outputId": "862a0e48-69bd-4454-ab97-dc3c4ad6a2c8"
      },
      "outputs": [
        {
          "output_type": "stream",
          "name": "stdout",
          "text": [
            "<class 'sqlite3.Connection'>\n"
          ]
        }
      ],
      "source": [
        "import sqlite3\n",
        "\n",
        "conn = sqlite3.connect('aulaDB.db')\n",
        "print(type(conn))"
      ]
    },
    {
      "cell_type": "code",
      "source": [
        "ddl_create = \"\"\"\n",
        "CREATE TABLE fornecedor (\n",
        "    id_fornecedor INTEGER NOT NULL PRIMARY KEY AUTOINCREMENT,\n",
        "    nome_fornecedor TEXT NOT NULL,\n",
        "    cnpj VARCHAR(18) NOT NULL,\n",
        "    cidade TEXT, \n",
        "    estado VARCHAR(2) NOT NULL,\n",
        "    cep VARCHAR(9) NOT NULL,\n",
        "    data_cadastro DATE NOT NULL\n",
        ");\n",
        "\"\"\""
      ],
      "metadata": {
        "id": "3r7a7PV_wBrB"
      },
      "execution_count": 3,
      "outputs": []
    },
    {
      "cell_type": "code",
      "source": [
        "cursor = conn.cursor()\n",
        "cursor.execute(ddl_create)\n",
        "print(type(cursor))\n",
        "\n",
        "print(\"Tabela criada!\")\n",
        "print(\"Descrição do cursor: \", cursor.description)\n",
        "print(\"Linhas afetadas: \", cursor.rowcount)\n",
        "cursor.close()\n",
        "conn.close()"
      ],
      "metadata": {
        "colab": {
          "base_uri": "https://localhost:8080/"
        },
        "id": "lZmzd9mMxOM2",
        "outputId": "897538a9-3478-48d4-d089-17b53517e726"
      },
      "execution_count": 4,
      "outputs": [
        {
          "output_type": "stream",
          "name": "stdout",
          "text": [
            "<class 'sqlite3.Cursor'>\n",
            "Tabela criada!\n",
            "Descrição do cursor:  None\n",
            "Linhas afetadas:  -1\n"
          ]
        }
      ]
    },
    {
      "cell_type": "code",
      "source": [
        "# Só é preciso importar a biblioteca uma vez. Importamos novamente para manter todo o código em uma única célula\n",
        "import sqlite3\n",
        "\n",
        "conn = sqlite3.connect('aulaDB.db')\n",
        "cursor = conn.cursor()\n",
        "\n",
        "cursor.execute(\"\"\"\n",
        "INSERT INTO fornecedor (nome_fornecedor, cnpj, cidade, estado, cep, data_cadastro)\n",
        "VALUES ('Empresa A', '11.111.111/1111-11', 'São Paulo', 'SP', '11111-111', '2020-01-01')\n",
        "\"\"\")\n",
        "\n",
        "cursor.execute(\"\"\"\n",
        "INSERT INTO fornecedor (nome_fornecedor, cnpj, cidade, estado, cep, data_cadastro)\n",
        "VALUES ('Empresa B', '22.222.222/2222-22', 'Rio de Janeiro', 'RJ', '22222-222', '2020-01-01')\n",
        "\"\"\")\n",
        "\n",
        "cursor.execute(\"\"\"\n",
        "INSERT INTO fornecedor (nome_fornecedor, cnpj, cidade, estado, cep, data_cadastro)\n",
        "VALUES ('Empresa C', '33.333.333/3333-33', 'Curitiba', 'PR', '33333-333', '2020-01-01')\n",
        "\"\"\")\n",
        "\n",
        "conn.commit()\n",
        "\n",
        "print(\"Dados inseridos!\")\n",
        "print(\"Descrição do cursor: \", cursor.description)\n",
        "print(\"Linhas afetadas: \", cursor.rowcount)\n",
        "cursor.close()\n",
        "conn.close()\n"
      ],
      "metadata": {
        "colab": {
          "base_uri": "https://localhost:8080/"
        },
        "id": "dMWjdqhjyYGh",
        "outputId": "deb1cb94-621a-4bf8-cf00-6e33b82f5060"
      },
      "execution_count": 5,
      "outputs": [
        {
          "output_type": "stream",
          "name": "stdout",
          "text": [
            "Dados inseridos!\n",
            "Descrição do cursor:  None\n",
            "Linhas afetadas:  1\n"
          ]
        }
      ]
    },
    {
      "cell_type": "code",
      "source": [
        "# Só é preciso importar a biblioteca uma vez. Importamos novamente para manter todo o código em uma única célula\n",
        "import sqlite3\n",
        "\n",
        "conn = sqlite3.connect('aulaDB.db')\n",
        "cursor = conn.cursor()\n",
        "\n",
        "dados = [\n",
        "    ('Empresa D', '44.444.444/4444-44', 'São Paulo', 'SP', '44444-444', '2020-01-01'),\n",
        "    ('Empresa E', '55.555.555/5555-55', 'São Paulo', 'SP', '55555-555', '2020-01-01'),\n",
        "    ('Empresa F', '66.666.666/6666-66', 'São Paulo', 'SP', '66666-666', '2020-01-01')\n",
        "]\n",
        "\n",
        "cursor.executemany(\"\"\"\n",
        "INSERT INTO fornecedor (nome_fornecedor, cnpj, cidade, estado, cep, data_cadastro)\n",
        "VALUES (?, ?, ?, ?, ?, ?)\"\"\", dados)\n",
        "\n",
        "conn.commit()\n",
        "\n",
        "print(\"Dados inseridos!\")\n",
        "print(\"Descrição do cursor: \", cursor.description)\n",
        "print(\"Linhas afetadas: \", cursor.rowcount)\n",
        "cursor.close()\n",
        "conn.close()"
      ],
      "metadata": {
        "colab": {
          "base_uri": "https://localhost:8080/"
        },
        "id": "xxDk52znzXDw",
        "outputId": "bcfef3ae-ea84-40be-f221-d3dd50b24588"
      },
      "execution_count": 6,
      "outputs": [
        {
          "output_type": "stream",
          "name": "stdout",
          "text": [
            "Dados inseridos!\n",
            "Descrição do cursor:  None\n",
            "Linhas afetadas:  3\n"
          ]
        }
      ]
    },
    {
      "cell_type": "code",
      "source": [
        "# Só é preciso importar a biblioteca uma vez. Importamos novamente para manter todo o código em uma única célula\n",
        "import sqlite3\n",
        "\n",
        "conn = sqlite3.connect('aulaDB.db')\n",
        "cursor = conn.cursor()\n",
        "\n",
        "cursor.execute(\"SELECT * FROM fornecedor\")\n",
        "resultado = cursor.fetchall()\n",
        "\n",
        "print(\"Descrição do cursor: \", cursor.description)\n",
        "print(\"Linhas afetadas: \", cursor.rowcount)\n",
        "\n",
        "resultado[:2]"
      ],
      "metadata": {
        "colab": {
          "base_uri": "https://localhost:8080/"
        },
        "id": "cwmkcMTfz5JZ",
        "outputId": "b80020c4-3783-4839-929f-13b612a20127"
      },
      "execution_count": 10,
      "outputs": [
        {
          "output_type": "stream",
          "name": "stdout",
          "text": [
            "Descrição do cursor:  (('id_fornecedor', None, None, None, None, None, None), ('nome_fornecedor', None, None, None, None, None, None), ('cnpj', None, None, None, None, None, None), ('cidade', None, None, None, None, None, None), ('estado', None, None, None, None, None, None), ('cep', None, None, None, None, None, None), ('data_cadastro', None, None, None, None, None, None))\n",
            "Linhas afetadas:  -1\n"
          ]
        },
        {
          "output_type": "execute_result",
          "data": {
            "text/plain": [
              "[(1,\n",
              "  'Empresa A',\n",
              "  '11.111.111/1111-11',\n",
              "  'São Paulo',\n",
              "  'SP',\n",
              "  '11111-111',\n",
              "  '2020-01-01'),\n",
              " (2,\n",
              "  'Empresa B',\n",
              "  '22.222.222/2222-22',\n",
              "  'Rio de Janeiro',\n",
              "  'RJ',\n",
              "  '22222-222',\n",
              "  '2020-01-01')]"
            ]
          },
          "metadata": {},
          "execution_count": 10
        }
      ]
    },
    {
      "cell_type": "code",
      "source": [
        "for linha in resultado:\n",
        "    print(linha)\n"
      ],
      "metadata": {
        "colab": {
          "base_uri": "https://localhost:8080/"
        },
        "id": "63BdzT4p0cro",
        "outputId": "7f6551ec-aa8d-417b-ab7d-430df3a63b4c"
      },
      "execution_count": 12,
      "outputs": [
        {
          "output_type": "stream",
          "name": "stdout",
          "text": [
            "(1, 'Empresa A', '11.111.111/1111-11', 'São Paulo', 'SP', '11111-111', '2020-01-01')\n",
            "(2, 'Empresa B', '22.222.222/2222-22', 'Rio de Janeiro', 'RJ', '22222-222', '2020-01-01')\n",
            "(3, 'Empresa C', '33.333.333/3333-33', 'Curitiba', 'PR', '33333-333', '2020-01-01')\n",
            "(4, 'Empresa D', '44.444.444/4444-44', 'São Paulo', 'SP', '44444-444', '2020-01-01')\n",
            "(5, 'Empresa E', '55.555.555/5555-55', 'São Paulo', 'SP', '55555-555', '2020-01-01')\n",
            "(6, 'Empresa F', '66.666.666/6666-66', 'São Paulo', 'SP', '66666-666', '2020-01-01')\n"
          ]
        }
      ]
    },
    {
      "cell_type": "code",
      "source": [
        "cursor.execute(\"SELECT * FROM fornecedor WHERE id_fornecedor = 5\")\n",
        "resultado = cursor.fetchall()\n",
        "print(resultado)\n",
        "\n",
        "cursor.close()\n",
        "conn.close()"
      ],
      "metadata": {
        "colab": {
          "base_uri": "https://localhost:8080/"
        },
        "id": "Ddy_jWXG1MXH",
        "outputId": "1c74bc37-5c93-4a4e-9177-81e793b67dd3"
      },
      "execution_count": 13,
      "outputs": [
        {
          "output_type": "stream",
          "name": "stdout",
          "text": [
            "[(5, 'Empresa E', '55.555.555/5555-55', 'São Paulo', 'SP', '55555-555', '2020-01-01')]\n"
          ]
        }
      ]
    },
    {
      "cell_type": "code",
      "source": [
        "# Só é preciso importar a biblioteca uma vez. Importamos novamente para manter todo o código em uma única célula\n",
        "import sqlite3\n",
        "\n",
        "conn = sqlite3.connect('aulaDB.db')\n",
        "cursor = conn.cursor()\n",
        "\n",
        "cursor.execute(\"UPDATE fornecedor SET cidade = 'Campinas' WHERE id_fornecedor = 5\")\n",
        "conn.commit()\n",
        "\n",
        "cursor.execute(\"SELECT * FROM fornecedor\")\n",
        "for linha in cursor.fetchall():\n",
        "    print(linha)\n",
        "\n",
        "cursor.close()\n",
        "conn.close()"
      ],
      "metadata": {
        "colab": {
          "base_uri": "https://localhost:8080/"
        },
        "id": "gevnH3te1ZRI",
        "outputId": "7ac997d8-397c-4779-9bd1-1ae3b70ef528"
      },
      "execution_count": 14,
      "outputs": [
        {
          "output_type": "stream",
          "name": "stdout",
          "text": [
            "(1, 'Empresa A', '11.111.111/1111-11', 'São Paulo', 'SP', '11111-111', '2020-01-01')\n",
            "(2, 'Empresa B', '22.222.222/2222-22', 'Rio de Janeiro', 'RJ', '22222-222', '2020-01-01')\n",
            "(3, 'Empresa C', '33.333.333/3333-33', 'Curitiba', 'PR', '33333-333', '2020-01-01')\n",
            "(4, 'Empresa D', '44.444.444/4444-44', 'São Paulo', 'SP', '44444-444', '2020-01-01')\n",
            "(5, 'Empresa E', '55.555.555/5555-55', 'Campinas', 'SP', '55555-555', '2020-01-01')\n",
            "(6, 'Empresa F', '66.666.666/6666-66', 'São Paulo', 'SP', '66666-666', '2020-01-01')\n"
          ]
        }
      ]
    },
    {
      "cell_type": "code",
      "source": [
        "# Só é preciso importar a biblioteca uma vez. Importamos novamente para manter todo o código em uma única célula\n",
        "import sqlite3\n",
        "\n",
        "conn = sqlite3.connect('aulaDB.db')\n",
        "cursor = conn.cursor()\n",
        "\n",
        "cursor.execute(\"DELETE FROM fornecedor WHERE id_fornecedor = 2\")\n",
        "conn.commit()\n",
        "\n",
        "cursor.execute(\"SELECT * FROM fornecedor\")\n",
        "for linha in cursor.fetchall():\n",
        "    print(linha)\n",
        "\n",
        "cursor.close()\n",
        "conn.close()"
      ],
      "metadata": {
        "colab": {
          "base_uri": "https://localhost:8080/"
        },
        "id": "9gIDxr7U17xf",
        "outputId": "893a2444-bd35-43ef-a69c-706ba64e03a5"
      },
      "execution_count": 15,
      "outputs": [
        {
          "output_type": "stream",
          "name": "stdout",
          "text": [
            "(1, 'Empresa A', '11.111.111/1111-11', 'São Paulo', 'SP', '11111-111', '2020-01-01')\n",
            "(3, 'Empresa C', '33.333.333/3333-33', 'Curitiba', 'PR', '33333-333', '2020-01-01')\n",
            "(4, 'Empresa D', '44.444.444/4444-44', 'São Paulo', 'SP', '44444-444', '2020-01-01')\n",
            "(5, 'Empresa E', '55.555.555/5555-55', 'Campinas', 'SP', '55555-555', '2020-01-01')\n",
            "(6, 'Empresa F', '66.666.666/6666-66', 'São Paulo', 'SP', '66666-666', '2020-01-01')\n"
          ]
        }
      ]
    },
    {
      "cell_type": "code",
      "source": [
        "# Só é preciso importar a biblioteca uma vez. Importamos novamente para manter todo o código em uma única célula\n",
        "import sqlite3\n",
        "\n",
        "conn = sqlite3.connect('aulaDB.db')\n",
        "cursor = conn.cursor()\n",
        "\n",
        "# Lista as tabelas do banco de dados\n",
        "cursor.execute(\"\"\"SELECT name FROM sqlite_master WHERE type='table' ORDER BY name\"\"\")\n",
        "print('Tabelas:')\n",
        "for tabela in cursor.fetchall():\n",
        "    print(tabela)\n",
        "\n",
        "# Captura a DDL usada para criar a tabela\n",
        "tabela = 'fornecedor'\n",
        "cursor.execute(f\"\"\"SELECT sql FROM sqlite_master WHERE type='table' AND name='{tabela}'\"\"\")\n",
        "print(f'\\nDDL da tabela {tabela}:')\n",
        "for schema in cursor.fetchall():\n",
        "    print(\"%s\" % (schema))\n",
        "    \n",
        "cursor.close()\n",
        "conn.close()"
      ],
      "metadata": {
        "colab": {
          "base_uri": "https://localhost:8080/"
        },
        "id": "_tEcWWtK2mEe",
        "outputId": "59834307-2f0f-4531-cdc1-3e879e298528"
      },
      "execution_count": 16,
      "outputs": [
        {
          "output_type": "stream",
          "name": "stdout",
          "text": [
            "Tabelas:\n",
            "('fornecedor',)\n",
            "('sqlite_sequence',)\n",
            "\n",
            "DDL da tabela fornecedor:\n",
            "CREATE TABLE fornecedor (\n",
            "    id_fornecedor INTEGER NOT NULL PRIMARY KEY AUTOINCREMENT,\n",
            "    nome_fornecedor TEXT NOT NULL,\n",
            "    cnpj VARCHAR(18) NOT NULL,\n",
            "    cidade TEXT, \n",
            "    estado VARCHAR(2) NOT NULL,\n",
            "    cep VARCHAR(9) NOT NULL,\n",
            "    data_cadastro DATE NOT NULL\n",
            ")\n"
          ]
        }
      ]
    },
    {
      "cell_type": "code",
      "source": [
        "import sqlite3\n",
        "\n",
        "# Cria banco de cados\n",
        "conn = sqlite3.connect('aulaDB.db')\n",
        "print(type(conn))\n",
        "\n",
        "# Cria tabela no banco, pois está dentro da mesma conexão\n",
        "ddl_create = \"\"\"\n",
        "CREATE TABLE fornecedor (\n",
        "    id_fornecedor INTEGER NOT NULL PRIMARY KEY AUTOINCREMENT,\n",
        "    nome_fornecedor TEXT NOT NULL,\n",
        "    cnpj VARCHAR(18) NOT NULL,\n",
        "    cidade TEXT, \n",
        "    estado VARCHAR(2) NOT NULL,\n",
        "    cep VARCHAR(9) NOT NULL,\n",
        "    data_cadastro DATE NOT NULL\n",
        ");\n",
        "\"\"\"\n",
        "cursor = conn.cursor()\n",
        "cursor.execute(ddl_create)\n",
        "print(\"Tabela criada!\")\n",
        "\n",
        "# Insere dados dentro da tabela no mesmo banco, pois está na mesma conexão\n",
        "cursor.execute(\"\"\"\n",
        "INSERT INTO fornecedor (nome_fornecedor, cnpj, cidade, estado, cep, data_cadastro)\n",
        "VALUES ('Empresa A', '11.111.111/1111-11', 'São Paulo', 'SP', '11111-111', '2020-01-01')\n",
        "\"\"\")\n",
        "\n",
        "cursor.execute(\"\"\"\n",
        "INSERT INTO fornecedor (nome_fornecedor, cnpj, cidade, estado, cep, data_cadastro)\n",
        "VALUES ('Empresa B', '22.222.222/2222-22', 'Rio de Janeiro', 'RJ', '22222-222', '2020-01-01')\n",
        "\"\"\")\n",
        "\n",
        "cursor.execute(\"\"\"\n",
        "INSERT INTO fornecedor (nome_fornecedor, cnpj, cidade, estado, cep, data_cadastro)\n",
        "VALUES ('Empresa C', '33.333.333/3333-33', 'Curitiba', 'PR', '33333-333', '2020-01-01')\n",
        "\"\"\")\n",
        "conn.commit()\n",
        "\n",
        "# Extrai as informações de uma tabela\n",
        "cursor.execute(\"SELECT * FROM fornecedor\")\n",
        "resultado = cursor.fetchall()\n",
        "\n",
        "for linha in resultado:\n",
        "    print(linha)\n",
        "    \n",
        "    \n",
        "# Fecha o cursor e a conexão\n",
        "cursor.close()\n",
        "conn.close()"
      ],
      "metadata": {
        "colab": {
          "base_uri": "https://localhost:8080/",
          "height": 252
        },
        "id": "8VMjY_lW3DC4",
        "outputId": "af027e17-f540-455f-88d7-cc28186a1783"
      },
      "execution_count": 17,
      "outputs": [
        {
          "output_type": "stream",
          "name": "stdout",
          "text": [
            "<class 'sqlite3.Connection'>\n"
          ]
        },
        {
          "output_type": "error",
          "ename": "OperationalError",
          "evalue": "ignored",
          "traceback": [
            "\u001b[0;31m---------------------------------------------------------------------------\u001b[0m",
            "\u001b[0;31mOperationalError\u001b[0m                          Traceback (most recent call last)",
            "\u001b[0;32m<ipython-input-17-f7d39bd761b4>\u001b[0m in \u001b[0;36m<module>\u001b[0;34m\u001b[0m\n\u001b[1;32m     18\u001b[0m \"\"\"\n\u001b[1;32m     19\u001b[0m \u001b[0mcursor\u001b[0m \u001b[0;34m=\u001b[0m \u001b[0mconn\u001b[0m\u001b[0;34m.\u001b[0m\u001b[0mcursor\u001b[0m\u001b[0;34m(\u001b[0m\u001b[0;34m)\u001b[0m\u001b[0;34m\u001b[0m\u001b[0;34m\u001b[0m\u001b[0m\n\u001b[0;32m---> 20\u001b[0;31m \u001b[0mcursor\u001b[0m\u001b[0;34m.\u001b[0m\u001b[0mexecute\u001b[0m\u001b[0;34m(\u001b[0m\u001b[0mddl_create\u001b[0m\u001b[0;34m)\u001b[0m\u001b[0;34m\u001b[0m\u001b[0;34m\u001b[0m\u001b[0m\n\u001b[0m\u001b[1;32m     21\u001b[0m \u001b[0mprint\u001b[0m\u001b[0;34m(\u001b[0m\u001b[0;34m\"Tabela criada!\"\u001b[0m\u001b[0;34m)\u001b[0m\u001b[0;34m\u001b[0m\u001b[0;34m\u001b[0m\u001b[0m\n\u001b[1;32m     22\u001b[0m \u001b[0;34m\u001b[0m\u001b[0m\n",
            "\u001b[0;31mOperationalError\u001b[0m: table fornecedor already exists"
          ]
        }
      ]
    },
    {
      "cell_type": "code",
      "source": [
        "import sqlite3\n",
        "\n",
        "class DDLSQLite:\n",
        "    def _conectar(self, nome_banco):\n",
        "        nome_banco += '.db'\n",
        "        conn = sqlite3.connect(nome_banco)\n",
        "        return conn\n",
        "\n",
        "    def criar_banco_de_dados(self, nome_banco):\n",
        "        nome_banco += '.db'\n",
        "        sqlite3.connect(nome_banco).close()\n",
        "        print(f\"O banco de dados {nome_banco} foi criado com sucesso!\")\n",
        "        return None\n",
        "\n",
        "    def criar_tabela(self, nome_banco, ddl_create):\n",
        "        conn = self._conectar(nome_banco)\n",
        "        cursor = conn.cursor()\n",
        "        cursor.execute(ddl_create)\n",
        "        cursor.close()\n",
        "        conn.close()\n",
        "        print(f\"Tabela criada com sucesso!\")\n",
        "        return None\n",
        "\n",
        "    def apagar_tabela(self, nome_banco, tabela):\n",
        "        conn = self._conectar(nome_banco)\n",
        "        cursor = conn.cursor()\n",
        "        cursor.execute(f\"DROP TABLE {tabela}\")\n",
        "        cursor.close()\n",
        "        conn.close()\n",
        "        print(f\"A tabela {tabela} foi excluída com sucesso!\")\n",
        "        return None"
      ],
      "metadata": {
        "id": "HgJHaaKM4hYX"
      },
      "execution_count": 18,
      "outputs": []
    },
    {
      "cell_type": "code",
      "source": [
        "import sqlite3\n",
        "\n",
        "class CrudSQLite:\n",
        "    def __init__(self, nome_banco):\n",
        "        self.nome_banco = nome_banco + '.db'\n",
        "\n",
        "    def _conectar(self):\n",
        "        conn = sqlite3.connect(self.nome_banco)\n",
        "        return conn\n",
        "\n",
        "    def inserir_registro(self, tabela, registro):\n",
        "        colunas = tuple(registro.keys())\n",
        "        valores = tuple(registro.values())\n",
        "        \n",
        "        conn = self._conectar()\n",
        "        cursor = conn.cursor()\n",
        "        query = f\"\"\"INSERT INTO {tabela} {colunas} VALUES {valores}\"\"\"\n",
        "        cursor.execute(query)\n",
        "        conn.commit()\n",
        "        cursor.close()\n",
        "        conn.close()\n",
        "        print(\"Dados inseridos com sucesso!\")\n",
        "        return None\n",
        "\n",
        "    def ler_registros(self, tabela):\n",
        "        conn = self._conectar()\n",
        "        cursor = conn.cursor()\n",
        "        query = f\"\"\"SELECT * FROM {tabela}\"\"\"\n",
        "        cursor.execute(query)\n",
        "        resultado = cursor.fetchall()\n",
        "        cursor.close()\n",
        "        conn.close()\n",
        "        return resultado\n",
        "\n",
        "    def atualizar_registro(self, tabela, dado, condicao):\n",
        "        campo_alterar = list(dado.keys())[0]\n",
        "        valor_alterar = dado.get(campo_alterar)\n",
        "        campo_condicao = list(condicao.keys())[0]\n",
        "        valor_condicao = condicao.get(campo_condicao)\n",
        "        \n",
        "        conn = self._conectar()\n",
        "        cursor = conn.cursor()\n",
        "        query = f\"\"\"UPDATE {tabela} SET {campo_alterar} = '{valor_alterar}' WHERE {campo_condicao} = {valor_condicao}\"\"\"\n",
        "        cursor.execute(query)\n",
        "        conn.commit()\n",
        "        cursor.close()\n",
        "        conn.close()\n",
        "        print(\"Dado atualizado com sucesso!\")\n",
        "        return None\n",
        "\n",
        "    def apagar_registro(self, tabela, condicao):\n",
        "        campo_condicao = list(condicao.keys())[0]\n",
        "        valor_condicao = condicao.get(campo_condicao)\n",
        "        conn = self._conectar()\n",
        "        cursor = conn.cursor()\n",
        "        query = f\"\"\"DELETE FROM {tabela} WHERE {campo_condicao} = {valor_condicao}\"\"\"\n",
        "        cursor.execute(query)\n",
        "        conn.commit()\n",
        "        cursor.close()\n",
        "        conn.close()\n",
        "        print(\"Dado excluído com sucesso!\")\n",
        "        return None\n"
      ],
      "metadata": {
        "id": "O6TL3vSO5I1J"
      },
      "execution_count": 19,
      "outputs": []
    },
    {
      "cell_type": "code",
      "source": [
        "# instancia um objeto\n",
        "objeto_ddl = DDLSQLite()\n",
        "\n",
        "# Cria um banco de dados\n",
        "objeto_ddl.criar_banco_de_dados('desafio')\n",
        "\n",
        "# Cria uma tabela chamada cliente\n",
        "ddl_create = \"\"\"\n",
        "CREATE TABLE cliente (\n",
        "    id_cliente INTEGER NOT NULL PRIMARY KEY AUTOINCREMENT,\n",
        "    nome_cliente TEXT NOT NULL,\n",
        "    cpf VARCHAR(14) NOT NULL,\n",
        "    email TEXT NOT NULL,\n",
        "    telefone VARCHAR(15),\n",
        "    cidade TEXT, \n",
        "    estado VARCHAR(2) NOT NULL,\n",
        "    data_cadastro DATE NOT NULL\n",
        ");\n",
        "\"\"\"\n",
        "objeto_ddl.criar_tabela(nome_banco='desafio', ddl_create=ddl_create)\n",
        "\n",
        "# Caso precise excluir a tabela, o comando a seguir deverá ser usado\n",
        "# objeto_ddl.apagar_tabela(nome_banco='desafio', tabela='cliente')"
      ],
      "metadata": {
        "colab": {
          "base_uri": "https://localhost:8080/"
        },
        "id": "Bu1yodVB5e6I",
        "outputId": "716adb4c-1ede-4e9c-f6a4-6a12ede49709"
      },
      "execution_count": 20,
      "outputs": [
        {
          "output_type": "stream",
          "name": "stdout",
          "text": [
            "O banco de dados desafio.db foi criado com sucesso!\n",
            "Tabela criada com sucesso!\n"
          ]
        }
      ]
    },
    {
      "cell_type": "code",
      "source": [
        "objeto_dml = CrudSQLite(nome_banco='desafio')\n",
        "# Inserir registros\n",
        "dados = [\n",
        "    {\n",
        "        'nome_cliente': 'João',\n",
        "        'cpf': '111.111.111-11',\n",
        "        'email': 'joao@servidor',\n",
        "        'cidade': 'São Paulo',\n",
        "        'estado': 'SP',\n",
        "        'data_cadastro': '2020-01-01'\n",
        "    },\n",
        "    {\n",
        "        'nome_cliente': 'Maria',\n",
        "        'cpf': '222.222.222-22',\n",
        "        'email': 'maria@servidor',\n",
        "        'cidade': 'São Paulo',\n",
        "        'estado': 'SP',\n",
        "        'data_cadastro': '2020-01-01'\n",
        "    },\n",
        "]\n",
        "# Para cada dicionário na lista de dados, invoca o método de inserção\n",
        "for valor in dados:\n",
        "    objeto_dml.inserir_registro(tabela='cliente', registro=valor)\n",
        "\n",
        "# Carrega dados salvos\n",
        "dados_carregados = objeto_dml.ler_registros(tabela='cliente')\n",
        "for dado in dados_carregados:\n",
        "    print(dado)"
      ],
      "metadata": {
        "colab": {
          "base_uri": "https://localhost:8080/"
        },
        "id": "zE6YmIt05upO",
        "outputId": "76d2aa11-7ef2-4762-932e-94764e6a9f6f"
      },
      "execution_count": 21,
      "outputs": [
        {
          "output_type": "stream",
          "name": "stdout",
          "text": [
            "Dados inseridos com sucesso!\n",
            "Dados inseridos com sucesso!\n",
            "(1, 'João', '111.111.111-11', 'joao@servidor', None, 'São Paulo', 'SP', '2020-01-01')\n",
            "(2, 'Maria', '222.222.222-22', 'maria@servidor', None, 'São Paulo', 'SP', '2020-01-01')\n"
          ]
        }
      ]
    },
    {
      "cell_type": "code",
      "source": [
        "# Atualiza registro\n",
        "dado_atualizar = {'telefone': '(11)1.1111-1111'}\n",
        "condicao = {'id_cliente': 1}\n",
        "\n",
        "objeto_dml.atualizar_registro(tabela='cliente', dado=dado_atualizar, condicao=condicao)\n",
        "\n",
        "dados_carregados = objeto_dml.ler_registros(tabela='cliente')\n",
        "for dado in dados_carregados:\n",
        "    print(dado)\n",
        "\n",
        "# Apaga registro\n",
        "condicao = {'id_cliente': 1}\n",
        "\n",
        "objeto_dml.apagar_registro(tabela='cliente', condicao=condicao)"
      ],
      "metadata": {
        "colab": {
          "base_uri": "https://localhost:8080/"
        },
        "id": "F_b7LkMH6Awm",
        "outputId": "94836311-7833-4af6-9946-775c56dc4ff2"
      },
      "execution_count": 22,
      "outputs": [
        {
          "output_type": "stream",
          "name": "stdout",
          "text": [
            "Dado atualizado com sucesso!\n",
            "(1, 'João', '111.111.111-11', 'joao@servidor', '(11)1.1111-1111', 'São Paulo', 'SP', '2020-01-01')\n",
            "(2, 'Maria', '222.222.222-22', 'maria@servidor', None, 'São Paulo', 'SP', '2020-01-01')\n",
            "Dado excluído com sucesso!\n"
          ]
        }
      ]
    }
  ]
}