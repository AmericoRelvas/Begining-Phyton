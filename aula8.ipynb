{
  "nbformat": 4,
  "nbformat_minor": 0,
  "metadata": {
    "colab": {
      "provenance": []
    },
    "kernelspec": {
      "name": "python3",
      "display_name": "Python 3"
    },
    "language_info": {
      "name": "python"
    }
  },
  "cells": [
    {
      "cell_type": "code",
      "execution_count": 1,
      "metadata": {
        "colab": {
          "base_uri": "https://localhost:8080/"
        },
        "id": "n9ANmVpuUBGe",
        "outputId": "d6ba9020-6874-486c-ac5e-5c3d912de528"
      },
      "outputs": [
        {
          "output_type": "execute_result",
          "data": {
            "text/plain": [
              "0.5253219888177297"
            ]
          },
          "metadata": {},
          "execution_count": 1
        }
      ],
      "source": [
        "import math\n",
        "\n",
        "math.sqrt(25)\n",
        "math.log2(1024)\n",
        "math.cos(45)"
      ]
    },
    {
      "cell_type": "code",
      "source": [
        "import math as m\n",
        "\n",
        "m.sqrt(25)\n",
        "m.log2(1024)\n",
        "m.cos(45)"
      ],
      "metadata": {
        "colab": {
          "base_uri": "https://localhost:8080/"
        },
        "id": "Yqw5rXpFUJjG",
        "outputId": "83162df6-0fcd-42ce-cbb8-0d21e6efe856"
      },
      "execution_count": 2,
      "outputs": [
        {
          "output_type": "execute_result",
          "data": {
            "text/plain": [
              "0.5253219888177297"
            ]
          },
          "metadata": {},
          "execution_count": 2
        }
      ]
    },
    {
      "cell_type": "code",
      "source": [
        "from math import sqrt, log2, cos\n",
        "\n",
        "sqrt(25)\n",
        "log2(1024)\n",
        "cos(45)"
      ],
      "metadata": {
        "colab": {
          "base_uri": "https://localhost:8080/"
        },
        "id": "xNaKhd0DUQdt",
        "outputId": "b69b7eea-2af5-489a-91bc-643c4d63dac4"
      },
      "execution_count": 3,
      "outputs": [
        {
          "output_type": "execute_result",
          "data": {
            "text/plain": [
              "0.5253219888177297"
            ]
          },
          "metadata": {},
          "execution_count": 3
        }
      ]
    },
    {
      "cell_type": "code",
      "source": [
        "import random\n",
        "\n",
        "print(random.randint(0, 100))\n",
        "print(random.choice([1, 10, -1, 100]))\n",
        "print(random.sample(range(100000), k=12))"
      ],
      "metadata": {
        "colab": {
          "base_uri": "https://localhost:8080/"
        },
        "id": "BZPigYc9VNmM",
        "outputId": "7052166c-1fc6-464c-8f2e-7ef73e78c322"
      },
      "execution_count": 4,
      "outputs": [
        {
          "output_type": "stream",
          "name": "stdout",
          "text": [
            "12\n",
            "1\n",
            "[67628, 86796, 6156, 1973, 40890, 45708, 57300, 81625, 26432, 64969, 23263, 92233]\n"
          ]
        }
      ]
    },
    {
      "cell_type": "code",
      "source": [
        "import os\n",
        "\n",
        "os.getcwd()\n",
        "os.listdir()\n",
        "os.cpu_count()\n",
        "os.getlogin()\n",
        "os.getenv(key='path')\n",
        "os.getpid()"
      ],
      "metadata": {
        "colab": {
          "base_uri": "https://localhost:8080/",
          "height": 235
        },
        "id": "C_QZO4dDV540",
        "outputId": "a0c357b4-8875-4c40-88ca-f0d597fb4f33"
      },
      "execution_count": 5,
      "outputs": [
        {
          "output_type": "error",
          "ename": "OSError",
          "evalue": "ignored",
          "traceback": [
            "\u001b[0;31m---------------------------------------------------------------------------\u001b[0m",
            "\u001b[0;31mOSError\u001b[0m                                   Traceback (most recent call last)",
            "\u001b[0;32m<ipython-input-5-d2de4d04d0a2>\u001b[0m in \u001b[0;36m<module>\u001b[0;34m\u001b[0m\n\u001b[1;32m      4\u001b[0m \u001b[0mos\u001b[0m\u001b[0;34m.\u001b[0m\u001b[0mlistdir\u001b[0m\u001b[0;34m(\u001b[0m\u001b[0;34m)\u001b[0m\u001b[0;34m\u001b[0m\u001b[0;34m\u001b[0m\u001b[0m\n\u001b[1;32m      5\u001b[0m \u001b[0mos\u001b[0m\u001b[0;34m.\u001b[0m\u001b[0mcpu_count\u001b[0m\u001b[0;34m(\u001b[0m\u001b[0;34m)\u001b[0m\u001b[0;34m\u001b[0m\u001b[0;34m\u001b[0m\u001b[0m\n\u001b[0;32m----> 6\u001b[0;31m \u001b[0mos\u001b[0m\u001b[0;34m.\u001b[0m\u001b[0mgetlogin\u001b[0m\u001b[0;34m(\u001b[0m\u001b[0;34m)\u001b[0m\u001b[0;34m\u001b[0m\u001b[0;34m\u001b[0m\u001b[0m\n\u001b[0m\u001b[1;32m      7\u001b[0m \u001b[0mos\u001b[0m\u001b[0;34m.\u001b[0m\u001b[0mgetenv\u001b[0m\u001b[0;34m(\u001b[0m\u001b[0mkey\u001b[0m\u001b[0;34m=\u001b[0m\u001b[0;34m'path'\u001b[0m\u001b[0;34m)\u001b[0m\u001b[0;34m\u001b[0m\u001b[0;34m\u001b[0m\u001b[0m\n\u001b[1;32m      8\u001b[0m \u001b[0mos\u001b[0m\u001b[0;34m.\u001b[0m\u001b[0mgetpid\u001b[0m\u001b[0;34m(\u001b[0m\u001b[0;34m)\u001b[0m\u001b[0;34m\u001b[0m\u001b[0;34m\u001b[0m\u001b[0m\n",
            "\u001b[0;31mOSError\u001b[0m: [Errno 6] No such device or address"
          ]
        }
      ]
    },
    {
      "cell_type": "code",
      "source": [
        "import re\n",
        "\n",
        "string = 'meuArquivo_20-01-2020.py'\n",
        "padrao = \"[a-zA-Z]*\"\n",
        "\n",
        "texto1 = re.search(padrao, string).group()\n",
        "texto2 = re.match(padrao, string).group()\n",
        "texto3 = re.split(\"_\", string)[0]\n",
        "\n",
        "print(texto1)\n",
        "print(texto2)\n",
        "print(texto3)"
      ],
      "metadata": {
        "colab": {
          "base_uri": "https://localhost:8080/"
        },
        "id": "9R16FOchWoOU",
        "outputId": "9c44f7fd-d952-430b-9b76-2d9ed95e42e1"
      },
      "execution_count": 6,
      "outputs": [
        {
          "output_type": "stream",
          "name": "stdout",
          "text": [
            "meuArquivo\n",
            "meuArquivo\n",
            "meuArquivo\n"
          ]
        }
      ]
    },
    {
      "cell_type": "code",
      "source": [
        "import datetime as dt\n",
        "\n",
        "# Operações com data e hora\n",
        "hoje = dt.datetime.today()\n",
        "ontem = hoje - dt.timedelta(days=1)\n",
        "uma_semana_atras = hoje - dt.timedelta(weeks=1)\n",
        "\n",
        "agora = dt.datetime.now()\n",
        "duas_horas_atras = agora - dt.timedelta(hours=2)\n",
        "\n",
        "# Formatação\n",
        "hoje_formatado = dt.datetime.strftime(hoje, \"%d-%m-%Y\") #https://docs.python.org/3/library/datetime.html#strftime-strptime-behavior\n",
        "ontem_formatado = dt.datetime.strftime(ontem, \"%d de %B de %Y\")\n",
        "\n",
        "# Converção de string para data\n",
        "data_string = '11/06/2019 15:30'\n",
        "data_dt = dt.datetime.strptime(data_string, \"%d/%m/%Y %H:%M\")\n",
        "\n",
        "print(hoje)\n",
        "print(hoje_formatado)\n",
        "print(ontem)\n",
        "print(ontem_formatado)"
      ],
      "metadata": {
        "colab": {
          "base_uri": "https://localhost:8080/"
        },
        "id": "yjMvOlkzXXIN",
        "outputId": "f22234ee-2b8f-4051-dd55-4caee57e7456"
      },
      "execution_count": 8,
      "outputs": [
        {
          "output_type": "stream",
          "name": "stdout",
          "text": [
            "2023-03-21 13:34:03.659515\n",
            "21-03-2023\n",
            "2023-03-20 13:34:03.659515\n",
            "20 de March de 2023\n"
          ]
        }
      ]
    },
    {
      "cell_type": "code",
      "source": [
        "import requests\n",
        "\n",
        "info = requests.get('https://api.github.com/events')\n",
        "info.headers"
      ],
      "metadata": {
        "colab": {
          "base_uri": "https://localhost:8080/"
        },
        "id": "eq-jPZawaqir",
        "outputId": "4ee049cd-604e-44d2-a522-8819cac58164"
      },
      "execution_count": 9,
      "outputs": [
        {
          "output_type": "execute_result",
          "data": {
            "text/plain": [
              "{'Server': 'GitHub.com', 'Date': 'Tue, 21 Mar 2023 13:45:16 GMT', 'Content-Type': 'application/json; charset=utf-8', 'Cache-Control': 'public, max-age=60, s-maxage=60', 'Vary': 'Accept, Accept-Encoding, Accept, X-Requested-With', 'ETag': 'W/\"71a7fd3acc40c154f51f10d568fa1327d9f5746dc72e350d2db464f851be4af9\"', 'Last-Modified': 'Tue, 21 Mar 2023 13:40:16 GMT', 'X-Poll-Interval': '60', 'X-GitHub-Media-Type': 'github.v3; format=json', 'Link': '<https://api.github.com/events?page=2>; rel=\"next\", <https://api.github.com/events?page=10>; rel=\"last\"', 'x-github-api-version-selected': '2022-11-28', 'Access-Control-Expose-Headers': 'ETag, Link, Location, Retry-After, X-GitHub-OTP, X-RateLimit-Limit, X-RateLimit-Remaining, X-RateLimit-Used, X-RateLimit-Resource, X-RateLimit-Reset, X-OAuth-Scopes, X-Accepted-OAuth-Scopes, X-Poll-Interval, X-GitHub-Media-Type, X-GitHub-SSO, X-GitHub-Request-Id, Deprecation, Sunset', 'Access-Control-Allow-Origin': '*', 'Strict-Transport-Security': 'max-age=31536000; includeSubdomains; preload', 'X-Frame-Options': 'deny', 'X-Content-Type-Options': 'nosniff', 'X-XSS-Protection': '0', 'Referrer-Policy': 'origin-when-cross-origin, strict-origin-when-cross-origin', 'Content-Security-Policy': \"default-src 'none'\", 'Content-Encoding': 'gzip', 'X-RateLimit-Limit': '60', 'X-RateLimit-Remaining': '59', 'X-RateLimit-Reset': '1679409916', 'X-RateLimit-Resource': 'core', 'X-RateLimit-Used': '1', 'Accept-Ranges': 'bytes', 'Transfer-Encoding': 'chunked', 'X-GitHub-Request-Id': 'B01C:3539:11BDE1F:24657BD:6419B4EC'}"
            ]
          },
          "metadata": {},
          "execution_count": 9
        }
      ]
    },
    {
      "cell_type": "code",
      "source": [
        "import requests\n",
        "\n",
        "info = requests.get('https://api.github.com/events')\n",
        "info.headers\n",
        "\n",
        "print(info.headers['date']) # Data de extração\n",
        "print(info.headers['server']) # Servidor de origem\n",
        "print(info.headers['status']) # Status HTTP da extração, 200 é ok\n",
        "print(info.encoding) # Encoding do texto\n",
        "print(info.headers['last-modified']) # Data da última modificação da informação"
      ],
      "metadata": {
        "colab": {
          "base_uri": "https://localhost:8080/",
          "height": 391
        },
        "id": "IeQq5eHIaxMd",
        "outputId": "4974b916-d32a-4389-8e01-4ef41df59e37"
      },
      "execution_count": 11,
      "outputs": [
        {
          "output_type": "stream",
          "name": "stdout",
          "text": [
            "Tue, 21 Mar 2023 13:46:30 GMT\n",
            "GitHub.com\n"
          ]
        },
        {
          "output_type": "error",
          "ename": "KeyError",
          "evalue": "ignored",
          "traceback": [
            "\u001b[0;31m---------------------------------------------------------------------------\u001b[0m",
            "\u001b[0;31mKeyError\u001b[0m                                  Traceback (most recent call last)",
            "\u001b[0;32m<ipython-input-11-74a46e8c4ba2>\u001b[0m in \u001b[0;36m<module>\u001b[0;34m\u001b[0m\n\u001b[1;32m      6\u001b[0m \u001b[0mprint\u001b[0m\u001b[0;34m(\u001b[0m\u001b[0minfo\u001b[0m\u001b[0;34m.\u001b[0m\u001b[0mheaders\u001b[0m\u001b[0;34m[\u001b[0m\u001b[0;34m'date'\u001b[0m\u001b[0;34m]\u001b[0m\u001b[0;34m)\u001b[0m \u001b[0;31m# Data de extração\u001b[0m\u001b[0;34m\u001b[0m\u001b[0;34m\u001b[0m\u001b[0m\n\u001b[1;32m      7\u001b[0m \u001b[0mprint\u001b[0m\u001b[0;34m(\u001b[0m\u001b[0minfo\u001b[0m\u001b[0;34m.\u001b[0m\u001b[0mheaders\u001b[0m\u001b[0;34m[\u001b[0m\u001b[0;34m'server'\u001b[0m\u001b[0;34m]\u001b[0m\u001b[0;34m)\u001b[0m \u001b[0;31m# Servidor de origem\u001b[0m\u001b[0;34m\u001b[0m\u001b[0;34m\u001b[0m\u001b[0m\n\u001b[0;32m----> 8\u001b[0;31m \u001b[0mprint\u001b[0m\u001b[0;34m(\u001b[0m\u001b[0minfo\u001b[0m\u001b[0;34m.\u001b[0m\u001b[0mheaders\u001b[0m\u001b[0;34m[\u001b[0m\u001b[0;34m'status'\u001b[0m\u001b[0;34m]\u001b[0m\u001b[0;34m)\u001b[0m \u001b[0;31m# Status HTTP da extração, 200 é ok\u001b[0m\u001b[0;34m\u001b[0m\u001b[0;34m\u001b[0m\u001b[0m\n\u001b[0m\u001b[1;32m      9\u001b[0m \u001b[0mprint\u001b[0m\u001b[0;34m(\u001b[0m\u001b[0minfo\u001b[0m\u001b[0;34m.\u001b[0m\u001b[0mencoding\u001b[0m\u001b[0;34m)\u001b[0m \u001b[0;31m# Encoding do texto\u001b[0m\u001b[0;34m\u001b[0m\u001b[0;34m\u001b[0m\u001b[0m\n\u001b[1;32m     10\u001b[0m \u001b[0mprint\u001b[0m\u001b[0;34m(\u001b[0m\u001b[0minfo\u001b[0m\u001b[0;34m.\u001b[0m\u001b[0mheaders\u001b[0m\u001b[0;34m[\u001b[0m\u001b[0;34m'last-modified'\u001b[0m\u001b[0;34m]\u001b[0m\u001b[0;34m)\u001b[0m \u001b[0;31m# Data da última modificação da informação\u001b[0m\u001b[0;34m\u001b[0m\u001b[0;34m\u001b[0m\u001b[0m\n",
            "\u001b[0;32m/usr/local/lib/python3.9/dist-packages/requests/structures.py\u001b[0m in \u001b[0;36m__getitem__\u001b[0;34m(self, key)\u001b[0m\n\u001b[1;32m     52\u001b[0m \u001b[0;34m\u001b[0m\u001b[0m\n\u001b[1;32m     53\u001b[0m     \u001b[0;32mdef\u001b[0m \u001b[0m__getitem__\u001b[0m\u001b[0;34m(\u001b[0m\u001b[0mself\u001b[0m\u001b[0;34m,\u001b[0m \u001b[0mkey\u001b[0m\u001b[0;34m)\u001b[0m\u001b[0;34m:\u001b[0m\u001b[0;34m\u001b[0m\u001b[0;34m\u001b[0m\u001b[0m\n\u001b[0;32m---> 54\u001b[0;31m         \u001b[0;32mreturn\u001b[0m \u001b[0mself\u001b[0m\u001b[0;34m.\u001b[0m\u001b[0m_store\u001b[0m\u001b[0;34m[\u001b[0m\u001b[0mkey\u001b[0m\u001b[0;34m.\u001b[0m\u001b[0mlower\u001b[0m\u001b[0;34m(\u001b[0m\u001b[0;34m)\u001b[0m\u001b[0;34m]\u001b[0m\u001b[0;34m[\u001b[0m\u001b[0;36m1\u001b[0m\u001b[0;34m]\u001b[0m\u001b[0;34m\u001b[0m\u001b[0;34m\u001b[0m\u001b[0m\n\u001b[0m\u001b[1;32m     55\u001b[0m \u001b[0;34m\u001b[0m\u001b[0m\n\u001b[1;32m     56\u001b[0m     \u001b[0;32mdef\u001b[0m \u001b[0m__delitem__\u001b[0m\u001b[0;34m(\u001b[0m\u001b[0mself\u001b[0m\u001b[0;34m,\u001b[0m \u001b[0mkey\u001b[0m\u001b[0;34m)\u001b[0m\u001b[0;34m:\u001b[0m\u001b[0;34m\u001b[0m\u001b[0;34m\u001b[0m\u001b[0m\n",
            "\u001b[0;31mKeyError\u001b[0m: 'status'"
          ]
        }
      ]
    },
    {
      "cell_type": "code",
      "source": [
        "texto_str = info.text\n",
        "print(type(texto_str))\n",
        "texto_str[:100] # exibe somente os 100 primeiros caracteres\n"
      ],
      "metadata": {
        "colab": {
          "base_uri": "https://localhost:8080/",
          "height": 53
        },
        "id": "Y_OweincbdhG",
        "outputId": "bcceabd4-0ed5-42d0-9849-0e5e3ae2f8ed"
      },
      "execution_count": 13,
      "outputs": [
        {
          "output_type": "stream",
          "name": "stdout",
          "text": [
            "<class 'str'>\n"
          ]
        },
        {
          "output_type": "execute_result",
          "data": {
            "text/plain": [
              "'[{\"id\":\"27871393047\",\"type\":\"PullRequestReviewEvent\",\"actor\":{\"id\":62285847,\"login\":\"lin01-cloud\",\"d'"
            ],
            "application/vnd.google.colaboratory.intrinsic+json": {
              "type": "string"
            }
          },
          "metadata": {},
          "execution_count": 13
        }
      ]
    },
    {
      "cell_type": "code",
      "source": [
        "texto_json = info.json()\n",
        "print(type(texto_json))\n",
        "texto_json[0]"
      ],
      "metadata": {
        "colab": {
          "base_uri": "https://localhost:8080/"
        },
        "id": "wo1gT62nbxEL",
        "outputId": "81e43401-890d-4ab2-9888-54c3d8f20cd1"
      },
      "execution_count": 14,
      "outputs": [
        {
          "output_type": "stream",
          "name": "stdout",
          "text": [
            "<class 'list'>\n"
          ]
        },
        {
          "output_type": "execute_result",
          "data": {
            "text/plain": [
              "{'id': '27871393047',\n",
              " 'type': 'PullRequestReviewEvent',\n",
              " 'actor': {'id': 62285847,\n",
              "  'login': 'lin01-cloud',\n",
              "  'display_login': 'lin01-cloud',\n",
              "  'gravatar_id': '',\n",
              "  'url': 'https://api.github.com/users/lin01-cloud',\n",
              "  'avatar_url': 'https://avatars.githubusercontent.com/u/62285847?'},\n",
              " 'repo': {'id': 614030883,\n",
              "  'name': 'CODEBLUE3/HeapTracker-client',\n",
              "  'url': 'https://api.github.com/repos/CODEBLUE3/HeapTracker-client'},\n",
              " 'payload': {'action': 'created',\n",
              "  'review': {'id': 1350488119,\n",
              "   'node_id': 'PRR_kwDOJJleI85QftA3',\n",
              "   'user': {'login': 'lin01-cloud',\n",
              "    'id': 62285847,\n",
              "    'node_id': 'MDQ6VXNlcjYyMjg1ODQ3',\n",
              "    'avatar_url': 'https://avatars.githubusercontent.com/u/62285847?v=4',\n",
              "    'gravatar_id': '',\n",
              "    'url': 'https://api.github.com/users/lin01-cloud',\n",
              "    'html_url': 'https://github.com/lin01-cloud',\n",
              "    'followers_url': 'https://api.github.com/users/lin01-cloud/followers',\n",
              "    'following_url': 'https://api.github.com/users/lin01-cloud/following{/other_user}',\n",
              "    'gists_url': 'https://api.github.com/users/lin01-cloud/gists{/gist_id}',\n",
              "    'starred_url': 'https://api.github.com/users/lin01-cloud/starred{/owner}{/repo}',\n",
              "    'subscriptions_url': 'https://api.github.com/users/lin01-cloud/subscriptions',\n",
              "    'organizations_url': 'https://api.github.com/users/lin01-cloud/orgs',\n",
              "    'repos_url': 'https://api.github.com/users/lin01-cloud/repos',\n",
              "    'events_url': 'https://api.github.com/users/lin01-cloud/events{/privacy}',\n",
              "    'received_events_url': 'https://api.github.com/users/lin01-cloud/received_events',\n",
              "    'type': 'User',\n",
              "    'site_admin': False},\n",
              "   'body': '',\n",
              "   'commit_id': 'fb8c0c8b5f7299cef17c1eade3fc15fd8052d5d0',\n",
              "   'submitted_at': '2023-03-21T13:41:28Z',\n",
              "   'state': 'commented',\n",
              "   'html_url': 'https://github.com/CODEBLUE3/HeapTracker-client/pull/17#pullrequestreview-1350488119',\n",
              "   'pull_request_url': 'https://api.github.com/repos/CODEBLUE3/HeapTracker-client/pulls/17',\n",
              "   'author_association': 'CONTRIBUTOR',\n",
              "   '_links': {'html': {'href': 'https://github.com/CODEBLUE3/HeapTracker-client/pull/17#pullrequestreview-1350488119'},\n",
              "    'pull_request': {'href': 'https://api.github.com/repos/CODEBLUE3/HeapTracker-client/pulls/17'}}},\n",
              "  'pull_request': {'url': 'https://api.github.com/repos/CODEBLUE3/HeapTracker-client/pulls/17',\n",
              "   'id': 1284231283,\n",
              "   'node_id': 'PR_kwDOJJleI85Mi9Bz',\n",
              "   'html_url': 'https://github.com/CODEBLUE3/HeapTracker-client/pull/17',\n",
              "   'diff_url': 'https://github.com/CODEBLUE3/HeapTracker-client/pull/17.diff',\n",
              "   'patch_url': 'https://github.com/CODEBLUE3/HeapTracker-client/pull/17.patch',\n",
              "   'issue_url': 'https://api.github.com/repos/CODEBLUE3/HeapTracker-client/issues/17',\n",
              "   'number': 17,\n",
              "   'state': 'open',\n",
              "   'locked': False,\n",
              "   'title': 'feat: render layout 개선, css 관련 네이밍 수정',\n",
              "   'user': {'login': 'isinthesky',\n",
              "    'id': 52302090,\n",
              "    'node_id': 'MDQ6VXNlcjUyMzAyMDkw',\n",
              "    'avatar_url': 'https://avatars.githubusercontent.com/u/52302090?v=4',\n",
              "    'gravatar_id': '',\n",
              "    'url': 'https://api.github.com/users/isinthesky',\n",
              "    'html_url': 'https://github.com/isinthesky',\n",
              "    'followers_url': 'https://api.github.com/users/isinthesky/followers',\n",
              "    'following_url': 'https://api.github.com/users/isinthesky/following{/other_user}',\n",
              "    'gists_url': 'https://api.github.com/users/isinthesky/gists{/gist_id}',\n",
              "    'starred_url': 'https://api.github.com/users/isinthesky/starred{/owner}{/repo}',\n",
              "    'subscriptions_url': 'https://api.github.com/users/isinthesky/subscriptions',\n",
              "    'organizations_url': 'https://api.github.com/users/isinthesky/orgs',\n",
              "    'repos_url': 'https://api.github.com/users/isinthesky/repos',\n",
              "    'events_url': 'https://api.github.com/users/isinthesky/events{/privacy}',\n",
              "    'received_events_url': 'https://api.github.com/users/isinthesky/received_events',\n",
              "    'type': 'User',\n",
              "    'site_admin': False},\n",
              "   'body': '## 🔹 PR type(하나 이상의 PR 타입을 선택해주세요)\\r\\n\\r\\n- [ ] 기능추가\\r\\n- [ ] 버그 수정\\r\\n- [x] 의존성, 환경변수, 빌드 관련 코드 업데이트\\r\\n- [x] 기타 사소한 수정\\r\\n\\r\\n## 🔹 Summary\\r\\n\\r\\n- 사용자의 앱 사용환경을 개선하기위해 화면의 레이아웃을 변경했습니다. \\r\\n- 코드 실행 후 높은 단위의 결과 수치를 쉽게 보기 위해 콤마(,)를 추가했습니다. ex) 9,999,999,999\\r\\n- css의 반복된 상수를 `styleCode.js` 에 추가했습니다.\\r\\n- `styled-components` 이름을 자세하게 수정했습니다. \\r\\n\\r\\n## 🔹 Description\\r\\n\\r\\n<br> 코드입력창을 키워 코드입력과 코드가독성을 높일 수 있게 했습니다.\\r\\n<br> \\x08오른쪽 페이지의 `ChartResult` 컴포넌트의 세로 사이즈를 줄이고 `Chart` 컴포넌트의 크기를 키워 차트를 더 크게 볼 수 있게 하였습니다.\\r\\n<br>  `Number.toString().replace(/\\\\B(?<!\\\\.\\\\d*)(?=(\\\\d{3})+(?!\\\\d))/g, \",\")` 정규화를 통해 천단위마다 콤마를 삽입하였습니다.\\r\\n\\r\\n## 🔹 Issues\\r\\n\\r\\n<br>\\r\\n\\r\\n## 🔹 Screenshot\\r\\n\\r\\n<br>\\r\\n<img width=\"1470\" alt=\"스크린샷 2023-03-21 오후 10 17 05\" src=\"https://user-images.githubusercontent.com/52302090/226617652-a9597bef-5a6c-4abc-a68f-5c7027c77c31.png\">\\r\\n<br>\\r\\n\\r\\n## 🔹 To Reviewer\\r\\n',\n",
              "   'created_at': '2023-03-21T13:19:17Z',\n",
              "   'updated_at': '2023-03-21T13:41:29Z',\n",
              "   'closed_at': None,\n",
              "   'merged_at': None,\n",
              "   'merge_commit_sha': 'e2ccf9c4c7bb3859669775194fd6ed73a3ee967a',\n",
              "   'assignee': None,\n",
              "   'assignees': [],\n",
              "   'requested_reviewers': [],\n",
              "   'requested_teams': [],\n",
              "   'labels': [],\n",
              "   'milestone': None,\n",
              "   'draft': False,\n",
              "   'commits_url': 'https://api.github.com/repos/CODEBLUE3/HeapTracker-client/pulls/17/commits',\n",
              "   'review_comments_url': 'https://api.github.com/repos/CODEBLUE3/HeapTracker-client/pulls/17/comments',\n",
              "   'review_comment_url': 'https://api.github.com/repos/CODEBLUE3/HeapTracker-client/pulls/comments{/number}',\n",
              "   'comments_url': 'https://api.github.com/repos/CODEBLUE3/HeapTracker-client/issues/17/comments',\n",
              "   'statuses_url': 'https://api.github.com/repos/CODEBLUE3/HeapTracker-client/statuses/fb8c0c8b5f7299cef17c1eade3fc15fd8052d5d0',\n",
              "   'head': {'label': 'CODEBLUE3:feat/render-layout-minor',\n",
              "    'ref': 'feat/render-layout-minor',\n",
              "    'sha': 'fb8c0c8b5f7299cef17c1eade3fc15fd8052d5d0',\n",
              "    'user': {'login': 'CODEBLUE3',\n",
              "     'id': 127889121,\n",
              "     'node_id': 'O_kgDOB59u4Q',\n",
              "     'avatar_url': 'https://avatars.githubusercontent.com/u/127889121?v=4',\n",
              "     'gravatar_id': '',\n",
              "     'url': 'https://api.github.com/users/CODEBLUE3',\n",
              "     'html_url': 'https://github.com/CODEBLUE3',\n",
              "     'followers_url': 'https://api.github.com/users/CODEBLUE3/followers',\n",
              "     'following_url': 'https://api.github.com/users/CODEBLUE3/following{/other_user}',\n",
              "     'gists_url': 'https://api.github.com/users/CODEBLUE3/gists{/gist_id}',\n",
              "     'starred_url': 'https://api.github.com/users/CODEBLUE3/starred{/owner}{/repo}',\n",
              "     'subscriptions_url': 'https://api.github.com/users/CODEBLUE3/subscriptions',\n",
              "     'organizations_url': 'https://api.github.com/users/CODEBLUE3/orgs',\n",
              "     'repos_url': 'https://api.github.com/users/CODEBLUE3/repos',\n",
              "     'events_url': 'https://api.github.com/users/CODEBLUE3/events{/privacy}',\n",
              "     'received_events_url': 'https://api.github.com/users/CODEBLUE3/received_events',\n",
              "     'type': 'Organization',\n",
              "     'site_admin': False},\n",
              "    'repo': {'id': 614030883,\n",
              "     'node_id': 'R_kgDOJJleIw',\n",
              "     'name': 'HeapTracker-client',\n",
              "     'full_name': 'CODEBLUE3/HeapTracker-client',\n",
              "     'private': False,\n",
              "     'owner': {'login': 'CODEBLUE3',\n",
              "      'id': 127889121,\n",
              "      'node_id': 'O_kgDOB59u4Q',\n",
              "      'avatar_url': 'https://avatars.githubusercontent.com/u/127889121?v=4',\n",
              "      'gravatar_id': '',\n",
              "      'url': 'https://api.github.com/users/CODEBLUE3',\n",
              "      'html_url': 'https://github.com/CODEBLUE3',\n",
              "      'followers_url': 'https://api.github.com/users/CODEBLUE3/followers',\n",
              "      'following_url': 'https://api.github.com/users/CODEBLUE3/following{/other_user}',\n",
              "      'gists_url': 'https://api.github.com/users/CODEBLUE3/gists{/gist_id}',\n",
              "      'starred_url': 'https://api.github.com/users/CODEBLUE3/starred{/owner}{/repo}',\n",
              "      'subscriptions_url': 'https://api.github.com/users/CODEBLUE3/subscriptions',\n",
              "      'organizations_url': 'https://api.github.com/users/CODEBLUE3/orgs',\n",
              "      'repos_url': 'https://api.github.com/users/CODEBLUE3/repos',\n",
              "      'events_url': 'https://api.github.com/users/CODEBLUE3/events{/privacy}',\n",
              "      'received_events_url': 'https://api.github.com/users/CODEBLUE3/received_events',\n",
              "      'type': 'Organization',\n",
              "      'site_admin': False},\n",
              "     'html_url': 'https://github.com/CODEBLUE3/HeapTracker-client',\n",
              "     'description': None,\n",
              "     'fork': False,\n",
              "     'url': 'https://api.github.com/repos/CODEBLUE3/HeapTracker-client',\n",
              "     'forks_url': 'https://api.github.com/repos/CODEBLUE3/HeapTracker-client/forks',\n",
              "     'keys_url': 'https://api.github.com/repos/CODEBLUE3/HeapTracker-client/keys{/key_id}',\n",
              "     'collaborators_url': 'https://api.github.com/repos/CODEBLUE3/HeapTracker-client/collaborators{/collaborator}',\n",
              "     'teams_url': 'https://api.github.com/repos/CODEBLUE3/HeapTracker-client/teams',\n",
              "     'hooks_url': 'https://api.github.com/repos/CODEBLUE3/HeapTracker-client/hooks',\n",
              "     'issue_events_url': 'https://api.github.com/repos/CODEBLUE3/HeapTracker-client/issues/events{/number}',\n",
              "     'events_url': 'https://api.github.com/repos/CODEBLUE3/HeapTracker-client/events',\n",
              "     'assignees_url': 'https://api.github.com/repos/CODEBLUE3/HeapTracker-client/assignees{/user}',\n",
              "     'branches_url': 'https://api.github.com/repos/CODEBLUE3/HeapTracker-client/branches{/branch}',\n",
              "     'tags_url': 'https://api.github.com/repos/CODEBLUE3/HeapTracker-client/tags',\n",
              "     'blobs_url': 'https://api.github.com/repos/CODEBLUE3/HeapTracker-client/git/blobs{/sha}',\n",
              "     'git_tags_url': 'https://api.github.com/repos/CODEBLUE3/HeapTracker-client/git/tags{/sha}',\n",
              "     'git_refs_url': 'https://api.github.com/repos/CODEBLUE3/HeapTracker-client/git/refs{/sha}',\n",
              "     'trees_url': 'https://api.github.com/repos/CODEBLUE3/HeapTracker-client/git/trees{/sha}',\n",
              "     'statuses_url': 'https://api.github.com/repos/CODEBLUE3/HeapTracker-client/statuses/{sha}',\n",
              "     'languages_url': 'https://api.github.com/repos/CODEBLUE3/HeapTracker-client/languages',\n",
              "     'stargazers_url': 'https://api.github.com/repos/CODEBLUE3/HeapTracker-client/stargazers',\n",
              "     'contributors_url': 'https://api.github.com/repos/CODEBLUE3/HeapTracker-client/contributors',\n",
              "     'subscribers_url': 'https://api.github.com/repos/CODEBLUE3/HeapTracker-client/subscribers',\n",
              "     'subscription_url': 'https://api.github.com/repos/CODEBLUE3/HeapTracker-client/subscription',\n",
              "     'commits_url': 'https://api.github.com/repos/CODEBLUE3/HeapTracker-client/commits{/sha}',\n",
              "     'git_commits_url': 'https://api.github.com/repos/CODEBLUE3/HeapTracker-client/git/commits{/sha}',\n",
              "     'comments_url': 'https://api.github.com/repos/CODEBLUE3/HeapTracker-client/comments{/number}',\n",
              "     'issue_comment_url': 'https://api.github.com/repos/CODEBLUE3/HeapTracker-client/issues/comments{/number}',\n",
              "     'contents_url': 'https://api.github.com/repos/CODEBLUE3/HeapTracker-client/contents/{+path}',\n",
              "     'compare_url': 'https://api.github.com/repos/CODEBLUE3/HeapTracker-client/compare/{base}...{head}',\n",
              "     'merges_url': 'https://api.github.com/repos/CODEBLUE3/HeapTracker-client/merges',\n",
              "     'archive_url': 'https://api.github.com/repos/CODEBLUE3/HeapTracker-client/{archive_format}{/ref}',\n",
              "     'downloads_url': 'https://api.github.com/repos/CODEBLUE3/HeapTracker-client/downloads',\n",
              "     'issues_url': 'https://api.github.com/repos/CODEBLUE3/HeapTracker-client/issues{/number}',\n",
              "     'pulls_url': 'https://api.github.com/repos/CODEBLUE3/HeapTracker-client/pulls{/number}',\n",
              "     'milestones_url': 'https://api.github.com/repos/CODEBLUE3/HeapTracker-client/milestones{/number}',\n",
              "     'notifications_url': 'https://api.github.com/repos/CODEBLUE3/HeapTracker-client/notifications{?since,all,participating}',\n",
              "     'labels_url': 'https://api.github.com/repos/CODEBLUE3/HeapTracker-client/labels{/name}',\n",
              "     'releases_url': 'https://api.github.com/repos/CODEBLUE3/HeapTracker-client/releases{/id}',\n",
              "     'deployments_url': 'https://api.github.com/repos/CODEBLUE3/HeapTracker-client/deployments',\n",
              "     'created_at': '2023-03-14T18:47:48Z',\n",
              "     'updated_at': '2023-03-15T03:47:55Z',\n",
              "     'pushed_at': '2023-03-21T13:32:11Z',\n",
              "     'git_url': 'git://github.com/CODEBLUE3/HeapTracker-client.git',\n",
              "     'ssh_url': 'git@github.com:CODEBLUE3/HeapTracker-client.git',\n",
              "     'clone_url': 'https://github.com/CODEBLUE3/HeapTracker-client.git',\n",
              "     'svn_url': 'https://github.com/CODEBLUE3/HeapTracker-client',\n",
              "     'homepage': None,\n",
              "     'size': 492,\n",
              "     'stargazers_count': 0,\n",
              "     'watchers_count': 0,\n",
              "     'language': 'JavaScript',\n",
              "     'has_issues': True,\n",
              "     'has_projects': True,\n",
              "     'has_downloads': True,\n",
              "     'has_wiki': True,\n",
              "     'has_pages': False,\n",
              "     'has_discussions': False,\n",
              "     'forks_count': 0,\n",
              "     'mirror_url': None,\n",
              "     'archived': False,\n",
              "     'disabled': False,\n",
              "     'open_issues_count': 1,\n",
              "     'license': {'key': 'mit',\n",
              "      'name': 'MIT License',\n",
              "      'spdx_id': 'MIT',\n",
              "      'url': 'https://api.github.com/licenses/mit',\n",
              "      'node_id': 'MDc6TGljZW5zZTEz'},\n",
              "     'allow_forking': True,\n",
              "     'is_template': False,\n",
              "     'web_commit_signoff_required': False,\n",
              "     'topics': [],\n",
              "     'visibility': 'public',\n",
              "     'forks': 0,\n",
              "     'open_issues': 1,\n",
              "     'watchers': 0,\n",
              "     'default_branch': 'main'}},\n",
              "   'base': {'label': 'CODEBLUE3:main',\n",
              "    'ref': 'main',\n",
              "    'sha': '0cd5239ee0e5559aec7d1767efe20d100ec32fb0',\n",
              "    'user': {'login': 'CODEBLUE3',\n",
              "     'id': 127889121,\n",
              "     'node_id': 'O_kgDOB59u4Q',\n",
              "     'avatar_url': 'https://avatars.githubusercontent.com/u/127889121?v=4',\n",
              "     'gravatar_id': '',\n",
              "     'url': 'https://api.github.com/users/CODEBLUE3',\n",
              "     'html_url': 'https://github.com/CODEBLUE3',\n",
              "     'followers_url': 'https://api.github.com/users/CODEBLUE3/followers',\n",
              "     'following_url': 'https://api.github.com/users/CODEBLUE3/following{/other_user}',\n",
              "     'gists_url': 'https://api.github.com/users/CODEBLUE3/gists{/gist_id}',\n",
              "     'starred_url': 'https://api.github.com/users/CODEBLUE3/starred{/owner}{/repo}',\n",
              "     'subscriptions_url': 'https://api.github.com/users/CODEBLUE3/subscriptions',\n",
              "     'organizations_url': 'https://api.github.com/users/CODEBLUE3/orgs',\n",
              "     'repos_url': 'https://api.github.com/users/CODEBLUE3/repos',\n",
              "     'events_url': 'https://api.github.com/users/CODEBLUE3/events{/privacy}',\n",
              "     'received_events_url': 'https://api.github.com/users/CODEBLUE3/received_events',\n",
              "     'type': 'Organization',\n",
              "     'site_admin': False},\n",
              "    'repo': {'id': 614030883,\n",
              "     'node_id': 'R_kgDOJJleIw',\n",
              "     'name': 'HeapTracker-client',\n",
              "     'full_name': 'CODEBLUE3/HeapTracker-client',\n",
              "     'private': False,\n",
              "     'owner': {'login': 'CODEBLUE3',\n",
              "      'id': 127889121,\n",
              "      'node_id': 'O_kgDOB59u4Q',\n",
              "      'avatar_url': 'https://avatars.githubusercontent.com/u/127889121?v=4',\n",
              "      'gravatar_id': '',\n",
              "      'url': 'https://api.github.com/users/CODEBLUE3',\n",
              "      'html_url': 'https://github.com/CODEBLUE3',\n",
              "      'followers_url': 'https://api.github.com/users/CODEBLUE3/followers',\n",
              "      'following_url': 'https://api.github.com/users/CODEBLUE3/following{/other_user}',\n",
              "      'gists_url': 'https://api.github.com/users/CODEBLUE3/gists{/gist_id}',\n",
              "      'starred_url': 'https://api.github.com/users/CODEBLUE3/starred{/owner}{/repo}',\n",
              "      'subscriptions_url': 'https://api.github.com/users/CODEBLUE3/subscriptions',\n",
              "      'organizations_url': 'https://api.github.com/users/CODEBLUE3/orgs',\n",
              "      'repos_url': 'https://api.github.com/users/CODEBLUE3/repos',\n",
              "      'events_url': 'https://api.github.com/users/CODEBLUE3/events{/privacy}',\n",
              "      'received_events_url': 'https://api.github.com/users/CODEBLUE3/received_events',\n",
              "      'type': 'Organization',\n",
              "      'site_admin': False},\n",
              "     'html_url': 'https://github.com/CODEBLUE3/HeapTracker-client',\n",
              "     'description': None,\n",
              "     'fork': False,\n",
              "     'url': 'https://api.github.com/repos/CODEBLUE3/HeapTracker-client',\n",
              "     'forks_url': 'https://api.github.com/repos/CODEBLUE3/HeapTracker-client/forks',\n",
              "     'keys_url': 'https://api.github.com/repos/CODEBLUE3/HeapTracker-client/keys{/key_id}',\n",
              "     'collaborators_url': 'https://api.github.com/repos/CODEBLUE3/HeapTracker-client/collaborators{/collaborator}',\n",
              "     'teams_url': 'https://api.github.com/repos/CODEBLUE3/HeapTracker-client/teams',\n",
              "     'hooks_url': 'https://api.github.com/repos/CODEBLUE3/HeapTracker-client/hooks',\n",
              "     'issue_events_url': 'https://api.github.com/repos/CODEBLUE3/HeapTracker-client/issues/events{/number}',\n",
              "     'events_url': 'https://api.github.com/repos/CODEBLUE3/HeapTracker-client/events',\n",
              "     'assignees_url': 'https://api.github.com/repos/CODEBLUE3/HeapTracker-client/assignees{/user}',\n",
              "     'branches_url': 'https://api.github.com/repos/CODEBLUE3/HeapTracker-client/branches{/branch}',\n",
              "     'tags_url': 'https://api.github.com/repos/CODEBLUE3/HeapTracker-client/tags',\n",
              "     'blobs_url': 'https://api.github.com/repos/CODEBLUE3/HeapTracker-client/git/blobs{/sha}',\n",
              "     'git_tags_url': 'https://api.github.com/repos/CODEBLUE3/HeapTracker-client/git/tags{/sha}',\n",
              "     'git_refs_url': 'https://api.github.com/repos/CODEBLUE3/HeapTracker-client/git/refs{/sha}',\n",
              "     'trees_url': 'https://api.github.com/repos/CODEBLUE3/HeapTracker-client/git/trees{/sha}',\n",
              "     'statuses_url': 'https://api.github.com/repos/CODEBLUE3/HeapTracker-client/statuses/{sha}',\n",
              "     'languages_url': 'https://api.github.com/repos/CODEBLUE3/HeapTracker-client/languages',\n",
              "     'stargazers_url': 'https://api.github.com/repos/CODEBLUE3/HeapTracker-client/stargazers',\n",
              "     'contributors_url': 'https://api.github.com/repos/CODEBLUE3/HeapTracker-client/contributors',\n",
              "     'subscribers_url': 'https://api.github.com/repos/CODEBLUE3/HeapTracker-client/subscribers',\n",
              "     'subscription_url': 'https://api.github.com/repos/CODEBLUE3/HeapTracker-client/subscription',\n",
              "     'commits_url': 'https://api.github.com/repos/CODEBLUE3/HeapTracker-client/commits{/sha}',\n",
              "     'git_commits_url': 'https://api.github.com/repos/CODEBLUE3/HeapTracker-client/git/commits{/sha}',\n",
              "     'comments_url': 'https://api.github.com/repos/CODEBLUE3/HeapTracker-client/comments{/number}',\n",
              "     'issue_comment_url': 'https://api.github.com/repos/CODEBLUE3/HeapTracker-client/issues/comments{/number}',\n",
              "     'contents_url': 'https://api.github.com/repos/CODEBLUE3/HeapTracker-client/contents/{+path}',\n",
              "     'compare_url': 'https://api.github.com/repos/CODEBLUE3/HeapTracker-client/compare/{base}...{head}',\n",
              "     'merges_url': 'https://api.github.com/repos/CODEBLUE3/HeapTracker-client/merges',\n",
              "     'archive_url': 'https://api.github.com/repos/CODEBLUE3/HeapTracker-client/{archive_format}{/ref}',\n",
              "     'downloads_url': 'https://api.github.com/repos/CODEBLUE3/HeapTracker-client/downloads',\n",
              "     'issues_url': 'https://api.github.com/repos/CODEBLUE3/HeapTracker-client/issues{/number}',\n",
              "     'pulls_url': 'https://api.github.com/repos/CODEBLUE3/HeapTracker-client/pulls{/number}',\n",
              "     'milestones_url': 'https://api.github.com/repos/CODEBLUE3/HeapTracker-client/milestones{/number}',\n",
              "     'notifications_url': 'https://api.github.com/repos/CODEBLUE3/HeapTracker-client/notifications{?since,all,participating}',\n",
              "     'labels_url': 'https://api.github.com/repos/CODEBLUE3/HeapTracker-client/labels{/name}',\n",
              "     'releases_url': 'https://api.github.com/repos/CODEBLUE3/HeapTracker-client/releases{/id}',\n",
              "     'deployments_url': 'https://api.github.com/repos/CODEBLUE3/HeapTracker-client/deployments',\n",
              "     'created_at': '2023-03-14T18:47:48Z',\n",
              "     'updated_at': '2023-03-15T03:47:55Z',\n",
              "     'pushed_at': '2023-03-21T13:32:11Z',\n",
              "     'git_url': 'git://github.com/CODEBLUE3/HeapTracker-client.git',\n",
              "     'ssh_url': 'git@github.com:CODEBLUE3/HeapTracker-client.git',\n",
              "     'clone_url': 'https://github.com/CODEBLUE3/HeapTracker-client.git',\n",
              "     'svn_url': 'https://github.com/CODEBLUE3/HeapTracker-client',\n",
              "     'homepage': None,\n",
              "     'size': 492,\n",
              "     'stargazers_count': 0,\n",
              "     'watchers_count': 0,\n",
              "     'language': 'JavaScript',\n",
              "     'has_issues': True,\n",
              "     'has_projects': True,\n",
              "     'has_downloads': True,\n",
              "     'has_wiki': True,\n",
              "     'has_pages': False,\n",
              "     'has_discussions': False,\n",
              "     'forks_count': 0,\n",
              "     'mirror_url': None,\n",
              "     'archived': False,\n",
              "     'disabled': False,\n",
              "     'open_issues_count': 1,\n",
              "     'license': {'key': 'mit',\n",
              "      'name': 'MIT License',\n",
              "      'spdx_id': 'MIT',\n",
              "      'url': 'https://api.github.com/licenses/mit',\n",
              "      'node_id': 'MDc6TGljZW5zZTEz'},\n",
              "     'allow_forking': True,\n",
              "     'is_template': False,\n",
              "     'web_commit_signoff_required': False,\n",
              "     'topics': [],\n",
              "     'visibility': 'public',\n",
              "     'forks': 0,\n",
              "     'open_issues': 1,\n",
              "     'watchers': 0,\n",
              "     'default_branch': 'main'}},\n",
              "   '_links': {'self': {'href': 'https://api.github.com/repos/CODEBLUE3/HeapTracker-client/pulls/17'},\n",
              "    'html': {'href': 'https://github.com/CODEBLUE3/HeapTracker-client/pull/17'},\n",
              "    'issue': {'href': 'https://api.github.com/repos/CODEBLUE3/HeapTracker-client/issues/17'},\n",
              "    'comments': {'href': 'https://api.github.com/repos/CODEBLUE3/HeapTracker-client/issues/17/comments'},\n",
              "    'review_comments': {'href': 'https://api.github.com/repos/CODEBLUE3/HeapTracker-client/pulls/17/comments'},\n",
              "    'review_comment': {'href': 'https://api.github.com/repos/CODEBLUE3/HeapTracker-client/pulls/comments{/number}'},\n",
              "    'commits': {'href': 'https://api.github.com/repos/CODEBLUE3/HeapTracker-client/pulls/17/commits'},\n",
              "    'statuses': {'href': 'https://api.github.com/repos/CODEBLUE3/HeapTracker-client/statuses/fb8c0c8b5f7299cef17c1eade3fc15fd8052d5d0'}},\n",
              "   'author_association': 'CONTRIBUTOR',\n",
              "   'auto_merge': None,\n",
              "   'active_lock_reason': None}},\n",
              " 'public': True,\n",
              " 'created_at': '2023-03-21T13:41:29Z',\n",
              " 'org': {'id': 127889121,\n",
              "  'login': 'CODEBLUE3',\n",
              "  'gravatar_id': '',\n",
              "  'url': 'https://api.github.com/orgs/CODEBLUE3',\n",
              "  'avatar_url': 'https://avatars.githubusercontent.com/u/127889121?'}}"
            ]
          },
          "metadata": {},
          "execution_count": 14
        }
      ]
    },
    {
      "cell_type": "code",
      "source": [
        "# primeiro passo extrair as informações com o request utilizando o método json().\n",
        "\n",
        "import requests\n",
        "import datetime as dt\n",
        "\n",
        "jogos = requests.get('http://worldcup.sfg.io/matches').json()\n",
        "print(type(jogos))"
      ],
      "metadata": {
        "colab": {
          "base_uri": "https://localhost:8080/",
          "height": 866
        },
        "id": "iGdGzFotcPud",
        "outputId": "5455da23-8721-4c73-fd22-d36c0c78e267"
      },
      "execution_count": 15,
      "outputs": [
        {
          "output_type": "error",
          "ename": "JSONDecodeError",
          "evalue": "ignored",
          "traceback": [
            "\u001b[0;31m---------------------------------------------------------------------------\u001b[0m",
            "\u001b[0;31mJSONDecodeError\u001b[0m                           Traceback (most recent call last)",
            "\u001b[0;32m/usr/local/lib/python3.9/dist-packages/requests/models.py\u001b[0m in \u001b[0;36mjson\u001b[0;34m(self, **kwargs)\u001b[0m\n\u001b[1;32m    909\u001b[0m         \u001b[0;32mtry\u001b[0m\u001b[0;34m:\u001b[0m\u001b[0;34m\u001b[0m\u001b[0;34m\u001b[0m\u001b[0m\n\u001b[0;32m--> 910\u001b[0;31m             \u001b[0;32mreturn\u001b[0m \u001b[0mcomplexjson\u001b[0m\u001b[0;34m.\u001b[0m\u001b[0mloads\u001b[0m\u001b[0;34m(\u001b[0m\u001b[0mself\u001b[0m\u001b[0;34m.\u001b[0m\u001b[0mtext\u001b[0m\u001b[0;34m,\u001b[0m \u001b[0;34m**\u001b[0m\u001b[0mkwargs\u001b[0m\u001b[0;34m)\u001b[0m\u001b[0;34m\u001b[0m\u001b[0;34m\u001b[0m\u001b[0m\n\u001b[0m\u001b[1;32m    911\u001b[0m         \u001b[0;32mexcept\u001b[0m \u001b[0mJSONDecodeError\u001b[0m \u001b[0;32mas\u001b[0m \u001b[0me\u001b[0m\u001b[0;34m:\u001b[0m\u001b[0;34m\u001b[0m\u001b[0;34m\u001b[0m\u001b[0m\n",
            "\u001b[0;32m/usr/lib/python3.9/json/__init__.py\u001b[0m in \u001b[0;36mloads\u001b[0;34m(s, cls, object_hook, parse_float, parse_int, parse_constant, object_pairs_hook, **kw)\u001b[0m\n\u001b[1;32m    345\u001b[0m             parse_constant is None and object_pairs_hook is None and not kw):\n\u001b[0;32m--> 346\u001b[0;31m         \u001b[0;32mreturn\u001b[0m \u001b[0m_default_decoder\u001b[0m\u001b[0;34m.\u001b[0m\u001b[0mdecode\u001b[0m\u001b[0;34m(\u001b[0m\u001b[0ms\u001b[0m\u001b[0;34m)\u001b[0m\u001b[0;34m\u001b[0m\u001b[0;34m\u001b[0m\u001b[0m\n\u001b[0m\u001b[1;32m    347\u001b[0m     \u001b[0;32mif\u001b[0m \u001b[0mcls\u001b[0m \u001b[0;32mis\u001b[0m \u001b[0;32mNone\u001b[0m\u001b[0;34m:\u001b[0m\u001b[0;34m\u001b[0m\u001b[0;34m\u001b[0m\u001b[0m\n",
            "\u001b[0;32m/usr/lib/python3.9/json/decoder.py\u001b[0m in \u001b[0;36mdecode\u001b[0;34m(self, s, _w)\u001b[0m\n\u001b[1;32m    336\u001b[0m         \"\"\"\n\u001b[0;32m--> 337\u001b[0;31m         \u001b[0mobj\u001b[0m\u001b[0;34m,\u001b[0m \u001b[0mend\u001b[0m \u001b[0;34m=\u001b[0m \u001b[0mself\u001b[0m\u001b[0;34m.\u001b[0m\u001b[0mraw_decode\u001b[0m\u001b[0;34m(\u001b[0m\u001b[0ms\u001b[0m\u001b[0;34m,\u001b[0m \u001b[0midx\u001b[0m\u001b[0;34m=\u001b[0m\u001b[0m_w\u001b[0m\u001b[0;34m(\u001b[0m\u001b[0ms\u001b[0m\u001b[0;34m,\u001b[0m \u001b[0;36m0\u001b[0m\u001b[0;34m)\u001b[0m\u001b[0;34m.\u001b[0m\u001b[0mend\u001b[0m\u001b[0;34m(\u001b[0m\u001b[0;34m)\u001b[0m\u001b[0;34m)\u001b[0m\u001b[0;34m\u001b[0m\u001b[0;34m\u001b[0m\u001b[0m\n\u001b[0m\u001b[1;32m    338\u001b[0m         \u001b[0mend\u001b[0m \u001b[0;34m=\u001b[0m \u001b[0m_w\u001b[0m\u001b[0;34m(\u001b[0m\u001b[0ms\u001b[0m\u001b[0;34m,\u001b[0m \u001b[0mend\u001b[0m\u001b[0;34m)\u001b[0m\u001b[0;34m.\u001b[0m\u001b[0mend\u001b[0m\u001b[0;34m(\u001b[0m\u001b[0;34m)\u001b[0m\u001b[0;34m\u001b[0m\u001b[0;34m\u001b[0m\u001b[0m\n",
            "\u001b[0;32m/usr/lib/python3.9/json/decoder.py\u001b[0m in \u001b[0;36mraw_decode\u001b[0;34m(self, s, idx)\u001b[0m\n\u001b[1;32m    354\u001b[0m         \u001b[0;32mexcept\u001b[0m \u001b[0mStopIteration\u001b[0m \u001b[0;32mas\u001b[0m \u001b[0merr\u001b[0m\u001b[0;34m:\u001b[0m\u001b[0;34m\u001b[0m\u001b[0;34m\u001b[0m\u001b[0m\n\u001b[0;32m--> 355\u001b[0;31m             \u001b[0;32mraise\u001b[0m \u001b[0mJSONDecodeError\u001b[0m\u001b[0;34m(\u001b[0m\u001b[0;34m\"Expecting value\"\u001b[0m\u001b[0;34m,\u001b[0m \u001b[0ms\u001b[0m\u001b[0;34m,\u001b[0m \u001b[0merr\u001b[0m\u001b[0;34m.\u001b[0m\u001b[0mvalue\u001b[0m\u001b[0;34m)\u001b[0m \u001b[0;32mfrom\u001b[0m \u001b[0;32mNone\u001b[0m\u001b[0;34m\u001b[0m\u001b[0;34m\u001b[0m\u001b[0m\n\u001b[0m\u001b[1;32m    356\u001b[0m         \u001b[0;32mreturn\u001b[0m \u001b[0mobj\u001b[0m\u001b[0;34m,\u001b[0m \u001b[0mend\u001b[0m\u001b[0;34m\u001b[0m\u001b[0;34m\u001b[0m\u001b[0m\n",
            "\u001b[0;31mJSONDecodeError\u001b[0m: Expecting value: line 1 column 1 (char 0)",
            "\nDuring handling of the above exception, another exception occurred:\n",
            "\u001b[0;31mJSONDecodeError\u001b[0m                           Traceback (most recent call last)",
            "\u001b[0;32m<ipython-input-15-b230b0923936>\u001b[0m in \u001b[0;36m<module>\u001b[0;34m\u001b[0m\n\u001b[1;32m      4\u001b[0m \u001b[0;32mimport\u001b[0m \u001b[0mdatetime\u001b[0m \u001b[0;32mas\u001b[0m \u001b[0mdt\u001b[0m\u001b[0;34m\u001b[0m\u001b[0;34m\u001b[0m\u001b[0m\n\u001b[1;32m      5\u001b[0m \u001b[0;34m\u001b[0m\u001b[0m\n\u001b[0;32m----> 6\u001b[0;31m \u001b[0mjogos\u001b[0m \u001b[0;34m=\u001b[0m \u001b[0mrequests\u001b[0m\u001b[0;34m.\u001b[0m\u001b[0mget\u001b[0m\u001b[0;34m(\u001b[0m\u001b[0;34m'http://worldcup.sfg.io/matches'\u001b[0m\u001b[0;34m)\u001b[0m\u001b[0;34m.\u001b[0m\u001b[0mjson\u001b[0m\u001b[0;34m(\u001b[0m\u001b[0;34m)\u001b[0m\u001b[0;34m\u001b[0m\u001b[0;34m\u001b[0m\u001b[0m\n\u001b[0m\u001b[1;32m      7\u001b[0m \u001b[0mprint\u001b[0m\u001b[0;34m(\u001b[0m\u001b[0mtype\u001b[0m\u001b[0;34m(\u001b[0m\u001b[0mjogos\u001b[0m\u001b[0;34m)\u001b[0m\u001b[0;34m)\u001b[0m\u001b[0;34m\u001b[0m\u001b[0;34m\u001b[0m\u001b[0m\n",
            "\u001b[0;32m/usr/local/lib/python3.9/dist-packages/requests/models.py\u001b[0m in \u001b[0;36mjson\u001b[0;34m(self, **kwargs)\u001b[0m\n\u001b[1;32m    915\u001b[0m                 \u001b[0;32mraise\u001b[0m \u001b[0mRequestsJSONDecodeError\u001b[0m\u001b[0;34m(\u001b[0m\u001b[0me\u001b[0m\u001b[0;34m.\u001b[0m\u001b[0mmessage\u001b[0m\u001b[0;34m)\u001b[0m\u001b[0;34m\u001b[0m\u001b[0;34m\u001b[0m\u001b[0m\n\u001b[1;32m    916\u001b[0m             \u001b[0;32melse\u001b[0m\u001b[0;34m:\u001b[0m\u001b[0;34m\u001b[0m\u001b[0;34m\u001b[0m\u001b[0m\n\u001b[0;32m--> 917\u001b[0;31m                 \u001b[0;32mraise\u001b[0m \u001b[0mRequestsJSONDecodeError\u001b[0m\u001b[0;34m(\u001b[0m\u001b[0me\u001b[0m\u001b[0;34m.\u001b[0m\u001b[0mmsg\u001b[0m\u001b[0;34m,\u001b[0m \u001b[0me\u001b[0m\u001b[0;34m.\u001b[0m\u001b[0mdoc\u001b[0m\u001b[0;34m,\u001b[0m \u001b[0me\u001b[0m\u001b[0;34m.\u001b[0m\u001b[0mpos\u001b[0m\u001b[0;34m)\u001b[0m\u001b[0;34m\u001b[0m\u001b[0;34m\u001b[0m\u001b[0m\n\u001b[0m\u001b[1;32m    918\u001b[0m \u001b[0;34m\u001b[0m\u001b[0m\n\u001b[1;32m    919\u001b[0m     \u001b[0;34m@\u001b[0m\u001b[0mproperty\u001b[0m\u001b[0;34m\u001b[0m\u001b[0;34m\u001b[0m\u001b[0m\n",
            "\u001b[0;31mJSONDecodeError\u001b[0m: [Errno Expecting value] <!DOCTYPE html>\n\t<html>\n\t  <head>\n\t\t<meta name=\"viewport\" content=\"width=device-width, initial-scale=1\">\n\t\t<meta charset=\"utf-8\">\n\t\t<title>Offline for Maintenance</title>\n\t\t<style media=\"screen\">\n\t\t  html,body,iframe {\n\t\t\tmargin: 0;\n\t\t\tpadding: 0;\n\t\t  }\n\t\t  html,body {\n\t\t\theight: 100%;\n\t\t\toverflow: hidden;\n\t\t  }\n\t\t  iframe {\n\t\t\twidth: 100%;\n\t\t\theight: 100%;\n\t\t\tborder: 0;\n\t\t  }\n\t\t</style>\n\t  </head>\n\t  <body>\n\t\t<iframe src=\"//www.herokucdn.com/error-pages/maintenance-mode.html\"></iframe>\n\t  </body>\n\t</html>: 0"
          ]
        }
      ]
    },
    {
      "cell_type": "code",
      "source": [],
      "metadata": {
        "id": "jGxmJ6igdZ5e"
      },
      "execution_count": null,
      "outputs": []
    },
    {
      "cell_type": "code",
      "source": [
        "# segundo passo: percorrer cada dicionário da lista (ou seja, cada jogo) extraindo as informações\n",
        "\n",
        "info_relatorio = []\n",
        "file = open('relatorio_jogos.txt', \"w\") # cria um arquivo txt na pasta em que está trabalhando.\n",
        "\n",
        "for jogo in jogos:\n",
        "    data = jogo['datetime'] # extrai a data\n",
        "    data = dt.datetime.strptime(data, \"%Y-%m-%dT%H:%M:%SZ\") # converte de string para data\n",
        "    data = data.strftime(\"%d/%m/%Y\") # formata\n",
        "    \n",
        "    nome_time1 = jogo['home_team_country']\n",
        "    nome_time2 = jogo['away_team_country']\n",
        "\n",
        "    gols_time1 = jogo['home_team']['goals']\n",
        "    gols_time2 = jogo['away_team']['goals']\n",
        "    \n",
        "    linha = f\"({data}) - {nome_time1} x {nome_time2} = {gols_time1} a {gols_time2}\"\n",
        "    file.write(linha + '\\n') # escreve a linha no arquivo txt\n",
        "    info_relatorio.append(linha)\n",
        "\n",
        "file.close() # é preciso fechar o arquivo\n",
        "info_relatorio[:5]"
      ],
      "metadata": {
        "colab": {
          "base_uri": "https://localhost:8080/",
          "height": 235
        },
        "id": "JetKyBDSciMF",
        "outputId": "f5949ce6-3085-4f3f-ff1c-92d40dc99f61"
      },
      "execution_count": 16,
      "outputs": [
        {
          "output_type": "error",
          "ename": "NameError",
          "evalue": "ignored",
          "traceback": [
            "\u001b[0;31m---------------------------------------------------------------------------\u001b[0m",
            "\u001b[0;31mNameError\u001b[0m                                 Traceback (most recent call last)",
            "\u001b[0;32m<ipython-input-16-54f830b0225e>\u001b[0m in \u001b[0;36m<module>\u001b[0;34m\u001b[0m\n\u001b[1;32m      4\u001b[0m \u001b[0mfile\u001b[0m \u001b[0;34m=\u001b[0m \u001b[0mopen\u001b[0m\u001b[0;34m(\u001b[0m\u001b[0;34m'relatorio_jogos.txt'\u001b[0m\u001b[0;34m,\u001b[0m \u001b[0;34m\"w\"\u001b[0m\u001b[0;34m)\u001b[0m \u001b[0;31m# cria um arquivo txt na pasta em que está trabalhando.\u001b[0m\u001b[0;34m\u001b[0m\u001b[0;34m\u001b[0m\u001b[0m\n\u001b[1;32m      5\u001b[0m \u001b[0;34m\u001b[0m\u001b[0m\n\u001b[0;32m----> 6\u001b[0;31m \u001b[0;32mfor\u001b[0m \u001b[0mjogo\u001b[0m \u001b[0;32min\u001b[0m \u001b[0mjogos\u001b[0m\u001b[0;34m:\u001b[0m\u001b[0;34m\u001b[0m\u001b[0;34m\u001b[0m\u001b[0m\n\u001b[0m\u001b[1;32m      7\u001b[0m     \u001b[0mdata\u001b[0m \u001b[0;34m=\u001b[0m \u001b[0mjogo\u001b[0m\u001b[0;34m[\u001b[0m\u001b[0;34m'datetime'\u001b[0m\u001b[0;34m]\u001b[0m \u001b[0;31m# extrai a data\u001b[0m\u001b[0;34m\u001b[0m\u001b[0;34m\u001b[0m\u001b[0m\n\u001b[1;32m      8\u001b[0m     \u001b[0mdata\u001b[0m \u001b[0;34m=\u001b[0m \u001b[0mdt\u001b[0m\u001b[0;34m.\u001b[0m\u001b[0mdatetime\u001b[0m\u001b[0;34m.\u001b[0m\u001b[0mstrptime\u001b[0m\u001b[0;34m(\u001b[0m\u001b[0mdata\u001b[0m\u001b[0;34m,\u001b[0m \u001b[0;34m\"%Y-%m-%dT%H:%M:%SZ\"\u001b[0m\u001b[0;34m)\u001b[0m \u001b[0;31m# converte de string para data\u001b[0m\u001b[0;34m\u001b[0m\u001b[0;34m\u001b[0m\u001b[0m\n",
            "\u001b[0;31mNameError\u001b[0m: name 'jogos' is not defined"
          ]
        }
      ]
    },
    {
      "cell_type": "code",
      "source": [
        "# ler o arquivo salvo\n",
        "file = open('relatorio_jogos.txt', 'r')\n",
        "print('file = ', file, '\\n')\n",
        "info_relatorio = file.readlines()\n",
        "file.close()\n",
        "\n",
        "print(\"linha 1 = \", info_relatorio[0])\n",
        "file =  <_io.TextIOWrapper name='relatorio_jogos.txt' mode='r' encoding='cp1252'> \n",
        "\n",
        "linha 1 =  (07/06/2019) - France x Korea Republic = 4 a 0"
      ],
      "metadata": {
        "colab": {
          "base_uri": "https://localhost:8080/",
          "height": 130
        },
        "id": "J2IVsKoLda11",
        "outputId": "93a18eb8-9dbe-4f34-c1ee-feed37f601d2"
      },
      "execution_count": 17,
      "outputs": [
        {
          "output_type": "error",
          "ename": "SyntaxError",
          "evalue": "ignored",
          "traceback": [
            "\u001b[0;36m  File \u001b[0;32m\"<ipython-input-17-cc846e657989>\"\u001b[0;36m, line \u001b[0;32m8\u001b[0m\n\u001b[0;31m    file =  <_io.TextIOWrapper name='relatorio_jogos.txt' mode='r' encoding='cp1252'>\u001b[0m\n\u001b[0m            ^\u001b[0m\n\u001b[0;31mSyntaxError\u001b[0m\u001b[0;31m:\u001b[0m invalid syntax\n"
          ]
        }
      ]
    },
    {
      "cell_type": "code",
      "source": [
        "# Extrair somente a parta 'dd/mm' da linha\n",
        "datas = [linha[1:6] for linha in info_relatorio]\n",
        "print(sorted(datas))\n"
      ],
      "metadata": {
        "id": "Yu7RSK5ieh7u"
      },
      "execution_count": null,
      "outputs": []
    },
    {
      "cell_type": "code",
      "source": [
        "datas_count = [(data, datas.count(data)) for data in set(datas)]\n",
        "print(datas_count)\n"
      ],
      "metadata": {
        "id": "ShV3iDf5etNm"
      },
      "execution_count": null,
      "outputs": []
    },
    {
      "cell_type": "code",
      "source": [
        "datas_count = dict(datas_count)\n",
        "print(datas_count)\n"
      ],
      "metadata": {
        "id": "4byuHZb0e06x"
      },
      "execution_count": null,
      "outputs": []
    },
    {
      "cell_type": "code",
      "source": [
        "%matplotlib inline\n",
        "import matplotlib.pyplot as plt\n",
        "\n",
        "eixo_x = datas_count.keys()\n",
        "eixo_y = datas_count.values()\n",
        "\n",
        "plt.figure(figsize=(15, 5))\n",
        "plt.xlabel('Dia do mês')\n",
        "plt.ylabel('Quantidade de jogos')\n",
        "plt.xticks(rotation=45)\n",
        "\n",
        "plt.bar(eixo_x, eixo_y)\n",
        "\n",
        "plt.show()\n"
      ],
      "metadata": {
        "id": "E7qIvLw0e-Dr"
      },
      "execution_count": null,
      "outputs": []
    },
    {
      "cell_type": "code",
      "source": [
        "import requests\n",
        "\n",
        "dados = requests.get('https://servicodados.ibge.gov.br/api/v2/cnae/classes').json() # resulta em uma lista de diconários\n",
        "dados[0] # exibindo o primeiro registro de dados (primeiro dicionário da lista)"
      ],
      "metadata": {
        "colab": {
          "base_uri": "https://localhost:8080/"
        },
        "id": "qk5UFjzOgIYm",
        "outputId": "6af2bce2-ba4a-493c-9ed2-1be5973a85c1"
      },
      "execution_count": 18,
      "outputs": [
        {
          "output_type": "execute_result",
          "data": {
            "text/plain": [
              "{'id': '01113',\n",
              " 'descricao': 'CULTIVO DE CEREAIS',\n",
              " 'grupo': {'id': '011',\n",
              "  'descricao': 'PRODUÇÃO DE LAVOURAS TEMPORÁRIAS',\n",
              "  'divisao': {'id': '01',\n",
              "   'descricao': 'AGRICULTURA, PECUÁRIA E SERVIÇOS RELACIONADOS',\n",
              "   'secao': {'id': 'A',\n",
              "    'descricao': 'AGRICULTURA, PECUÁRIA, PRODUÇÃO FLORESTAL, PESCA E AQÜICULTURA'}}},\n",
              " 'observacoes': ['Esta classe compreende - o cultivo de alpiste, arroz, aveia, centeio, cevada, milho, milheto, painço, sorgo, trigo, trigo preto, triticale e outros cereais não especificados anteriormente',\n",
              "  'Esta classe compreende ainda - o beneficiamento de cereais em estabelecimento agrícola, quando atividade complementar ao cultivo\\r\\n- a produção de sementes de cereais, quando atividade complementar ao cultivo',\n",
              "  'Esta classe NÃO compreende - a produção de sementes certificadas dos cereais desta classe, inclusive modificadas geneticamente (01.41-5)\\r\\n- os serviços de preparação de terreno, cultivo e colheita realizados sob contrato (01.61-0)\\r\\n- o beneficiamento de cereais em estabelecimento agrícola realizado sob contrato (01.63-6)\\r\\n- o processamento ou beneficiamento de cereais em estabelecimento não-agrícola (grupo 10.4) e (grupo 10.6)\\r\\n- a produção de biocombustível (19.32-2)']}"
            ]
          },
          "metadata": {},
          "execution_count": 18
        }
      ]
    },
    {
      "cell_type": "code",
      "source": [
        "# Quantidade distintas de atividades, basta saber o tamanho da lista.\n",
        "\n",
        "qtde_atividades_distintas = len(dados)"
      ],
      "metadata": {
        "id": "jqM5IdgdgXpD"
      },
      "execution_count": 19,
      "outputs": []
    },
    {
      "cell_type": "code",
      "source": [
        "# Criar uma lista dos grupos de atividades, extraindo a descrição de cada registro\n",
        "\n",
        "grupos = []\n",
        "for registro in dados:\n",
        "    grupos.append(registro['grupo']['descricao'])\n",
        "\n",
        "grupos[:10]"
      ],
      "metadata": {
        "colab": {
          "base_uri": "https://localhost:8080/"
        },
        "id": "OSNCmaBvgj_U",
        "outputId": "d14d8b62-a7f7-4106-81b7-665908017a7f"
      },
      "execution_count": 20,
      "outputs": [
        {
          "output_type": "execute_result",
          "data": {
            "text/plain": [
              "['PRODUÇÃO DE LAVOURAS TEMPORÁRIAS',\n",
              " 'PRODUÇÃO DE LAVOURAS TEMPORÁRIAS',\n",
              " 'PRODUÇÃO DE LAVOURAS TEMPORÁRIAS',\n",
              " 'PRODUÇÃO DE LAVOURAS TEMPORÁRIAS',\n",
              " 'PRODUÇÃO DE LAVOURAS TEMPORÁRIAS',\n",
              " 'PRODUÇÃO DE LAVOURAS TEMPORÁRIAS',\n",
              " 'PRODUÇÃO DE LAVOURAS TEMPORÁRIAS',\n",
              " 'HORTICULTURA E FLORICULTURA',\n",
              " 'HORTICULTURA E FLORICULTURA',\n",
              " 'EXTRAÇÃO DE MINERAIS METÁLICOS NÃO-FERROSOS']"
            ]
          },
          "metadata": {},
          "execution_count": 20
        }
      ]
    },
    {
      "cell_type": "code",
      "source": [
        "# A partir da lista, podemos extrair a quantidade de grupos de atividades\n",
        "\n",
        "qtde_grupos_distintos = len(set(grupos)) # o construtor set cria uma estrutura de dados removendo as duplicações.\n"
      ],
      "metadata": {
        "id": "wg2XRQ3pguoO"
      },
      "execution_count": 21,
      "outputs": []
    },
    {
      "cell_type": "code",
      "source": [
        "# Resultado é uma lista de tuplas. Cria uma nova lista com o grupo e a quantidade de atividades pertencentes a ele\n",
        "\n",
        "grupos_count = [(grupo, grupos.count(grupo)) for grupo in set(grupos)]\n",
        "grupos_count[:5]\n"
      ],
      "metadata": {
        "colab": {
          "base_uri": "https://localhost:8080/"
        },
        "id": "2I7-jCiwhEq2",
        "outputId": "ca7a60aa-a558-4c3e-c540-05efa58657e2"
      },
      "execution_count": 23,
      "outputs": [
        {
          "output_type": "execute_result",
          "data": {
            "text/plain": [
              "[('TRANSPORTE AÉREO DE PASSAGEIROS', 2),\n",
              " ('COMÉRCIO ATACADISTA ESPECIALIZADO EM OUTROS PRODUTOS', 8),\n",
              " ('RESTAURANTES E OUTROS SERVIÇOS DE ALIMENTAÇÃO E BEBIDAS', 2),\n",
              " ('ATIVIDADES DE APOIO À GESTÃO DE SAÚDE', 1),\n",
              " ('PUBLICIDADE', 3)]"
            ]
          },
          "metadata": {},
          "execution_count": 23
        }
      ]
    },
    {
      "cell_type": "code",
      "source": [
        "# Por conveniência, transformamos a lista em um dicionário\n",
        "\n",
        "grupos_count = dict(grupos_count)\n"
      ],
      "metadata": {
        "id": "_5ANU1KShLZm"
      },
      "execution_count": 25,
      "outputs": []
    },
    {
      "cell_type": "code",
      "source": [
        "# A partir do dicionário vamos descobrir qual (ou quais) grupos possuem mais atividades\n",
        "\n",
        "valor_maximo = max(grupos_count.values())\n",
        "grupos_mais_atividades = [chave for (chave, valor) in grupos_count.items() if valor == valor_maximo]\n",
        "print(len(grupos_mais_atividades))\n",
        "grupos_mais_atividades\n",
        "1\n"
      ],
      "metadata": {
        "colab": {
          "base_uri": "https://localhost:8080/"
        },
        "id": "3Lq1wMPtho2H",
        "outputId": "ed70f737-082f-4a98-f3f7-d1a91ac9f090"
      },
      "execution_count": 26,
      "outputs": [
        {
          "output_type": "stream",
          "name": "stdout",
          "text": [
            "1\n"
          ]
        },
        {
          "output_type": "execute_result",
          "data": {
            "text/plain": [
              "1"
            ]
          },
          "metadata": {},
          "execution_count": 26
        }
      ]
    },
    {
      "cell_type": "code",
      "source": [
        "import requests\n",
        "\n",
        "from datetime import datetime\n",
        "\n",
        "\n",
        "class ETL:\n",
        "    def __init__(self):\n",
        "        self.url = None\n",
        "\n",
        "    def extract_cnae_data(self, url):\n",
        "        self.url = url\n",
        "        data_extracao = datetime.today().strftime(\"%Y/%m/%d - %H:%M:%S\")\n",
        "        # Faz extração\n",
        "        dados = requests.get(self.url).json()\n",
        "        \n",
        "        # Extrai os grupos dos registros\n",
        "        grupos = []\n",
        "        for registro in dados:\n",
        "            grupos.append(registro['grupo']['descricao'])\n",
        "\n",
        "        # Cria uma lista de tuplas (grupo, quantidade_atividades)\n",
        "        grupos_count = [(grupo, grupos.count(grupo)) for grupo in set(grupos)]\n",
        "        grupos_count = dict(grupos_count)  # transforma a lista em dicionário\n",
        "\n",
        "        valor_maximo = max(grupos_count.values())  # Captura o valor máximo de atividades\n",
        "        # Gera uma lista com os grupos que possuem a quantidade máxima de atividades\n",
        "        grupos_mais_atividades = [chave for (chave, valor) in grupos_count.items() if valor == valor_maximo]\n",
        "        \n",
        "        # informações\n",
        "        qtde_atividades_distintas = len(dados)\n",
        "        qtde_grupos_distintos = len(set(grupos))\n",
        "        \n",
        "        print(f\"Dados extraídos em: {data_extracao}\")\n",
        "        print(f\"Quantidade de atividades distintas = {qtde_atividades_distintas}\")\n",
        "        print(f\"Quantidade de grupos distintos = {qtde_grupos_distintos}\")\n",
        "        print(f\"Grupos com o maior número de atividades = {grupos_mais_atividades}, atividades = {valor_maximo}\")\n",
        "        \n",
        "        return None\n"
      ],
      "metadata": {
        "id": "qOiiTwgmh0Vd"
      },
      "execution_count": 27,
      "outputs": []
    },
    {
      "cell_type": "code",
      "source": [
        "# Usando a classe ETL\n",
        "\n",
        "ETL().extract_cnae_data('https://servicodados.ibge.gov.br/api/v2/cnae/classes')\n",
        "\n"
      ],
      "metadata": {
        "colab": {
          "base_uri": "https://localhost:8080/"
        },
        "id": "a26LTfLIh80t",
        "outputId": "5eaebf37-aaa9-4c48-c96c-a241241f8695"
      },
      "execution_count": 29,
      "outputs": [
        {
          "output_type": "stream",
          "name": "stdout",
          "text": [
            "Dados extraídos em: 2023/03/21 - 14:17:42\n",
            "Quantidade de atividades distintas = 673\n",
            "Quantidade de grupos distintos = 285\n",
            "Grupos com o maior número de atividades = ['REPRESENTANTES COMERCIAIS E AGENTES DO COMÉRCIO, EXCETO DE VEÍCULOS AUTOMOTORES E MOTOCICLETAS'], atividades = 9\n"
          ]
        }
      ]
    }
  ]
}