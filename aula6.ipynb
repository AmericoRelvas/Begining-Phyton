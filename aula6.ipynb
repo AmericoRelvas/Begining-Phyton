{
  "nbformat": 4,
  "nbformat_minor": 0,
  "metadata": {
    "colab": {
      "provenance": []
    },
    "kernelspec": {
      "name": "python3",
      "display_name": "Python 3"
    },
    "language_info": {
      "name": "python"
    }
  },
  "cells": [
    {
      "cell_type": "code",
      "execution_count": 1,
      "metadata": {
        "colab": {
          "base_uri": "https://localhost:8080/"
        },
        "id": "rX1LMYTnCHFA",
        "outputId": "7790c92d-a734-417a-cc9e-c547261a9e45"
      },
      "outputs": [
        {
          "output_type": "stream",
          "name": "stdout",
          "text": [
            "lista =  [-3, 1, 4, 10, 15] \n",
            "\n",
            "lista_ordenada1 =  [-3, 1, 4, 10, 15]\n",
            "lista_ordenada2 =  None\n",
            "lista =  [-3, 1, 4, 10, 15]\n"
          ]
        }
      ],
      "source": [
        "lista = [10, 4, 1, 15, -3]\n",
        "lista_ordenada1 = sorted(lista)\n",
        "lista_ordenada2 = lista.sort()\n",
        "print('lista = ', lista, '\\n')\n",
        "print('lista_ordenada1 = ', lista_ordenada1)\n",
        "print('lista_ordenada2 = ', lista_ordenada2)\n",
        "print('lista = ', lista)"
      ]
    },
    {
      "cell_type": "code",
      "source": [
        "lista = [7, 4]\n",
        "if lista[0] > lista[1]:\n",
        "    aux = lista[1]\n",
        "    lista[1] = lista[0]\n",
        "    lista[0] = aux\n",
        "print(lista)"
      ],
      "metadata": {
        "colab": {
          "base_uri": "https://localhost:8080/"
        },
        "id": "diq2Lqi3DFKT",
        "outputId": "db5ddb4f-4bc2-4206-a7c8-984eb22f1ad5"
      },
      "execution_count": 2,
      "outputs": [
        {
          "output_type": "stream",
          "name": "stdout",
          "text": [
            "[4, 7]\n"
          ]
        }
      ]
    },
    {
      "cell_type": "code",
      "source": [
        "lista = [5, -1]\n",
        "if lista[0] > lista[1]:\n",
        "    lista[0], lista[1] = lista[1], lista[0]\n",
        "print(lista)"
      ],
      "metadata": {
        "colab": {
          "base_uri": "https://localhost:8080/"
        },
        "id": "QPADHx4fDrfY",
        "outputId": "075c71ad-722e-4695-8130-932a7f56f4ed"
      },
      "execution_count": 3,
      "outputs": [
        {
          "output_type": "stream",
          "name": "stdout",
          "text": [
            "[-1, 5]\n"
          ]
        }
      ]
    },
    {
      "cell_type": "code",
      "source": [
        "def executar_selection_sort(lista):\n",
        "    n = len(lista)\n",
        "    for i in range(0, n):\n",
        "        index_menor = i\n",
        "        for j in range(i+1, n):\n",
        "            if lista[j] < lista[index_menor]:\n",
        "                index_menor = j\n",
        "        lista[i], lista[index_menor] = lista[index_menor], lista[i]\n",
        "    return lista\n",
        "lista = [10, 9, 5, 8, 11, -1, 3]\n",
        "executar_selection_sort(lista)"
      ],
      "metadata": {
        "colab": {
          "base_uri": "https://localhost:8080/"
        },
        "id": "r6TG2kgcFXRy",
        "outputId": "9bc1ef15-6c71-4fdf-de7f-063daf0c6543"
      },
      "execution_count": 4,
      "outputs": [
        {
          "output_type": "execute_result",
          "data": {
            "text/plain": [
              "[-1, 3, 5, 8, 9, 10, 11]"
            ]
          },
          "metadata": {},
          "execution_count": 4
        }
      ]
    },
    {
      "cell_type": "code",
      "source": [
        "def executar_selection_sort_2(lista):\n",
        "    lista_ordenada = []\n",
        "    while lista:\n",
        "        minimo = min(lista)\n",
        "        lista_ordenada.append(minimo)\n",
        "        lista.remove(minimo)\n",
        "    return lista_ordenada\n",
        "lista = [10, 9, 5, 8, 11, -1, 3]\n",
        "executar_selection_sort_2(lista)"
      ],
      "metadata": {
        "colab": {
          "base_uri": "https://localhost:8080/"
        },
        "id": "auQu6-gRGfdS",
        "outputId": "ab9e38cb-f4df-48b9-d7bd-f9faec6fb1e8"
      },
      "execution_count": 5,
      "outputs": [
        {
          "output_type": "execute_result",
          "data": {
            "text/plain": [
              "[-1, 3, 5, 8, 9, 10, 11]"
            ]
          },
          "metadata": {},
          "execution_count": 5
        }
      ]
    },
    {
      "cell_type": "code",
      "source": [
        "def executar_bubble_sort(lista):\n",
        "    n = len(lista)\n",
        "    for i in range(n-1):\n",
        "        for j in range(n-1):\n",
        "            if lista[j] > lista[j + 1]:\n",
        "                lista[j], lista[j + 1] = lista[j + 1], lista[j]\n",
        "    return lista\n",
        "lista = [10, 9, 5, 8, 11, -1, 3]\n",
        "executar_bubble_sort(lista)"
      ],
      "metadata": {
        "colab": {
          "base_uri": "https://localhost:8080/"
        },
        "id": "Zy6sswmMISlW",
        "outputId": "9baf44f3-052b-4c62-ea04-ba37ed3da2d4"
      },
      "execution_count": 6,
      "outputs": [
        {
          "output_type": "execute_result",
          "data": {
            "text/plain": [
              "[-1, 3, 5, 8, 9, 10, 11]"
            ]
          },
          "metadata": {},
          "execution_count": 6
        }
      ]
    },
    {
      "cell_type": "code",
      "source": [
        "def executar_insertion_sort(lista):\n",
        "    n = len(lista)\n",
        "    for i in range(1, n):\n",
        "        valor_inserir = lista[i] \n",
        "        j = i - 1  \n",
        "        while j >= 0 and lista[j] > valor_inserir:\n",
        "            lista[j + 1] = lista[j]\n",
        "            j -= 1\n",
        "        lista[j + 1] = valor_inserir\n",
        "    return lista\n",
        "lista = [10, 9, 5, 8, 11, -1, 3]\n",
        "executar_insertion_sort(lista)"
      ],
      "metadata": {
        "colab": {
          "base_uri": "https://localhost:8080/"
        },
        "id": "KN4k8lLUKeax",
        "outputId": "f4eca6bf-3044-4141-ff0c-e1514bd04d17"
      },
      "execution_count": 7,
      "outputs": [
        {
          "output_type": "execute_result",
          "data": {
            "text/plain": [
              "[-1, 3, 5, 8, 9, 10, 11]"
            ]
          },
          "metadata": {},
          "execution_count": 7
        }
      ]
    },
    {
      "cell_type": "code",
      "source": [
        "def executar_insertion_sort(lista):\n",
        "    n = len(lista)\n",
        "    for i in range(1, n):\n",
        "        valor_inserir = lista[i] # Guarda o valor a ser inserido\n",
        "        j = i - 1 # calcula a primeira posição anterior ao valor\n",
        "        \n",
        "        print(f'Inserir o {valor_inserir} que está na posição de análise [{i}] ')\n",
        "        \n",
        "        while j >= 0 and lista[j] > valor_inserir: # itera sobre os valores nas posições anteriores, até achar a posição correta para inserir\n",
        "            lista[j + 1] = lista[j] # se o valor anterior for maior, copia o valor para a próxima posição\n",
        "            \n",
        "            print(f'No while: Valor anterior é {lista[j]} que está na pos[{j}] - lista no while = {lista}')\n",
        "            j -= 1 # diminui o índice até chegar na posição correta\n",
        "        lista[j + 1] = valor_inserir # Armazena na posição adequada o valor a ser inserido\n",
        "        \n",
        "        print(f'Pós while: posição de análise [{i}], posição anterior[{j}] - lista pós while= {lista}')\n",
        "        print('------------')\n",
        "    \n",
        "    return lista\n",
        "\n",
        "\n",
        "executar_insertion_sort([10, 9, 5, 8, 11])"
      ],
      "metadata": {
        "colab": {
          "base_uri": "https://localhost:8080/"
        },
        "id": "fYLMqc0zLuQA",
        "outputId": "b4cf88c7-6ed8-4590-8aad-99cbb61a648d"
      },
      "execution_count": 8,
      "outputs": [
        {
          "output_type": "stream",
          "name": "stdout",
          "text": [
            "Inserir o 9 que está na posição de análise [1] \n",
            "No while: Valor anterior é 10 que está na pos[0] - lista no while = [10, 10, 5, 8, 11]\n",
            "Pós while: posição de análise [1], posição anterior[-1] - lista pós while= [9, 10, 5, 8, 11]\n",
            "------------\n",
            "Inserir o 5 que está na posição de análise [2] \n",
            "No while: Valor anterior é 10 que está na pos[1] - lista no while = [9, 10, 10, 8, 11]\n",
            "No while: Valor anterior é 9 que está na pos[0] - lista no while = [9, 9, 10, 8, 11]\n",
            "Pós while: posição de análise [2], posição anterior[-1] - lista pós while= [5, 9, 10, 8, 11]\n",
            "------------\n",
            "Inserir o 8 que está na posição de análise [3] \n",
            "No while: Valor anterior é 10 que está na pos[2] - lista no while = [5, 9, 10, 10, 11]\n",
            "No while: Valor anterior é 9 que está na pos[1] - lista no while = [5, 9, 9, 10, 11]\n",
            "Pós while: posição de análise [3], posição anterior[0] - lista pós while= [5, 8, 9, 10, 11]\n",
            "------------\n",
            "Inserir o 11 que está na posição de análise [4] \n",
            "Pós while: posição de análise [4], posição anterior[3] - lista pós while= [5, 8, 9, 10, 11]\n",
            "------------\n"
          ]
        },
        {
          "output_type": "execute_result",
          "data": {
            "text/plain": [
              "[5, 8, 9, 10, 11]"
            ]
          },
          "metadata": {},
          "execution_count": 8
        }
      ]
    },
    {
      "cell_type": "code",
      "source": [
        "def executar_merge_sort(lista):\n",
        "    if len(lista) <= 1: return lista\n",
        "    else:\n",
        "        meio = len(lista) // 2\n",
        "        esquerda = executar_merge_sort(lista[:meio])\n",
        "        direita = executar_merge_sort(lista[meio:])\n",
        "        return executar_merge(esquerda, direita)\n",
        "def executar_merge(esquerda, direita):\n",
        "    sub_lista_ordenada = []\n",
        "    topo_esquerda, topo_direita = 0, 0\n",
        "    while topo_esquerda < len(esquerda) and topo_direita < len(direita):\n",
        "        if esquerda[topo_esquerda] <= direita[topo_direita]:\n",
        "            sub_lista_ordenada.append(esquerda[topo_esquerda])\n",
        "            topo_esquerda += 1\n",
        "        else:\n",
        "            sub_lista_ordenada.append(direita[topo_direita])\n",
        "            topo_direita += 1\n",
        "    sub_lista_ordenada += esquerda[topo_esquerda:]\n",
        "    sub_lista_ordenada += direita[topo_direita:]\n",
        "    return sub_lista_ordenada\n",
        "lista = [10, 9, 5, 8, 11, -1, 3]\n",
        "executar_merge_sort(lista)"
      ],
      "metadata": {
        "colab": {
          "base_uri": "https://localhost:8080/"
        },
        "id": "4xJjgcUdPcw-",
        "outputId": "0d7edab8-56cb-466e-c987-1a35fed8c70b"
      },
      "execution_count": 9,
      "outputs": [
        {
          "output_type": "execute_result",
          "data": {
            "text/plain": [
              "[-1, 3, 5, 8, 9, 10, 11]"
            ]
          },
          "metadata": {},
          "execution_count": 9
        }
      ]
    },
    {
      "cell_type": "code",
      "source": [
        "def executar_quicksort(lista, inicio, fim):\n",
        "    if inicio < fim:\n",
        "        pivo = executar_particao(lista, inicio, fim)\n",
        "        executar_quicksort(lista, inicio, pivo-1)\n",
        "        executar_quicksort(lista, pivo+1, fim)\n",
        "    return lista\n",
        "def executar_particao(lista, inicio, fim):\n",
        "    pivo = lista[fim]\n",
        "    esquerda = inicio\n",
        "    for direita in range(inicio, fim):\n",
        "        if lista[direita] <= pivo:\n",
        "            lista[direita], lista[esquerda] = lista[esquerda], lista[direita]\n",
        "            esquerda += 1\n",
        "    lista[esquerda], lista[fim] = lista[fim], lista[esquerda]\n",
        "    return esquerda\n",
        "lista = [10, 9, 5, 8, 11, -1, 3]\n",
        "executar_quicksort(lista, inicio=0, fim=len(lista)-1)\n"
      ],
      "metadata": {
        "colab": {
          "base_uri": "https://localhost:8080/"
        },
        "id": "zCnNiXX9SBVX",
        "outputId": "4c9069aa-d75c-45c8-94c5-606b46d46e80"
      },
      "execution_count": 10,
      "outputs": [
        {
          "output_type": "execute_result",
          "data": {
            "text/plain": [
              "[-1, 3, 5, 8, 9, 10, 11]"
            ]
          },
          "metadata": {},
          "execution_count": 10
        }
      ]
    },
    {
      "cell_type": "code",
      "source": [
        "def executar_quicksort_2(lista):\n",
        "    if len(lista) <= 1: return lista    \n",
        "    pivo = lista[0]\n",
        "    iguais  = [valor for valor in lista if valor == pivo]\n",
        "    menores = [valor for valor in lista if valor <  pivo]\n",
        "    maiores = [valor for valor in lista if valor >  pivo]\n",
        "    return executar_quicksort_2(menores) + iguais + executar_quicksort_2(maiores)\n",
        "lista = [10, 9, 5, 8, 11, -1, 3]\n",
        "executar_quicksort_2(lista)"
      ],
      "metadata": {
        "colab": {
          "base_uri": "https://localhost:8080/"
        },
        "id": "BJ_VCS38TdjN",
        "outputId": "d882e2a4-1ac0-467d-f5bb-9a1368e5cbba"
      },
      "execution_count": 11,
      "outputs": [
        {
          "output_type": "execute_result",
          "data": {
            "text/plain": [
              "[-1, 3, 5, 8, 9, 10, 11]"
            ]
          },
          "metadata": {},
          "execution_count": 11
        }
      ]
    },
    {
      "cell_type": "code",
      "source": [
        "# Parte 1 - Implementar o algoritmo de ordenação merge sort\n",
        "\n",
        "def executar_merge_sort(lista, inicio=0, fim=None):\n",
        "    if not fim:\n",
        "        fim = len(lista)\n",
        "        \n",
        "    if fim - inicio > 1:\n",
        "        meio = (inicio + fim) // 2\n",
        "        executar_merge_sort(lista, inicio, meio)\n",
        "        executar_merge_sort(lista, meio, fim)\n",
        "        executar_merge(lista, inicio, meio, fim)\n",
        "    return lista\n",
        "\n",
        "\n",
        "def executar_merge(lista, inicio, meio, fim):\n",
        "    esquerda = lista[inicio:meio]\n",
        "    direita = lista[meio:fim]\n",
        "    topo_esquerda = topo_direita = 0\n",
        "    for p in range(inicio, fim):\n",
        "        if topo_esquerda >= len(esquerda):\n",
        "            lista[p] = direita[topo_direita]\n",
        "            topo_direita += 1\n",
        "        elif topo_direita >= len(direita):\n",
        "            lista[p] = esquerda[topo_esquerda]\n",
        "            topo_esquerda += 1\n",
        "        elif esquerda[topo_esquerda] < direita[topo_direita]:\n",
        "            lista[p] = esquerda[topo_esquerda]\n",
        "            topo_esquerda += 1\n",
        "        else:\n",
        "            lista[p] = direita[topo_direita]\n",
        "            topo_direita += 1 \n",
        "\n",
        "# Parte 2 - Implementar o algoritmo de busca binária\n",
        "\n",
        "def executar_busca_binaria(lista, valor):\n",
        "    minimo = 0\n",
        "    maximo = len(lista) - 1\n",
        "    while minimo <= maximo:\n",
        "        meio = (minimo + maximo) // 2\n",
        "        if valor < lista[meio]:\n",
        "            maximo = meio - 1\n",
        "        elif valor > lista[meio]:\n",
        "            minimo = meio + 1\n",
        "        else:\n",
        "            return True\n",
        "    return False\n",
        "\n",
        "# Parte 3 - Implementar a função que faz a verificação do cpf, o dedup e devolve o resultado esperado\n",
        "\n",
        "def criar_lista_dedup_ordenada(lista):\n",
        "    lista = [str(cpf).replace('.','').replace('-','') for cpf in lista]\n",
        "    lista = [cpf for cpf in lista if len(cpf) == 11]\n",
        "    lista = executar_merge_sort(lista)\n",
        "    \n",
        "    lista_dedup = []\n",
        "    for cpf in lista:\n",
        "        if not executar_busca_binaria(lista_dedup, cpf):\n",
        "            lista_dedup.append(cpf)\n",
        "    return lista_dedup\n",
        "\n",
        "# Parte 4 - Criar uma função de teste\n",
        "\n",
        "def testar_funcao(lista_cpfs):\n",
        "    lista_dedup = criar_lista_dedup_ordenada(lista_cpfs)\n",
        "    print(lista_dedup)\n",
        "\n",
        "    \n",
        "lista_cpfs = ['44444444444', '111.111.111-11', '11111111111', '222.222.222-22', '333.333.333-33', '22222222222', '444.44444']\n",
        "testar_funcao(lista_cpfs)\n"
      ],
      "metadata": {
        "colab": {
          "base_uri": "https://localhost:8080/"
        },
        "id": "in2Na5psWQU7",
        "outputId": "3c3f1027-adea-45fb-fb21-ae0a39b0122f"
      },
      "execution_count": 12,
      "outputs": [
        {
          "output_type": "stream",
          "name": "stdout",
          "text": [
            "['11111111111', '22222222222', '33333333333', '44444444444']\n"
          ]
        }
      ]
    }
  ]
}