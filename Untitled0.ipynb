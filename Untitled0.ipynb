{
  "nbformat": 4,
  "nbformat_minor": 0,
  "metadata": {
    "colab": {
      "provenance": []
    },
    "kernelspec": {
      "name": "python3",
      "display_name": "Python 3"
    },
    "language_info": {
      "name": "python"
    }
  },
  "cells": [
    {
      "cell_type": "code",
      "source": [
        "x = 10\n",
        "nome = 'aluno'\n",
        "nota = 8.75\n",
        "fez_inscricao = True\n",
        "\n",
        "print(type(x))\n",
        "print(type(nome))\n",
        "print(type(nota))\n",
        "print(type(fez_inscricao))"
      ],
      "metadata": {
        "colab": {
          "base_uri": "https://localhost:8080/"
        },
        "id": "wmciYvhUEDmr",
        "outputId": "dcda1c3d-2d7f-4c6c-ef65-ff3fc15d0cb9"
      },
      "execution_count": 2,
      "outputs": [
        {
          "output_type": "stream",
          "name": "stdout",
          "text": [
            "<class 'int'>\n",
            "<class 'str'>\n",
            "<class 'float'>\n",
            "<class 'bool'>\n"
          ]
        }
      ]
    },
    {
      "cell_type": "code",
      "source": [
        "nome=input(\"Digite um nome \")\n",
        "print(nome)\n",
        "\n",
        "# Modo 1 - usando formatadores de caracteres (igual na linguagem C) para imprimir variável e texto\n",
        "print(\"Olá %s, bem vindo a disciplina de programação. Parabéns pelo seu primeiro hello world\" % (nome))\n",
        "\n",
        "# Modo 2 - usando a função format() para imprimir variável e texto\n",
        "print(\"Olá {}, bem vindo a disciplina de programação. Parabéns pelo seu primeiro hello world\".format(nome))\n",
        "\n",
        "# Modo 3 - usando strings formatadas\n",
        "print(f\"Olá {nome}, bem vindo a disciplina de programação. Parabéns pelo seu primeiro hello world\")"
      ],
      "metadata": {
        "colab": {
          "base_uri": "https://localhost:8080/"
        },
        "id": "OSarA9AhFfYb",
        "outputId": "60becb47-35bd-4193-efbc-225a69982c11"
      },
      "execution_count": 7,
      "outputs": [
        {
          "output_type": "stream",
          "name": "stdout",
          "text": [
            "Digite um nome Danilo\n",
            "Danilo\n",
            "Olá Danilo, bem vindo a disciplina de programação. Parabéns pelo seu primeiro hello world\n",
            "Olá Danilo, bem vindo a disciplina de programação. Parabéns pelo seu primeiro hello world\n",
            "Olá Danilo, bem vindo a disciplina de programação. Parabéns pelo seu primeiro hello world\n"
          ]
        }
      ]
    },
    {
      "cell_type": "code",
      "source": [
        "# Qual o resultado armazendo na variável operacao_1: 25 ou 17? \n",
        "operacao_1 = 2 + 3 * 5\n",
        "\n",
        "# Qual o resultado armazendo na variável operacao_2: 25 ou 17? \n",
        "operacao_2 = (2 + 3) * 5\n",
        "\n",
        "# Qual o resultado armazendo na variável operacao_3: 4 ou 1?\n",
        "operacao_3 = 4 / 2 ** 2\n",
        "\n",
        "# Qual o resultado armazendo na variável operacao_4: 1 ou 5?\n",
        "operacao_4 = 13 % 3 + 4\n",
        "\n",
        "print(f\"Resultado em operacao_1 = {operacao_1}\")\n",
        "print(f\"Resultado em operacao_2 = {operacao_2}\")\n",
        "print(f\"Resultado em operacao_3 = {operacao_3}\")\n",
        "print(f\"Resultado em operacao_4 = {operacao_4}\")"
      ],
      "metadata": {
        "colab": {
          "base_uri": "https://localhost:8080/"
        },
        "id": "o7Qlzh4xIShD",
        "outputId": "50e2bf2a-b19e-4fb0-9b90-36fdeae82b98"
      },
      "execution_count": 10,
      "outputs": [
        {
          "output_type": "stream",
          "name": "stdout",
          "text": [
            "Resultado em operacao_1 = 17\n",
            "Resultado em operacao_2 = 25\n",
            "Resultado em operacao_3 = 1.0\n",
            "Resultado em operacao_4 = 5\n"
          ]
        }
      ]
    },
    {
      "cell_type": "code",
      "source": [
        "a = 2\n",
        "b = 0.5\n",
        "c = 1\n",
        "x = input(\"Digite o valor de x: \")\n",
        "x = float(x) # aqui fazemos a conversão da string para o tipo numérico\n",
        "y = a * x ** 2 + b * x + c\n",
        "print(f\"O resultado de y para x = {x} é {y}.\")\n",
        "\n"
      ],
      "metadata": {
        "colab": {
          "base_uri": "https://localhost:8080/"
        },
        "id": "4_cCB-WFJWjE",
        "outputId": "32904421-bd3f-40b7-c705-2cc9c175afc5"
      },
      "execution_count": 15,
      "outputs": [
        {
          "output_type": "stream",
          "name": "stdout",
          "text": [
            "Digite o valor de x: 3\n",
            "O resultado de y para x = 3.0 é 20.5.\n"
          ]
        }
      ]
    },
    {
      "cell_type": "code",
      "source": [
        "a = 2\n",
        "b = 0.5\n",
        "c = 1\n",
        "x = input(\"Digite o valor de x: \")\n",
        "\n",
        "print(type(a))\n",
        "print(type(b))\n",
        "print(type(c))\n",
        "print(type(x))\n"
      ],
      "metadata": {
        "colab": {
          "base_uri": "https://localhost:8080/"
        },
        "id": "6spi1BfJKMaq",
        "outputId": "bc500508-512b-4319-8fa6-604556ff369e"
      },
      "execution_count": 13,
      "outputs": [
        {
          "output_type": "stream",
          "name": "stdout",
          "text": [
            "Digite o valor de x: 3\n",
            "<class 'int'>\n",
            "<class 'float'>\n",
            "<class 'int'>\n",
            "<class 'str'>\n"
          ]
        }
      ]
    },
    {
      "cell_type": "code",
      "source": [
        "c = 200 # valor da constante\n",
        "mes = input(\"Digite o mês para o qual quer saber o resultado: \")  # Função para captura o mês que o cliente digitar\n",
        "mes = int(mes) # Não esqueça de converter para numérico o valor captura pela função input()\n",
        "r = c * mes # Equação do primeiro grau, também chamada função do primeiro grau ou de função linear.\n",
        "print(f\"A quantidade de peças para o mês {mes} será {r}\") # Impressão do resultado usando string interpolada \"f-strings\" (PEP 498)\n"
      ],
      "metadata": {
        "colab": {
          "base_uri": "https://localhost:8080/"
        },
        "id": "Xerq3-7pOfpl",
        "outputId": "9efb9e95-8abc-4a94-9941-4a64f88d3ed9"
      },
      "execution_count": 16,
      "outputs": [
        {
          "output_type": "stream",
          "name": "stdout",
          "text": [
            "Digite o mês para o qual quer saber o resultado: 30\n",
            "A quantidade de peças para o mês 30 será 6000\n"
          ]
        }
      ]
    }
  ]
}