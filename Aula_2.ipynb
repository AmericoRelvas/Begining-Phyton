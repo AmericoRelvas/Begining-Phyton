{
  "nbformat": 4,
  "nbformat_minor": 0,
  "metadata": {
    "colab": {
      "provenance": []
    },
    "kernelspec": {
      "name": "python3",
      "display_name": "Python 3"
    },
    "language_info": {
      "name": "python"
    }
  },
  "cells": [
    {
      "cell_type": "code",
      "execution_count": 2,
      "metadata": {
        "colab": {
          "base_uri": "https://localhost:8080/"
        },
        "id": "6JXGDtnAFHS5",
        "outputId": "21b3731a-736c-4f87-eb0b-aaa9fcf6fd32"
      },
      "outputs": [
        {
          "output_type": "stream",
          "name": "stdout",
          "text": [
            "Digite a seu login: userpy\n",
            "Digite a sua senha: teste123\n",
            "Bem vindo userpy01\n"
          ]
        }
      ],
      "source": [
        "login = input(\"Digite a seu login: \")\n",
        "senha = input(\"Digite a sua senha: \")\n",
        "if login == \"userpy\" and senha == \"teste123\":\n",
        "    print(\"Bem vindo userpy01\")\n",
        "else:\n",
        "    print(\"Login falhou, verifique a sua senha novamente.\")"
      ]
    },
    {
      "cell_type": "code",
      "source": [
        "a = 5\n",
        "b = 10\n",
        "if a < b:\n",
        "  print(\"a é menor que b\")\n",
        "  r = a + b\n",
        "  print (r)"
      ],
      "metadata": {
        "colab": {
          "base_uri": "https://localhost:8080/"
        },
        "id": "iD1Nk1WxKcGE",
        "outputId": "460ae00a-91cd-4e42-ec85-19c82d29fdc1"
      },
      "execution_count": 21,
      "outputs": [
        {
          "output_type": "stream",
          "name": "stdout",
          "text": [
            "a é menor que b\n",
            "15\n"
          ]
        }
      ]
    },
    {
      "cell_type": "code",
      "source": [
        "a = 10\n",
        "b = 5\n",
        "if a < b:\n",
        "  print(\"a é menor que b\")\n",
        "  r = a + b\n",
        "  print(r)\n",
        "else:\n",
        "  print(\"a é maior que b\")\n",
        "  r = a - b\n",
        "  print(r)  "
      ],
      "metadata": {
        "colab": {
          "base_uri": "https://localhost:8080/"
        },
        "id": "hSltPAG7LIg-",
        "outputId": "d76df6b7-f962-4941-c3b0-0c10ea307191"
      },
      "execution_count": 23,
      "outputs": [
        {
          "output_type": "stream",
          "name": "stdout",
          "text": [
            "a é maior que b\n",
            "5\n"
          ]
        }
      ]
    },
    {
      "cell_type": "code",
      "source": [
        "login = input(\"Digite o seu login:\")\n",
        "senha = input(\"Digite sua senha: \")\n",
        "if login == \"userpy01\" and senha == \"teste01\":\n",
        "    print(\"Bem-vindo userpy01\")\n",
        "elif login == \"userpy02\" and senha == \"teste02\":\n",
        "    print(\"Bem-vindo userpy02\")\n",
        "elif login == \"userpy03\" and senha == \"teste03\":\n",
        "    print(\"Bem-vindo userpy03\")\n",
        "elif login == \"userpy04\" and senha == \"teste04\":\n",
        "    print(\"Bem-vindo userpy04\")\n",
        "else:\n",
        "    print(\"Login falhou!\")"
      ],
      "metadata": {
        "colab": {
          "base_uri": "https://localhost:8080/"
        },
        "id": "45oedj_MGHP1",
        "outputId": "7a67bd89-60c5-4ce2-9768-6257ba75f807"
      },
      "execution_count": 3,
      "outputs": [
        {
          "output_type": "stream",
          "name": "stdout",
          "text": [
            "Digite o seu login:userpy02\n",
            "Digite sua senha: teste02\n",
            "Bem-vindo userpy02\n"
          ]
        }
      ]
    },
    {
      "cell_type": "code",
      "source": [
        "codigo_compra = 5111\n",
        "if codigo_compra == 5222:\n",
        "  print(\"Compra à vista\")\n",
        "elif codigo_compra == 5333:\n",
        "  print(\"compfra a prazo no boleto\")\n",
        "elif codigo_compra == 5444:\n",
        "  print(\"compra a prazo no crédito\")\n",
        "else:\n",
        "  print(\"Código não está cadastrado\")"
      ],
      "metadata": {
        "colab": {
          "base_uri": "https://localhost:8080/"
        },
        "id": "E8bJTL-_MI1c",
        "outputId": "c10264c0-577d-45b5-c056-8cb3d263cdef"
      },
      "execution_count": 25,
      "outputs": [
        {
          "output_type": "stream",
          "name": "stdout",
          "text": [
            "Código não está cadastrado\n"
          ]
        }
      ]
    },
    {
      "cell_type": "code",
      "source": [
        "qtde_faltas = int(input(\"Digite a quantidade de faltas: \"))\n",
        "media_final = float(input(\"Digite a media final: \"))\n",
        "if qtde_faltas <= 5 and media_final>= 7:\n",
        "  print(\"Aluno aprovado\")\n",
        "else:\n",
        "  print(\"Aluno reprovado\")"
      ],
      "metadata": {
        "colab": {
          "base_uri": "https://localhost:8080/"
        },
        "id": "gRgAEeXKNSpr",
        "outputId": "9a2dc24e-5fd0-4ae2-b285-30c0fe25d4dd"
      },
      "execution_count": 26,
      "outputs": [
        {
          "output_type": "stream",
          "name": "stdout",
          "text": [
            "Digite a quantidade de faltas: 2\n",
            "Digite a media final: 7\n",
            "Aluno aprovado\n"
          ]
        }
      ]
    },
    {
      "cell_type": "code",
      "source": [
        "A = 15\n",
        "B = 9\n",
        "C = 9\n",
        "print(B == C or A < B and A < C)\n",
        "print((B == C or A < B) and A < C )\n"
      ],
      "metadata": {
        "colab": {
          "base_uri": "https://localhost:8080/"
        },
        "id": "mOQQarHsOe5R",
        "outputId": "2ef143e6-442e-45cb-f8d5-1060d6c6ae51"
      },
      "execution_count": 27,
      "outputs": [
        {
          "output_type": "stream",
          "name": "stdout",
          "text": [
            "True\n",
            "False\n"
          ]
        }
      ]
    },
    {
      "cell_type": "code",
      "source": [
        "numero = 1\n",
        "while numero != 0:\n",
        "    numero = int(input(\"Digite um número: \"))\n",
        "    if numero % 2 == 0:\n",
        "        print(\"Número par!\")\n",
        "    else:\n",
        "        print(\"Número ímpar!\")"
      ],
      "metadata": {
        "colab": {
          "base_uri": "https://localhost:8080/"
        },
        "id": "A5aBG8MbQwv0",
        "outputId": "ff79a385-0d70-4a27-d3ce-7e46d12b54b9"
      },
      "execution_count": 28,
      "outputs": [
        {
          "output_type": "stream",
          "name": "stdout",
          "text": [
            "Digite um número: 7\n",
            "Número ímpar!\n",
            "Digite um número: 5\n",
            "Número ímpar!\n",
            "Digite um número: 2\n",
            "Número par!\n",
            "Digite um número: 0\n",
            "Número par!\n"
          ]
        }
      ]
    },
    {
      "cell_type": "code",
      "source": [
        "nome = \"Guido\"\n",
        "for c in nome:\n",
        "    print(c)"
      ],
      "metadata": {
        "colab": {
          "base_uri": "https://localhost:8080/"
        },
        "id": "E7f7bZPBRV_m",
        "outputId": "2a861e2c-3216-4a27-f0ff-b0fa1c3ea7f5"
      },
      "execution_count": 29,
      "outputs": [
        {
          "output_type": "stream",
          "name": "stdout",
          "text": [
            "G\n",
            "u\n",
            "i\n",
            "d\n",
            "o\n"
          ]
        }
      ]
    },
    {
      "cell_type": "code",
      "source": [
        "nome = \"Guido\"\n",
        "for i,c in enumerate(nome):\n",
        "    print(f\"Posição = {i}, valor = {c}\")"
      ],
      "metadata": {
        "colab": {
          "base_uri": "https://localhost:8080/"
        },
        "id": "veRIXCK_R5WG",
        "outputId": "10a836db-01f8-4aa7-fa1d-17e0c28cd6d6"
      },
      "execution_count": 30,
      "outputs": [
        {
          "output_type": "stream",
          "name": "stdout",
          "text": [
            "Posição = 0, valor = G\n",
            "Posição = 1, valor = u\n",
            "Posição = 2, valor = i\n",
            "Posição = 3, valor = d\n",
            "Posição = 4, valor = o\n"
          ]
        }
      ]
    },
    {
      "cell_type": "code",
      "source": [
        "for x in range(5):\n",
        "    print(x)"
      ],
      "metadata": {
        "colab": {
          "base_uri": "https://localhost:8080/"
        },
        "id": "lUkPERoTSmmH",
        "outputId": "f65e279a-748d-4b5d-a424-6313d3cdf5ed"
      },
      "execution_count": 31,
      "outputs": [
        {
          "output_type": "stream",
          "name": "stdout",
          "text": [
            "0\n",
            "1\n",
            "2\n",
            "3\n",
            "4\n"
          ]
        }
      ]
    },
    {
      "cell_type": "code",
      "source": [
        "# Método 1\n",
        "for i in range(10):\n",
        "\t  print(i)\n",
        "\t\n",
        "# Método 2\n",
        "for i in range(0, 5):\n",
        "    print(i)\n",
        "    \n",
        "#Método 3\n",
        "for i in range(0, 20, 2):\n",
        "    print(i)"
      ],
      "metadata": {
        "colab": {
          "base_uri": "https://localhost:8080/"
        },
        "id": "UxK_jWTaTC3a",
        "outputId": "d4e28078-21cc-4933-d82a-b96bc0cc3d64"
      },
      "execution_count": 32,
      "outputs": [
        {
          "output_type": "stream",
          "name": "stdout",
          "text": [
            "0\n",
            "1\n",
            "2\n",
            "3\n",
            "4\n",
            "5\n",
            "6\n",
            "7\n",
            "8\n",
            "9\n",
            "0\n",
            "1\n",
            "2\n",
            "3\n",
            "4\n",
            "0\n",
            "2\n",
            "4\n",
            "6\n",
            "8\n",
            "10\n",
            "12\n",
            "14\n",
            "16\n",
            "18\n"
          ]
        }
      ]
    },
    {
      "cell_type": "code",
      "source": [
        "list(range(10)) #Gera uma sequência de 0 à 9."
      ],
      "metadata": {
        "colab": {
          "base_uri": "https://localhost:8080/"
        },
        "id": "p8K9BS9OHKry",
        "outputId": "e299284f-4826-4952-908f-2a32842d85cb"
      },
      "execution_count": 9,
      "outputs": [
        {
          "output_type": "execute_result",
          "data": {
            "text/plain": [
              "[0, 1, 2, 3, 4, 5, 6, 7, 8, 9]"
            ]
          },
          "metadata": {},
          "execution_count": 9
        }
      ]
    },
    {
      "cell_type": "code",
      "source": [
        "list(range(0,-10,-1)) #Gera uma sequência numérica negativa."
      ],
      "metadata": {
        "colab": {
          "base_uri": "https://localhost:8080/"
        },
        "id": "3MvFee-KH9rO",
        "outputId": "d249bebe-129f-48e1-d48e-ee9578a1403f"
      },
      "execution_count": 16,
      "outputs": [
        {
          "output_type": "execute_result",
          "data": {
            "text/plain": [
              "[0, -1, -2, -3, -4, -5, -6, -7, -8, -9]"
            ]
          },
          "metadata": {},
          "execution_count": 16
        }
      ]
    },
    {
      "cell_type": "code",
      "source": [
        "list(range(0,30,5)) #Gera uma sequência de 0 à 30 com step = 5.\n",
        "\n"
      ],
      "metadata": {
        "colab": {
          "base_uri": "https://localhost:8080/"
        },
        "id": "Q7X_0p4nHwtV",
        "outputId": "9c1319ca-e784-4909-d760-705fa4b5f3a4"
      },
      "execution_count": 15,
      "outputs": [
        {
          "output_type": "execute_result",
          "data": {
            "text/plain": [
              "[0, 5, 10, 15, 20, 25]"
            ]
          },
          "metadata": {},
          "execution_count": 15
        }
      ]
    },
    {
      "cell_type": "code",
      "source": [
        "# Exemplo de uso do break\n",
        "disciplina = \"Linguagem de programação\"\n",
        "for c in disciplina:\n",
        "    if c == 'a':\n",
        "        break\n",
        "    else:\n",
        "        print(c)\n"
      ],
      "metadata": {
        "colab": {
          "base_uri": "https://localhost:8080/"
        },
        "id": "Mr2Jv82NUHVa",
        "outputId": "fd0b3b73-96eb-4a3e-9c70-ebe5396195de"
      },
      "execution_count": 33,
      "outputs": [
        {
          "output_type": "stream",
          "name": "stdout",
          "text": [
            "L\n",
            "i\n",
            "n\n",
            "g\n",
            "u\n"
          ]
        }
      ]
    },
    {
      "cell_type": "code",
      "source": [
        "# Exemplo de uso do continue\n",
        "disciplina = \"Linguagem de programação\"\n",
        "for c in disciplina:\n",
        "    if c == 'a':\n",
        "        continue\n",
        "    else:\n",
        "        print(c)"
      ],
      "metadata": {
        "colab": {
          "base_uri": "https://localhost:8080/"
        },
        "id": "37UWkCRNUX6F",
        "outputId": "c26ecb5a-5722-43a1-ed01-dc22eb344613"
      },
      "execution_count": 34,
      "outputs": [
        {
          "output_type": "stream",
          "name": "stdout",
          "text": [
            "L\n",
            "i\n",
            "n\n",
            "g\n",
            "u\n",
            "g\n",
            "e\n",
            "m\n",
            " \n",
            "d\n",
            "e\n",
            " \n",
            "p\n",
            "r\n",
            "o\n",
            "g\n",
            "r\n",
            "m\n",
            "ç\n",
            "ã\n",
            "o\n"
          ]
        }
      ]
    },
    {
      "cell_type": "code",
      "source": [
        "contagem = 0\n",
        "for contagem in range(1,10):\n",
        "         print(contagem)"
      ],
      "metadata": {
        "colab": {
          "base_uri": "https://localhost:8080/"
        },
        "id": "YMAdrr9DHFsM",
        "outputId": "b464cb93-5399-4e0f-9dec-32eafc2cb7b6"
      },
      "execution_count": 4,
      "outputs": [
        {
          "output_type": "stream",
          "name": "stdout",
          "text": [
            "1\n",
            "2\n",
            "3\n",
            "4\n",
            "5\n",
            "6\n",
            "7\n",
            "8\n",
            "9\n"
          ]
        }
      ]
    },
    {
      "cell_type": "code",
      "source": [
        "texto = \"\"\"\n",
        "A inserção de comentários no código do programa é uma prática normal.\n",
        "Em função disso, toda linguagem de programação tem alguma maneira de permitir que comentários sejam inseridos nos programas.\n",
        "O objetivo é adicionar descrições em partes do código, seja para documentá-lo ou para adicionar uma descrição do algoritmo implementado (BANIN, p. 45, 2018).\"\n",
        "\"\"\"\n",
        "for i,c in enumerate(texto):\n",
        "  if c == 'a' or c == 'e':\n",
        "    print(f\"Vogal = {c} encontrada, na posição {i}\")\n",
        "  else:\n",
        "    continue"
      ],
      "metadata": {
        "colab": {
          "base_uri": "https://localhost:8080/"
        },
        "id": "4Nh1v7JSVeG3",
        "outputId": "41253f7c-0c1a-4462-bdab-7970897cda48"
      },
      "execution_count": 35,
      "outputs": [
        {
          "output_type": "stream",
          "name": "stdout",
          "text": [
            "Vogal = e encontrada, na posição 6\n",
            "Vogal = e encontrada, na posição 13\n",
            "Vogal = e encontrada, na posição 18\n",
            "Vogal = a encontrada, na posição 45\n",
            "Vogal = a encontrada, na posição 47\n",
            "Vogal = a encontrada, na posição 53\n",
            "Vogal = a encontrada, na posição 61\n",
            "Vogal = a encontrada, na posição 67\n",
            "Vogal = a encontrada, na posição 91\n",
            "Vogal = a encontrada, na posição 98\n",
            "Vogal = e encontrada, na posição 100\n",
            "Vogal = e encontrada, na posição 104\n",
            "Vogal = a encontrada, na posição 111\n",
            "Vogal = a encontrada, na posição 113\n",
            "Vogal = e encontrada, na posição 119\n",
            "Vogal = a encontrada, na posição 122\n",
            "Vogal = a encontrada, na posição 127\n",
            "Vogal = a encontrada, na posição 130\n",
            "Vogal = e encontrada, na posição 132\n",
            "Vogal = a encontrada, na posição 135\n",
            "Vogal = e encontrada, na posição 138\n",
            "Vogal = e encontrada, na posição 141\n",
            "Vogal = e encontrada, na posição 151\n",
            "Vogal = e encontrada, na posição 156\n",
            "Vogal = e encontrada, na posição 166\n",
            "Vogal = a encontrada, na posição 168\n",
            "Vogal = e encontrada, na posição 174\n",
            "Vogal = a encontrada, na posição 190\n",
            "Vogal = a encontrada, na posição 192\n",
            "Vogal = e encontrada, na posição 201\n",
            "Vogal = a encontrada, na posição 209\n",
            "Vogal = a encontrada, na posição 216\n",
            "Vogal = e encontrada, na posição 220\n",
            "Vogal = e encontrada, na posição 227\n",
            "Vogal = e encontrada, na posição 230\n",
            "Vogal = a encontrada, na posição 234\n",
            "Vogal = e encontrada, na posição 237\n",
            "Vogal = e encontrada, na posição 252\n",
            "Vogal = a encontrada, na posição 254\n",
            "Vogal = a encontrada, na posição 257\n",
            "Vogal = a encontrada, na posição 259\n",
            "Vogal = e encontrada, na posição 266\n",
            "Vogal = a encontrada, na posição 278\n",
            "Vogal = a encontrada, na posição 280\n",
            "Vogal = a encontrada, na posição 282\n",
            "Vogal = a encontrada, na posição 289\n",
            "Vogal = a encontrada, na posição 294\n",
            "Vogal = e encontrada, na posição 297\n",
            "Vogal = a encontrada, na posição 309\n",
            "Vogal = e encontrada, na posição 323\n",
            "Vogal = e encontrada, na posição 325\n",
            "Vogal = a encontrada, na posição 328\n"
          ]
        }
      ]
    },
    {
      "cell_type": "code",
      "source": [
        "contagem = 0\n",
        "while(contagem < 10):\n",
        "         print(contagem)\n",
        "         contagem = contagem + 1"
      ],
      "metadata": {
        "colab": {
          "base_uri": "https://localhost:8080/"
        },
        "id": "bxoJcIffITnd",
        "outputId": "08665a3d-81e1-41b0-b770-8753ba2b6dd3"
      },
      "execution_count": 20,
      "outputs": [
        {
          "output_type": "stream",
          "name": "stdout",
          "text": [
            "0\n",
            "1\n",
            "2\n",
            "3\n",
            "4\n",
            "5\n",
            "6\n",
            "7\n",
            "8\n",
            "9\n"
          ]
        }
      ]
    },
    {
      "cell_type": "code",
      "source": [
        "salario = 0\n",
        "salario = float(input(\"Digite o salário do colaborador: \"))\n",
        "if salario <= 1903.98:\n",
        "    print(f\"O colaborador isento de imposto.\")\n",
        "elif salario <= 2826.65:\n",
        "    print(f\"O colaborador deve pagar R$ 142,80 de imposto.\")\n",
        "elif salario <= 3751.05:\n",
        "    print(f\"O colaborador deve pagar R$ 354,80 de imposto.\")\n",
        "elif salario <= 4664.68:\n",
        "    print(f\"O colaborador deve pagar R$ 636,13 de imposto.\")\n",
        "else:\n",
        "    print(f\"O colaborador deve pagar R$ 869,36 de imposto.\")"
      ],
      "metadata": {
        "colab": {
          "base_uri": "https://localhost:8080/"
        },
        "id": "fUayQEhdsEiu",
        "outputId": "c5bed43b-5daf-4849-b900-70197d06ad84"
      },
      "execution_count": 36,
      "outputs": [
        {
          "output_type": "stream",
          "name": "stdout",
          "text": [
            "Digite o salário do colaborador: 2000\n",
            "O colaborador deve pagar R$ 142,80 de imposto.\n"
          ]
        }
      ]
    },
    {
      "cell_type": "code",
      "source": [
        "salario = 0\n",
        "salario = float(input(\"Digite o salário do colaborador: \"))\n",
        "if salario <= 1903.98:\n",
        "    print(f\"O colaborador isento de imposto.\")\n",
        "    print(f\"Salário a receber = {salario}\")\n",
        "elif salario <= 2826.65:\n",
        "    print(f\"O colaborador deve pagar R$ 142,80 de imposto.\")\n",
        "    print(f\"Salário a receber = {salario - 142.80}\")\n",
        "elif salario <= 3751.05:\n",
        "    print(f\"O colaborador deve pagar R$ 354,80 de imposto.\")\n",
        "    print(f\"Salário a receber = {salario - 354.80}\")\n",
        "elif salario <= 4664.68:\n",
        "    print(f\"O colaborador deve pagar R$ 636,13 de imposto.\")\n",
        "    print(f\"Salário a receber = {salario - 636.13}\")\n",
        "else:\n",
        "    print(f\"O colaborador deve pagar R$ 869,36 de imposto.\")\n",
        "    print(f\"Salário a receber = {salario - 869.36}\")"
      ],
      "metadata": {
        "colab": {
          "base_uri": "https://localhost:8080/"
        },
        "id": "XPOwNjlbsqBM",
        "outputId": "0dbbded6-d634-45b9-9064-4bbbe1b86d2e"
      },
      "execution_count": 37,
      "outputs": [
        {
          "output_type": "stream",
          "name": "stdout",
          "text": [
            "Digite o salário do colaborador: 2000\n",
            "O colaborador deve pagar R$ 142,80 de imposto.\n",
            "Salário a receber = 1857.2\n"
          ]
        }
      ]
    }
  ]
}