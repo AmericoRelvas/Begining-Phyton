{
  "nbformat": 4,
  "nbformat_minor": 0,
  "metadata": {
    "colab": {
      "provenance": []
    },
    "kernelspec": {
      "name": "python3",
      "display_name": "Python 3"
    },
    "language_info": {
      "name": "python"
    }
  },
  "cells": [
    {
      "cell_type": "code",
      "execution_count": null,
      "metadata": {
        "colab": {
          "base_uri": "https://localhost:8080/"
        },
        "id": "zlyt-YAqgtug",
        "outputId": "c8d2453e-c774-45b3-df90-8b727898d1a4"
      },
      "outputs": [
        {
          "output_type": "stream",
          "name": "stdout",
          "text": [
            "Digite a fórmula geral da equação linear (a * x + b): a*x+b\n",
            "\n",
            "A entrada do usuário a*x+b é do tipo <class 'str'>\n",
            "\n",
            "Resultado da equação para x = 0 é 1\n",
            "\n",
            "Resultado da equação para x = 1 é 3\n",
            "\n",
            "Resultado da equação para x = 2 é 5\n",
            "\n",
            "Resultado da equação para x = 3 é 7\n",
            "\n",
            "Resultado da equação para x = 4 é 9\n"
          ]
        }
      ],
      "source": [
        "a = 2\n",
        "b = 1\n",
        "\n",
        "equacao = input(\"Digite a fórmula geral da equação linear (a * x + b): \")\n",
        "print(f\"\\nA entrada do usuário {equacao} é do tipo {type(equacao)}\")\n",
        "\n",
        "for x in range(5):\n",
        "    y = eval(equacao)\n",
        "    print(f\"\\nResultado da equação para x = {x} é {y}\")"
      ]
    },
    {
      "cell_type": "code",
      "source": [
        "def imprimir_mensagem(disciplina, curso):\n",
        "    print(f\"Minha primeira função em Python desenvolvida na disciplina: {disciplina}, do curso: {curso}.\")  \n",
        "imprimir_mensagem(\"Python\", \"ADS\")\n"
      ],
      "metadata": {
        "colab": {
          "base_uri": "https://localhost:8080/"
        },
        "id": "Iy6g8UY-iMmY",
        "outputId": "ab00f3a1-b32d-4b5e-b444-93004f2aa25a"
      },
      "execution_count": null,
      "outputs": [
        {
          "output_type": "stream",
          "name": "stdout",
          "text": [
            "Minha primeira função em Python desenvolvida na disciplina: Python, do curso: ADS.\n"
          ]
        }
      ]
    },
    {
      "cell_type": "code",
      "source": [
        "def imprimir_mensagem(disciplina, curso):\n",
        "    print(f\"Minha primeira função em Python desenvolvida na disciplina: {disciplina}, do curso: {curso}.\")\n",
        "resultado = imprimir_mensagem(\"Python\", \"ADS\")\n",
        "print(f\"Resultado = {resultado}\")\n"
      ],
      "metadata": {
        "colab": {
          "base_uri": "https://localhost:8080/"
        },
        "id": "FgmIpdeni3uv",
        "outputId": "1b04ac62-bb7b-4465-b752-c5c620f6b994"
      },
      "execution_count": null,
      "outputs": [
        {
          "output_type": "stream",
          "name": "stdout",
          "text": [
            "Minha primeira função em Python desenvolvida na disciplina: Python, do curso: ADS.\n",
            "Resultado = None\n"
          ]
        }
      ]
    },
    {
      "cell_type": "code",
      "source": [
        "def imprimir_mensagem(disciplina, curso):\n",
        "    return f\"Minha primeira função em Python desenvolvida na disciplina: {disciplina}, do curso: {curso}.\"\n",
        "mensagem = imprimir_mensagem(\"Python\", \"ADS\")\n",
        "print(mensagem)"
      ],
      "metadata": {
        "colab": {
          "base_uri": "https://localhost:8080/"
        },
        "id": "Ku5JGlRWjipG",
        "outputId": "ad17d6bf-d246-4ab8-9cc2-5f3d4cc5314c"
      },
      "execution_count": null,
      "outputs": [
        {
          "output_type": "stream",
          "name": "stdout",
          "text": [
            "Minha primeira função em Python desenvolvida na disciplina: Python, do curso: ADS.\n"
          ]
        }
      ]
    },
    {
      "cell_type": "code",
      "source": [
        "def converter_mes_para_extenso(data):\n",
        "    mes = '''janeiro fevereiro março\n",
        "      abril maio junho julho agosto\n",
        "      setembro outubro novembro\n",
        "      dezembro'''.split()\n",
        "    d, m, a = data.split('/')\n",
        "    mes_extenso = mes[int(m) - 1] # O mês 1, estará na posição 0!\n",
        "    return f'{d} de {mes_extenso} de {a}'\n",
        "print(converter_mes_para_extenso('10/05/2021'))"
      ],
      "metadata": {
        "colab": {
          "base_uri": "https://localhost:8080/"
        },
        "id": "s8ILMCROln02",
        "outputId": "864e6542-957d-4060-e0a7-bdea0385f712"
      },
      "execution_count": null,
      "outputs": [
        {
          "output_type": "stream",
          "name": "stdout",
          "text": [
            "10 de maio de 2021\n"
          ]
        }
      ]
    },
    {
      "cell_type": "code",
      "source": [
        "def calcular_desconto(valor, desconto=0): # O parâmetro desconto possui zero valor default\n",
        "    valor_com_desconto = valor - (valor * desconto)\n",
        "    return valor_com_desconto\n",
        "\n",
        "valor1 = calcular_desconto(100) # Não aplicar nenhum desconto\n",
        "valor2 = calcular_desconto(100, 0.25) # Aplicar desconto de 25%\n",
        "\n",
        "print(f\"\\nPrimeiro valor a ser pago = {valor1}\")\n",
        "print(f\"\\nSegundo valor a ser pago = {valor2}\")"
      ],
      "metadata": {
        "colab": {
          "base_uri": "https://localhost:8080/"
        },
        "id": "tGLsRrtzm1fI",
        "outputId": "208b2f59-a0c2-47d7-c381-6947fe7c8e57"
      },
      "execution_count": null,
      "outputs": [
        {
          "output_type": "stream",
          "name": "stdout",
          "text": [
            "\n",
            "Primeiro valor a ser pago = 100\n",
            "\n",
            "Segundo valor a ser pago = 75.0\n"
          ]
        }
      ]
    },
    {
      "cell_type": "code",
      "source": [
        "def cadastrar_pessoa(nome, idade, cidade):\n",
        "    print(\"\\nDados a serem cadastrados:\")\n",
        "    print(f\"Nome: {nome}\")\n",
        "    print(f\"Idade: {idade}\")\n",
        "    print(f\"Cidade: {cidade}\")\n",
        "cadastrar_pessoa(\"João\", 23, \"São Paulo\")\n",
        "cadastrar_pessoa(\"São Paulo\", \"João\", 23)"
      ],
      "metadata": {
        "colab": {
          "base_uri": "https://localhost:8080/"
        },
        "id": "tCJ4BPWQozxX",
        "outputId": "9f065afa-5502-4500-e893-ab102ff73b62"
      },
      "execution_count": null,
      "outputs": [
        {
          "output_type": "stream",
          "name": "stdout",
          "text": [
            "\n",
            "Dados a serem cadastrados:\n",
            "Nome: João\n",
            "Idade: 23\n",
            "Cidade: São Paulo\n",
            "\n",
            "Dados a serem cadastrados:\n",
            "Nome: São Paulo\n",
            "Idade: João\n",
            "Cidade: 23\n"
          ]
        }
      ]
    },
    {
      "cell_type": "code",
      "source": [
        "def converter_maiuscula(texto, flag_maiuscula):\n",
        "    if flag_maiuscula:\n",
        "        return texto.upper()\n",
        "    else:\n",
        "        return texto.lower()\n",
        "texto = converter_maiuscula(flag_maiuscula=True, texto=\"João\") # Passagem nominal de parâmetros\n",
        "print(texto)"
      ],
      "metadata": {
        "colab": {
          "base_uri": "https://localhost:8080/"
        },
        "id": "d1bugRjppqKX",
        "outputId": "6a1c80e0-a24b-4e76-b878-1e5cd964990d"
      },
      "execution_count": null,
      "outputs": [
        {
          "output_type": "stream",
          "name": "stdout",
          "text": [
            "JOÃO\n"
          ]
        }
      ]
    },
    {
      "cell_type": "code",
      "source": [
        "def converter_minuscula(texto, flag_minuscula=True): # O parâmetro flag_minuscula possui True como valor default\n",
        "    if flag_minuscula:\n",
        "        return texto.lower()\n",
        "    else:\n",
        "        return texto.upper()\n",
        "texto1 = converter_minuscula(flag_minuscula=True, texto=\"LINGUAGEM de Programação\")\n",
        "texto2 = converter_minuscula(texto=\"LINGUAGEM de Programação\")\n",
        "print(f\"\\nTexto 1 = {texto1}\")\n",
        "print(f\"\\nTexto 2 = {texto2}\")"
      ],
      "metadata": {
        "colab": {
          "base_uri": "https://localhost:8080/"
        },
        "id": "BzpIMCr8qooO",
        "outputId": "a747c0ae-0c7f-4b8b-c37d-d0fd73aadcf4"
      },
      "execution_count": null,
      "outputs": [
        {
          "output_type": "stream",
          "name": "stdout",
          "text": [
            "\n",
            "Texto 1 = linguagem de programação\n",
            "\n",
            "Texto 2 = linguagem de programação\n"
          ]
        }
      ]
    },
    {
      "cell_type": "code",
      "source": [
        "def imprimir_parametros(*args):\n",
        "    qtde_parametros = len(args)\n",
        "    print(f\"Quantidade de parâmetros = {qtde_parametros}\")\n",
        "    for i, valor in enumerate(args):\n",
        "        print(f\"Posição = {i}, valor = {valor}\")    \n",
        "print(\"\\nChamada 1\")        \n",
        "imprimir_parametros(\"São Paulo\", 10, 23.78, \"João\")\n",
        "print(\"\\nChamada 2\")        \n",
        "imprimir_parametros(10, \"São Paulo\")"
      ],
      "metadata": {
        "colab": {
          "base_uri": "https://localhost:8080/"
        },
        "id": "I6aRJoeirRkG",
        "outputId": "bacbbac9-a6a2-4062-efdf-13309964f7c8"
      },
      "execution_count": null,
      "outputs": [
        {
          "output_type": "stream",
          "name": "stdout",
          "text": [
            "\n",
            "Chamada 1\n",
            "Quantidade de parâmetros = 4\n",
            "Posição = 0, valor = São Paulo\n",
            "Posição = 1, valor = 10\n",
            "Posição = 2, valor = 23.78\n",
            "Posição = 3, valor = João\n",
            "\n",
            "Chamada 2\n",
            "Quantidade de parâmetros = 2\n",
            "Posição = 0, valor = 10\n",
            "Posição = 1, valor = São Paulo\n"
          ]
        }
      ]
    },
    {
      "cell_type": "code",
      "source": [
        "def imprimir_parametros(**kwargs):\n",
        "    print(f\"Tipo de objeto recebido = {type(kwargs)}\\n\")\n",
        "    qtde_parametros = len(kwargs)\n",
        "    print(f\"Quantidade de parâmetros = {qtde_parametros}\")\n",
        "    for chave, valor in kwargs.items():\n",
        "        print(f\"variável = {chave}, valor = {valor}\")       \n",
        "print(\"\\nChamada 1\")        \n",
        "imprimir_parametros(cidade=\"São Paulo\", idade=33, nome=\"João\")\n",
        "print(\"\\nChamada 2\")        \n",
        "imprimir_parametros(desconto=10, valor=100)"
      ],
      "metadata": {
        "colab": {
          "base_uri": "https://localhost:8080/"
        },
        "id": "ftcahwtNsNTZ",
        "outputId": "e108ccc2-6c31-463e-9402-cdd92fa896f5"
      },
      "execution_count": null,
      "outputs": [
        {
          "output_type": "stream",
          "name": "stdout",
          "text": [
            "\n",
            "Chamada 1\n",
            "Tipo de objeto recebido = <class 'dict'>\n",
            "\n",
            "Quantidade de parâmetros = 3\n",
            "variável = cidade, valor = São Paulo\n",
            "variável = idade, valor = 33\n",
            "variável = nome, valor = João\n",
            "\n",
            "Chamada 2\n",
            "Tipo de objeto recebido = <class 'dict'>\n",
            "\n",
            "Quantidade de parâmetros = 2\n",
            "variável = desconto, valor = 10\n",
            "variável = valor, valor = 100\n"
          ]
        }
      ]
    },
    {
      "cell_type": "code",
      "source": [
        "(lambda x: x + 1)(x=3)"
      ],
      "metadata": {
        "colab": {
          "base_uri": "https://localhost:8080/"
        },
        "id": "K3AtFoCbthY4",
        "outputId": "8cde9b12-3764-4b93-f99f-bab77bf30f2a"
      },
      "execution_count": null,
      "outputs": [
        {
          "output_type": "execute_result",
          "data": {
            "text/plain": [
              "4"
            ]
          },
          "metadata": {},
          "execution_count": 16
        }
      ]
    },
    {
      "cell_type": "code",
      "source": [
        "(lambda x, y: x + y)(x=3, y=2)"
      ],
      "metadata": {
        "colab": {
          "base_uri": "https://localhost:8080/"
        },
        "id": "KFkU7-_St2lS",
        "outputId": "b8344e89-3f39-4aec-fd4e-3741134bc9ec"
      },
      "execution_count": null,
      "outputs": [
        {
          "output_type": "execute_result",
          "data": {
            "text/plain": [
              "5"
            ]
          },
          "metadata": {},
          "execution_count": 17
        }
      ]
    },
    {
      "cell_type": "code",
      "source": [
        "somar = lambda x, y: x + y\n",
        "somar(x=5, y=3)"
      ],
      "metadata": {
        "colab": {
          "base_uri": "https://localhost:8080/"
        },
        "id": "0yPFxZ9guJZK",
        "outputId": "b4b1c453-93af-48cc-c47d-2e6c01340bd6"
      },
      "execution_count": null,
      "outputs": [
        {
          "output_type": "execute_result",
          "data": {
            "text/plain": [
              "8"
            ]
          },
          "metadata": {},
          "execution_count": 18
        }
      ]
    },
    {
      "cell_type": "code",
      "source": [
        "def calcular_valor(valor_prod, qtde, moeda=\"real\", desconto=None, acrescimo=None):\n",
        "    v_bruto = valor_prod * qtde\n",
        "    \n",
        "    if desconto:\n",
        "        v_liquido = v_bruto - (v_bruto * (desconto / 100))\n",
        "    elif acrescimo:\n",
        "        v_liquido = v_bruto + (v_bruto * (acrescimo / 100))\n",
        "    else:\n",
        "        v_liquido = v_bruto\n",
        "    \n",
        "    if moeda == 'real':\n",
        "        return v_liquido\n",
        "    elif moeda == 'dolar':\n",
        "        return v_liquido * 5\n",
        "    elif moeda == 'euro':\n",
        "        return v_liquido * 5.7\n",
        "    else:\n",
        "        print(\"Moeda não cadastrada!\")\n",
        "        return 0\n",
        "\n",
        "    \n",
        "valor_a_pagar = calcular_valor(valor_prod=32, qtde=5, desconto=5)\n",
        "print(f\"O valor final da conta é {valor_a_pagar}\")"
      ],
      "metadata": {
        "colab": {
          "base_uri": "https://localhost:8080/"
        },
        "id": "8Nm75EPyvflc",
        "outputId": "ce78cf05-a6f1-45ad-f611-ecb2b213f4cf"
      },
      "execution_count": null,
      "outputs": [
        {
          "output_type": "stream",
          "name": "stdout",
          "text": [
            "O valor final da conta é 152.0\n"
          ]
        }
      ]
    },
    {
      "cell_type": "code",
      "source": [
        "def calcular_valor(valor_prod, qtde, moeda=\"real\", **kwargs):\n",
        "    v_bruto = valor_prod * qtde\n",
        "    \n",
        "    if 'desconto' in kwargs:\n",
        "        desconto = kwargs['desconto']\n",
        "        v_liquido = v_bruto - (v_bruto * (desconto / 100))\n",
        "    elif 'acrescimo' in kwargs:\n",
        "        acrescimo = kwargs['acrescimo']\n",
        "        v_liquido = v_bruto + (v_bruto * (acrescimo / 100))\n",
        "    else:\n",
        "        v_liquido = v_bruto\n",
        "    \n",
        "    if moeda == 'real':\n",
        "        return v_liquido\n",
        "    elif moeda == 'dolar':\n",
        "        return v_liquido * 5\n",
        "    elif moeda == 'euro':\n",
        "        return v_liquido * 5.7\n",
        "    else:\n",
        "        print(\"Moeda não cadastrada!\")\n",
        "        return 0\n",
        "\n",
        "    \n",
        "valor_a_pagar = calcular_valor(valor_prod=32, qtde=5, desconto=5)\n",
        "print(f\"O valor final da conta é {valor_a_pagar}\")"
      ],
      "metadata": {
        "id": "43ry9CB6wbmY",
        "outputId": "416369df-cf8d-4bdc-9efc-41ee8a143c8d",
        "colab": {
          "base_uri": "https://localhost:8080/"
        }
      },
      "execution_count": null,
      "outputs": [
        {
          "output_type": "stream",
          "name": "stdout",
          "text": [
            "O valor final da conta é 152.0\n"
          ]
        }
      ]
    }
  ]
}